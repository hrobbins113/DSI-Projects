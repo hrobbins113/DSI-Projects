{
 "cells": [
  {
   "cell_type": "code",
   "execution_count": 42,
   "metadata": {},
   "outputs": [],
   "source": [
    "import pandas as pd\n",
    "import numpy as np\n",
    "import matplotlib.pyplot as plt\n",
    "plt.style.use('seaborn-white')\n",
    "% matplotlib inline\n",
    "from geopy.distance import vincenty\n",
    "from datetime import datetime, timedelta\n",
    "from sklearn.cross_validation import train_test_split\n",
    "from sklearn.grid_search import GridSearchCV\n",
    "from sklearn.metrics import classification_report, confusion_matrix, accuracy_score\n",
    "from sklearn.ensemble import RandomForestClassifier \n",
    "from sklearn.metrics import roc_auc_score\n",
    "from sklearn.metrics import roc_curve, auc"
   ]
  },
  {
   "cell_type": "code",
   "execution_count": 43,
   "metadata": {
    "collapsed": true
   },
   "outputs": [],
   "source": [
    "dft = pd.read_csv('Crimes_-_2001_to_present.csv')\n",
    "\n",
    "#Dummy 'Domestic' and 'Arrest' Columns\n",
    "dft['Domestic'] = dft['Domestic'].apply(lambda x: 1 if x == True else 0)\n",
    "dft['Arrest'] = dft['Arrest'].apply(lambda x: 1 if x ==True else 0)\n",
    "\n",
    "#drop unneccesary columns\n",
    "dft.drop('FBI Code', axis=1, inplace = True)\n",
    "dft.drop('Updated On', axis=1, inplace = True)\n",
    "dft.drop('Primary Type', axis=1, inplace = True)\n",
    "dft.drop('IUCR', axis=1, inplace= True)\n",
    "dft.drop('X Coordinate', axis=1, inplace= True)\n",
    "dft.drop('Y Coordinate', axis=1, inplace= True)\n",
    "dft.drop('Location', axis=1, inplace= True)\n",
    "dft.drop('Block', axis=1, inplace= True)\n",
    "dft.drop('Ward', axis =1, inplace=True)\n",
    "dft.drop('Community Area', axis=1, inplace=True)\n",
    "dft.drop('District', axis=1, inplace=True)\n",
    "dft.drop('Beat', axis=1, inplace=True)\n",
    "\n",
    "#drop nulls from Lat/Long columns\n",
    "dft.dropna(subset=['Latitude', 'Longitude'], how='all', inplace=True)  #1394 rows will be dropped"
   ]
  },
  {
   "cell_type": "code",
   "execution_count": 44,
   "metadata": {
    "scrolled": true
   },
   "outputs": [
    {
     "data": {
      "text/plain": [
       "ID                                       6169464\n",
       "Case Number                             HP247247\n",
       "Date                      03/26/2008 04:00:00 AM\n",
       "Description                  AGGRAVATED: HANDGUN\n",
       "Location Description                      STREET\n",
       "Arrest                                         0\n",
       "Domestic                                       0\n",
       "Year                                        2008\n",
       "Latitude                                 36.6194\n",
       "Longitude                               -91.6866\n",
       "Nearest Police Station                   12144.3\n",
       "Name: 4049, dtype: object"
      ]
     },
     "execution_count": 44,
     "metadata": {},
     "output_type": "execute_result"
    }
   ],
   "source": [
    "#import police station data\n",
    "police_stations = pd.read_csv('Police_Stations.csv')\n",
    "\n",
    "#calculate distance from crime scene to nearest police station\n",
    "def distance_from_police_station(lon, lat):\n",
    "    min_dist = None\n",
    "    for coord in zip(police_stations['LONGITUDE'].values, police_stations['LATITUDE'].values):\n",
    "        if min_dist is None:\n",
    "            min_dist = vincenty((lon, lat), coord, ellipsoid='WGS-84').miles\n",
    "        else:\n",
    "            dist =  vincenty((lon, lat), coord, ellipsoid='WGS-84').miles\n",
    "            if dist < min_dist:\n",
    "                min_dist = dist\n",
    "    return min_dist\n",
    "\n",
    "dft['Nearest Police Station'] = dft.apply(lambda x: distance_from_police_station(x['Longitude'], x['Latitude']), axis=1)\n",
    "\n",
    "#check max and min distances\n",
    "dft.loc[dft['Nearest Police Station'].idxmin()]\n",
    "\n",
    "dft.loc[dft['Nearest Police Station'].idxmax()]\n"
   ]
  },
  {
   "cell_type": "code",
   "execution_count": 45,
   "metadata": {
    "collapsed": true
   },
   "outputs": [],
   "source": [
    "dft[dft['ID']== 6169464]\n",
    "\n",
    "dft.drop([4049], inplace=True)"
   ]
  },
  {
   "cell_type": "code",
   "execution_count": 46,
   "metadata": {
    "collapsed": true
   },
   "outputs": [],
   "source": [
    "#import campus location data\n",
    "chicago_campuses = pd.read_csv('ChicagoCampusCentralAddress.csv')\n",
    "\n",
    "chicago_campuses.dropna(how='all', inplace=True)\n",
    "\n",
    "#calculate distance from crime scene to nearest college/university campus\n",
    "def distance_from_campus(lon, lat):\n",
    "    min_dist = None\n",
    "    for coord in zip(chicago_campuses['Longitude'].values, chicago_campuses['Latitude'].values):\n",
    "        if min_dist is None:\n",
    "            min_dist = vincenty((lon, lat), coord, ellipsoid='WGS-84').miles\n",
    "        else:\n",
    "            dist =  vincenty((lon, lat), coord, ellipsoid='WGS-84').miles\n",
    "            if dist < min_dist:\n",
    "                min_dist = dist\n",
    "    return min_dist\n",
    "\n",
    "dft['Nearest Campus'] = dft.apply(lambda x: distance_from_campus(x['Longitude'], x['Latitude']), axis=1)\n",
    "\n",
    "#transform and seperate datetime data\n",
    "dft['Date']= pd.to_datetime(dft['Date'])\n",
    "\n",
    "dft['Hour'] = dft['Date'].apply(lambda x: int(datetime.strftime(x, \"%H\")))\n",
    "\n",
    "dft['Day of Month'] = dft['Date'].apply(lambda x: int(datetime.strftime(x, \"%d\")))\n",
    "dft['Month'] = dft['Date'].apply(lambda x: int(datetime.strftime(x, \"%m\")))\n",
    "dft['Day of Week'] = dft['Date'].apply(lambda x: datetime.strftime(x, \"%A\"))\n",
    "\n",
    "#also bin by time of day\n",
    "def binning(hours):\n",
    "    if hours >= 0 and hours <=5:\n",
    "        return 'Early Morning'\n",
    "    elif hours >= 6 and hours <= 11:\n",
    "        return 'Morning'\n",
    "    elif hours >= 12 and hours <= 17:\n",
    "        return 'Afternoon'\n",
    "    elif hours >= 18 and hours <= 23:\n",
    "        return 'Evening'\n",
    "    else:\n",
    "        hours = hours\n",
    "    return hours\n",
    "\n",
    "dft['Time of Day'] = dft['Hour'].apply(binning)\n",
    "\n",
    "#Categorize Description Column\n",
    "def categorize(crime): \n",
    "    if 'ATTEMPT NON-AGGRAVATED' in crime:\n",
    "        crime = 'ATTEMPT NON-AGGRAVATED'\n",
    "    elif 'NON-AGGRAVATED' in crime:\n",
    "        crime = 'NON-AGGRAVATED'\n",
    "    elif 'AGGRAVATED' in crime:\n",
    "         crime = 'AGGRAVATED'\n",
    "    elif 'ATTEMPT AGG' in crime:\n",
    "        crime = 'ATTEMPT-AGGRAVATED'\n",
    "    elif 'PREDATORY' in crime:\n",
    "        crime = 'PREDATORY'\n",
    "    else:\n",
    "         crime = crime\n",
    "    return crime\n",
    "\n",
    "dft['Description Categories'] = dft['Description'].apply(categorize)"
   ]
  },
  {
   "cell_type": "code",
   "execution_count": 47,
   "metadata": {
    "collapsed": true
   },
   "outputs": [],
   "source": [
    "#Fill 1 null in Location Description\n",
    "dft['Location Description'].fillna('RESIDENCE', inplace=True)\n",
    "\n",
    "#Further define/bin the Location Descriptions\n",
    "def define(location):\n",
    "    if 'RESIDENCE' in location:\n",
    "        location = 'Residential Property'\n",
    "    elif 'CHA' in location:\n",
    "        location = 'Public Housing'\n",
    "    elif 'APARTMENT' in location:\n",
    "        location = 'Residential Property'\n",
    "    elif 'RESIDENTIAL' in location:\n",
    "        location = 'Residential Property'\n",
    "    elif 'BARBER' in location:\n",
    "        location = 'Business'\n",
    "    elif 'BUSINESS' in location:\n",
    "        location = 'Business'\n",
    "    elif 'RETAIL' in location:\n",
    "        location = 'Business'\n",
    "    elif 'GAS' in location:\n",
    "        location = 'Business'\n",
    "    elif 'RESTAURANT' in location:\n",
    "        location = 'Business'\n",
    "    elif 'BAR' in location:\n",
    "        location = 'Business'\n",
    "    elif 'TAVERN' in location:\n",
    "        location = 'Business'\n",
    "    elif 'WAREHOUSE' in location:\n",
    "        location = 'Business'\n",
    "    elif 'STORE' in location:\n",
    "        location = 'Business'\n",
    "    elif 'OFFICE' in location:\n",
    "        location = 'Business'\n",
    "    elif 'THEATER' in location:\n",
    "        location = 'Business'\n",
    "    elif 'CLUB' in location:\n",
    "        location = 'Business'\n",
    "    elif 'BANK' in location:\n",
    "        location = 'Business'\n",
    "    elif 'FACTORY' in location:\n",
    "        location = 'Business'\n",
    "    elif 'ANIMAL' in location:\n",
    "        location = 'Business'\n",
    "    elif 'CAR WASH' in location:\n",
    "        location = 'Business'\n",
    "    elif 'HOTEL' in location:\n",
    "        location = 'Business'\n",
    "    elif 'STREET' in location:\n",
    "        location = 'Public'\n",
    "    elif 'ALLEY' in location:\n",
    "        location = 'Public'\n",
    "    elif 'SIDEWALK' in location:\n",
    "        location = 'Public'\n",
    "    elif 'LAKEFRONT' in location:\n",
    "        location = 'Public'\n",
    "    elif 'PARK' in location:\n",
    "        location = 'Public'\n",
    "    elif 'NON-RESIDENTIAL' in location:\n",
    "        location = 'Public'\n",
    "    elif 'BRIDGE' in location:\n",
    "        location = \"Public\"\n",
    "    elif 'SCHOOL' in location:\n",
    "        location = 'School'\n",
    "    elif 'COLLEGE' in location:\n",
    "        location = 'School'\n",
    "    elif 'HOSPITAL' in location:\n",
    "        location = 'Care Facility'\n",
    "    elif 'NURSING' in location:\n",
    "        location = 'Care Facility'\n",
    "    elif 'DAY CARE' in location:\n",
    "        location = 'Care Facility'\n",
    "    elif 'CTA' in location:\n",
    "        location = 'Public Transportation'\n",
    "    elif 'TAXI' in location:\n",
    "        location = 'Public Transportation'\n",
    "    elif 'RIDE SERVICE' in location:\n",
    "        location = 'Public Transportation'\n",
    "    elif 'RAILROAD' in location:\n",
    "        location = 'Public Transportation'\n",
    "    elif 'AIRPORT' in location:\n",
    "        location = 'Public Transportation'\n",
    "    elif 'VEHICLE NON' in location:\n",
    "        location = 'Private Vehicle'\n",
    "    elif 'BOAT' in location:\n",
    "        location = 'Private Vehicle'\n",
    "    elif 'ABANDON' in location:\n",
    "        location = 'Vacant Property'\n",
    "    elif 'VACANT' in location:\n",
    "        location = 'Vacant Property'\n",
    "    else:\n",
    "        location = 'Other'\n",
    "    return location   \n",
    "\n",
    "dft['Location Defined'] = dft['Location Description'].apply(define)"
   ]
  },
  {
   "cell_type": "code",
   "execution_count": 48,
   "metadata": {
    "collapsed": true
   },
   "outputs": [],
   "source": [
    "#make new dataframe with just the columns I want to work with\n",
    "dft2 = dft[['Location Defined', 'Description Categories', 'Time of Day', 'Day of Week', 'Month', 'Day of Month', 'Hour', 'Year', 'Nearest Campus', 'Nearest Police Station', 'Domestic', 'Arrest']] \n",
    "\n",
    "#make dummies for categorical columns\n",
    "\n",
    "Location_t = pd.get_dummies(dft2['Location Defined'])\n",
    "Description_t = pd.get_dummies(dft2['Description Categories'])\n",
    "TimeofDay_t = pd.get_dummies(dft2['Time of Day'])\n",
    "DayofWeek_t = pd.get_dummies(dft2['Day of Week'])\n",
    "DayofMonth_t = pd.get_dummies(dft2['Day of Month'], prefix= 'DayofMonth')\n",
    "Hour_t = pd.get_dummies(dft2['Hour'], prefix= 'Hour')\n",
    "Year_t = pd.get_dummies(dft2['Year'])\n",
    "Month_t = pd.get_dummies(dft2['Month'], prefix= 'Month')\n",
    "\n",
    "\n",
    "dft3 = pd.concat([dft2, Hour_t, Month_t, Year_t, DayofWeek_t, TimeofDay_t, Description_t, Location_t], axis=1)\n"
   ]
  },
  {
   "cell_type": "code",
   "execution_count": 49,
   "metadata": {},
   "outputs": [
    {
     "data": {
      "text/plain": [
       "0.6425808720112518"
      ]
     },
     "execution_count": 49,
     "metadata": {},
     "output_type": "execute_result"
    }
   ],
   "source": [
    "#define x and y\n",
    "\n",
    "yt = dft3['Arrest']\n",
    "xt = dft3[['Nearest Police Station', 'Nearest Campus', 'NON-AGGRAVATED', 'Residential Property', \n",
    "           'Domestic', 'PREDATORY', 'AGGRAVATED', 'Public', 2016, 2002, 'Early Morning', 'Saturday', \n",
    "           'Thursday', 'Evening', 'Sunday', 'Afternoon', 'Monday', 2001, 'Friday', 'Tuesday', 'Hour_0', \n",
    "           'Wednesday', 'Month_9', 'Month_7', 2004, 'Month_10', 'Month_6', 'Month_5']]\n",
    "\n",
    "#instantiate model\n",
    "rfct = RandomForestClassifier(class_weight = \"balanced\", max_depth=4, max_features=0.75, min_samples_leaf=6, n_estimators=30)\n",
    "\n",
    "x_train, x_test, y_train, y_test = train_test_split(xt,yt)\n",
    "\n",
    "rfct.fit(x_train, y_train)\n",
    "\n",
    "rfct.score(x_train, y_train)\n",
    "\n",
    "rfct.score(x_test, y_test)"
   ]
  },
  {
   "cell_type": "code",
   "execution_count": 50,
   "metadata": {
    "collapsed": true
   },
   "outputs": [],
   "source": [
    "#get reports \n",
    "def classifications(y_test, y_predict):\n",
    "    print 'Mean accuracy score %s ' % accuracy_score(y_test, y_predict), '\\n'\n",
    "    print confusion_matrix(y_test, y_predict), '\\n'\n",
    "    print classification_report(y_test, y_predict)\n"
   ]
  },
  {
   "cell_type": "code",
   "execution_count": 51,
   "metadata": {
    "scrolled": true
   },
   "outputs": [
    {
     "name": "stdout",
     "output_type": "stream",
     "text": [
      "Reports for Random Forest 2001-2016:\tMean accuracy score 0.642580872011  \n",
      "\n",
      "[[3145 1596]\n",
      " [ 437  510]] \n",
      "\n",
      "             precision    recall  f1-score   support\n",
      "\n",
      "          0       0.88      0.66      0.76      4741\n",
      "          1       0.24      0.54      0.33       947\n",
      "\n",
      "avg / total       0.77      0.64      0.69      5688\n",
      "\n",
      "None\n"
     ]
    }
   ],
   "source": [
    "print \"Reports for Random Forest 2001-2016:\\t\", classifications(y_test, rfct.predict(x_test))"
   ]
  },
  {
   "cell_type": "code",
   "execution_count": 79,
   "metadata": {},
   "outputs": [
    {
     "data": {
      "text/html": [
       "<div>\n",
       "<table border=\"1\" class=\"dataframe\">\n",
       "  <thead>\n",
       "    <tr style=\"text-align: right;\">\n",
       "      <th></th>\n",
       "      <th>predicted_no_arrest</th>\n",
       "      <th>predicted_arrest</th>\n",
       "    </tr>\n",
       "  </thead>\n",
       "  <tbody>\n",
       "    <tr>\n",
       "      <th>no_arrest_actual</th>\n",
       "      <td>3145</td>\n",
       "      <td>1596</td>\n",
       "    </tr>\n",
       "    <tr>\n",
       "      <th>arrest_actual</th>\n",
       "      <td>437</td>\n",
       "      <td>510</td>\n",
       "    </tr>\n",
       "  </tbody>\n",
       "</table>\n",
       "</div>"
      ],
      "text/plain": [
       "                  predicted_no_arrest  predicted_arrest\n",
       "no_arrest_actual                 3145              1596\n",
       "arrest_actual                     437               510"
      ]
     },
     "execution_count": 79,
     "metadata": {},
     "output_type": "execute_result"
    }
   ],
   "source": [
    "rfct_y_pred = rfct.predict(x_test)\n",
    "rfct_cm = np.array(confusion_matrix(y_test, rfct_y_pred))\n",
    "rfct_confusion = pd.DataFrame(rfct_cm, index=['no_arrest_actual', 'arrest_actual'], columns=['predicted_no_arrest', 'predicted_arrest'])\n",
    "rfct_confusion"
   ]
  },
  {
   "cell_type": "code",
   "execution_count": 80,
   "metadata": {
    "collapsed": true
   },
   "outputs": [],
   "source": [
    "df = pd.read_csv('Crimes_-_2017.csv')"
   ]
  },
  {
   "cell_type": "code",
   "execution_count": 81,
   "metadata": {},
   "outputs": [
    {
     "data": {
      "text/plain": [
       "ID                                             10848512\n",
       "Case Number                                    JA152510\n",
       "Date                             02/13/2017 04:58:00 PM\n",
       "Description               AGGRAVATED: OTHER DANG WEAPON\n",
       "Location Description      RESIDENTIAL YARD (FRONT/BACK)\n",
       "Arrest                                                0\n",
       "Domestic                                              0\n",
       "Year                                               2017\n",
       "Latitude                                        41.7813\n",
       "Longitude                                       -87.661\n",
       "Nearest Police Station                        0.0106673\n",
       "Name: 280, dtype: object"
      ]
     },
     "execution_count": 81,
     "metadata": {},
     "output_type": "execute_result"
    }
   ],
   "source": [
    "#Dummy 'Domestic' and 'Arrest' Columns\n",
    "df['Domestic'] = df['Domestic'].apply(lambda x: 1 if x == True else 0)\n",
    "df['Arrest'] = df['Arrest'].apply(lambda x: 1 if x ==True else 0)\n",
    "\n",
    "#drop unneccesary columns\n",
    "df.drop('FBI Code', axis=1, inplace = True)\n",
    "df.drop('Updated On', axis=1, inplace = True)\n",
    "df.drop('Primary Type', axis=1, inplace = True)\n",
    "df.drop('IUCR', axis=1, inplace= True)\n",
    "df.drop('X Coordinate', axis=1, inplace= True)\n",
    "df.drop('Y Coordinate', axis=1, inplace= True)\n",
    "df.drop('Location', axis=1, inplace= True)\n",
    "df.drop('Block', axis=1, inplace= True)\n",
    "df.drop('Ward', axis =1, inplace=True)\n",
    "df.drop('Community Area', axis=1, inplace=True)\n",
    "df.drop('District', axis=1, inplace=True)\n",
    "df.drop('Beat', axis=1, inplace=True)\n",
    "\n",
    "#drop nulls from Lat/Long columns\n",
    "df.dropna(subset=['Latitude', 'Longitude'], how='all', inplace=True)  #1394 rows will be dropped\n",
    "\n",
    "#import police station data\n",
    "police_stations = pd.read_csv('Police_Stations.csv')\n",
    "\n",
    "#calculate distance from crime scene to nearest police station\n",
    "def distance_from_police_station(lon, lat):\n",
    "    min_dist = None\n",
    "    for coord in zip(police_stations['LONGITUDE'].values, police_stations['LATITUDE'].values):\n",
    "        if min_dist is None:\n",
    "            min_dist = vincenty((lon, lat), coord, ellipsoid='WGS-84').miles\n",
    "        else:\n",
    "            dist =  vincenty((lon, lat), coord, ellipsoid='WGS-84').miles\n",
    "            if dist < min_dist:\n",
    "                min_dist = dist\n",
    "    return min_dist\n",
    "\n",
    "df['Nearest Police Station'] = df.apply(lambda x: distance_from_police_station(x['Longitude'], x['Latitude']), axis=1)\n",
    "\n",
    "#check max and min distances\n",
    "df.loc[df['Nearest Police Station'].idxmin()]\n",
    "\n"
   ]
  },
  {
   "cell_type": "code",
   "execution_count": 82,
   "metadata": {},
   "outputs": [
    {
     "data": {
      "text/plain": [
       "ID                                      10861226\n",
       "Case Number                             JA167258\n",
       "Date                      02/25/2017 01:00:00 AM\n",
       "Description                       NON-AGGRAVATED\n",
       "Location Description                 HOTEL/MOTEL\n",
       "Arrest                                         1\n",
       "Domestic                                       0\n",
       "Year                                        2017\n",
       "Latitude                                 41.9854\n",
       "Longitude                               -87.8298\n",
       "Nearest Police Station                    4.2814\n",
       "Name: 84, dtype: object"
      ]
     },
     "execution_count": 82,
     "metadata": {},
     "output_type": "execute_result"
    }
   ],
   "source": [
    "df.loc[df['Nearest Police Station'].idxmax()]"
   ]
  },
  {
   "cell_type": "code",
   "execution_count": 83,
   "metadata": {
    "collapsed": true
   },
   "outputs": [],
   "source": [
    "#import campus location data\n",
    "chicago_campuses = pd.read_csv('ChicagoCampusCentralAddress.csv')\n",
    "\n",
    "chicago_campuses.dropna(how='all', inplace=True)\n"
   ]
  },
  {
   "cell_type": "code",
   "execution_count": 84,
   "metadata": {
    "collapsed": true
   },
   "outputs": [],
   "source": [
    "#calculate distance from crime scene to nearest college/university campus\n",
    "def distance_from_campus(lon, lat):\n",
    "    min_dist = None\n",
    "    for coord in zip(chicago_campuses['Longitude'].values, chicago_campuses['Latitude'].values):\n",
    "        if min_dist is None:\n",
    "            min_dist = vincenty((lon, lat), coord, ellipsoid='WGS-84').miles\n",
    "        else:\n",
    "            dist =  vincenty((lon, lat), coord, ellipsoid='WGS-84').miles\n",
    "            if dist < min_dist:\n",
    "                min_dist = dist\n",
    "    return min_dist\n",
    "\n",
    "df['Nearest Campus'] = df.apply(lambda x: distance_from_campus(x['Longitude'], x['Latitude']), axis=1)"
   ]
  },
  {
   "cell_type": "code",
   "execution_count": 85,
   "metadata": {},
   "outputs": [
    {
     "data": {
      "text/plain": [
       "ID                                      10861226\n",
       "Case Number                             JA167258\n",
       "Date                      02/25/2017 01:00:00 AM\n",
       "Description                       NON-AGGRAVATED\n",
       "Location Description                 HOTEL/MOTEL\n",
       "Arrest                                         1\n",
       "Domestic                                       0\n",
       "Year                                        2017\n",
       "Latitude                                 41.9854\n",
       "Longitude                               -87.8298\n",
       "Nearest Police Station                    4.2814\n",
       "Nearest Campus                           7.63043\n",
       "Name: 84, dtype: object"
      ]
     },
     "execution_count": 85,
     "metadata": {},
     "output_type": "execute_result"
    }
   ],
   "source": [
    "#check max and min distances\n",
    "df.loc[df['Nearest Campus'].idxmax()]"
   ]
  },
  {
   "cell_type": "code",
   "execution_count": 86,
   "metadata": {
    "scrolled": true
   },
   "outputs": [
    {
     "data": {
      "text/plain": [
       "ID                                      10809363\n",
       "Case Number                             JA108675\n",
       "Date                      01/06/2017 03:00:00 AM\n",
       "Description                       NON-AGGRAVATED\n",
       "Location Description                   APARTMENT\n",
       "Arrest                                         1\n",
       "Domestic                                       1\n",
       "Year                                        2017\n",
       "Latitude                                 41.7219\n",
       "Longitude                               -87.6109\n",
       "Nearest Police Station                  0.377853\n",
       "Nearest Campus                        0.00689995\n",
       "Name: 407, dtype: object"
      ]
     },
     "execution_count": 86,
     "metadata": {},
     "output_type": "execute_result"
    }
   ],
   "source": [
    "df.loc[df['Nearest Campus'].idxmin()]"
   ]
  },
  {
   "cell_type": "code",
   "execution_count": 87,
   "metadata": {
    "collapsed": true
   },
   "outputs": [],
   "source": [
    "#transform and seperate datetime data\n",
    "df['Date']= pd.to_datetime(df['Date'])\n",
    "df['Hour'] = df['Date'].apply(lambda x: int(datetime.strftime(x, \"%H\")))\n",
    "df['Day of Month'] = df['Date'].apply(lambda x: int(datetime.strftime(x, \"%d\")))\n",
    "df['Month'] = df['Date'].apply(lambda x: int(datetime.strftime(x, \"%m\")))\n",
    "df['Day of Week'] = df['Date'].apply(lambda x: datetime.strftime(x, \"%A\"))"
   ]
  },
  {
   "cell_type": "code",
   "execution_count": 88,
   "metadata": {
    "collapsed": true
   },
   "outputs": [],
   "source": [
    "df['Month_1'] = df['Month'].apply(lambda x: 1 if x == 1 else 0)\n",
    "df['Month_2'] = df['Month'].apply(lambda x: 1 if x == 2 else 0)\n",
    "df['Month_3'] = df['Month'].apply(lambda x: 1 if x == 3 else 0)\n",
    "df['Month_4'] = df['Month'].apply(lambda x: 1 if x == 4 else 0)\n",
    "df['Month_5'] = df['Month'].apply(lambda x: 1 if x == 5 else 0)\n",
    "df['Month_6'] = df['Month'].apply(lambda x: 1 if x == 6 else 0)\n",
    "df['Month_7'] = df['Month'].apply(lambda x: 1 if x == 7 else 0)\n",
    "df['Month_8'] = df['Month'].apply(lambda x: 1 if x == 8 else 0)\n",
    "df['Month_9'] = df['Month'].apply(lambda x: 1 if x == 9 else 0)\n",
    "df['Month_10'] = df['Month'].apply(lambda x: 1 if x == 10 else 0)\n",
    "df['Month_11'] = df['Month'].apply(lambda x: 1 if x == 11 else 0)\n",
    "df['Month_12'] = df['Month'].apply(lambda x: 1 if x == 12 else 0)\n"
   ]
  },
  {
   "cell_type": "code",
   "execution_count": 89,
   "metadata": {
    "collapsed": true
   },
   "outputs": [],
   "source": [
    "years = [2001, 2002, 2003, 2004, 2005, 2006, 2007, 2008, 2009, 2010, 2011, 2012, 2013, 2014, 2015, 2016]\n",
    "for i in years:\n",
    "    df[i] = df['Year'].apply(lambda x: 1 if x==i else 0)"
   ]
  },
  {
   "cell_type": "code",
   "execution_count": 90,
   "metadata": {
    "collapsed": true
   },
   "outputs": [],
   "source": [
    "#also bin by time of day\n",
    "def binning(hours):\n",
    "    if hours >= 0 and hours <=5:\n",
    "        return 'Early Morning'\n",
    "    elif hours >= 6 and hours <= 11:\n",
    "        return 'Morning'\n",
    "    elif hours >= 12 and hours <= 17:\n",
    "        return 'Afternoon'\n",
    "    elif hours >= 18 and hours <= 23:\n",
    "        return 'Evening'\n",
    "    else:\n",
    "        hours = hours\n",
    "    return hours\n",
    "\n",
    "df['Time of Day'] = df['Hour'].apply(binning)\n"
   ]
  },
  {
   "cell_type": "code",
   "execution_count": 91,
   "metadata": {
    "collapsed": true
   },
   "outputs": [],
   "source": [
    "#Categorize Description Column\n",
    "def categorize(crime): \n",
    "    if 'ATTEMPT NON-AGGRAVATED' in crime:\n",
    "        crime = 'ATTEMPT NON-AGGRAVATED'\n",
    "    elif 'NON-AGGRAVATED' in crime:\n",
    "        crime = 'NON-AGGRAVATED'\n",
    "    elif 'AGGRAVATED' in crime:\n",
    "         crime = 'AGGRAVATED'\n",
    "    elif 'ATTEMPT AGG' in crime:\n",
    "        crime = 'ATTEMPT-AGGRAVATED'\n",
    "    elif 'PREDATORY' in crime:\n",
    "        crime = 'PREDATORY'\n",
    "    else:\n",
    "         crime = crime\n",
    "    return crime\n",
    "\n",
    "df['Description Categories'] = df['Description'].apply(categorize)"
   ]
  },
  {
   "cell_type": "code",
   "execution_count": 92,
   "metadata": {
    "collapsed": true
   },
   "outputs": [],
   "source": [
    "#Fill 1 null in Location Description\n",
    "df['Location Description'].fillna('RESIDENCE', inplace=True)"
   ]
  },
  {
   "cell_type": "code",
   "execution_count": 93,
   "metadata": {
    "collapsed": true
   },
   "outputs": [],
   "source": [
    "#Further define/bin the Location Descriptions\n",
    "def define(location):\n",
    "    if 'RESIDENCE' in location:\n",
    "        location = 'Residential Property'\n",
    "    elif 'CHA' in location:\n",
    "        location = 'Public Housing'\n",
    "    elif 'APARTMENT' in location:\n",
    "        location = 'Residential Property'\n",
    "    elif 'RESIDENTIAL' in location:\n",
    "        location = 'Residential Property'\n",
    "    elif 'BARBER' in location:\n",
    "        location = 'Business'\n",
    "    elif 'BUSINESS' in location:\n",
    "        location = 'Business'\n",
    "    elif 'RETAIL' in location:\n",
    "        location = 'Business'\n",
    "    elif 'GAS' in location:\n",
    "        location = 'Business'\n",
    "    elif 'RESTAURANT' in location:\n",
    "        location = 'Business'\n",
    "    elif 'BAR' in location:\n",
    "        location = 'Business'\n",
    "    elif 'TAVERN' in location:\n",
    "        location = 'Business'\n",
    "    elif 'WAREHOUSE' in location:\n",
    "        location = 'Business'\n",
    "    elif 'STORE' in location:\n",
    "        location = 'Business'\n",
    "    elif 'OFFICE' in location:\n",
    "        location = 'Business'\n",
    "    elif 'THEATER' in location:\n",
    "        location = 'Business'\n",
    "    elif 'CLUB' in location:\n",
    "        location = 'Business'\n",
    "    elif 'BANK' in location:\n",
    "        location = 'Business'\n",
    "    elif 'FACTORY' in location:\n",
    "        location = 'Business'\n",
    "    elif 'ANIMAL' in location:\n",
    "        location = 'Business'\n",
    "    elif 'CAR WASH' in location:\n",
    "        location = 'Business'\n",
    "    elif 'HOTEL' in location:\n",
    "        location = 'Business'\n",
    "    elif 'STREET' in location:\n",
    "        location = 'Public'\n",
    "    elif 'ALLEY' in location:\n",
    "        location = 'Public'\n",
    "    elif 'SIDEWALK' in location:\n",
    "        location = 'Public'\n",
    "    elif 'LAKEFRONT' in location:\n",
    "        location = 'Public'\n",
    "    elif 'PARK' in location:\n",
    "        location = 'Public'\n",
    "    elif 'NON-RESIDENTIAL' in location:\n",
    "        location = 'Public'\n",
    "    elif 'BRIDGE' in location:\n",
    "        location = \"Public\"\n",
    "    elif 'SCHOOL' in location:\n",
    "        location = 'School'\n",
    "    elif 'COLLEGE' in location:\n",
    "        location = 'School'\n",
    "    elif 'HOSPITAL' in location:\n",
    "        location = 'Care Facility'\n",
    "    elif 'NURSING' in location:\n",
    "        location = 'Care Facility'\n",
    "    elif 'DAY CARE' in location:\n",
    "        location = 'Care Facility'\n",
    "    elif 'CTA' in location:\n",
    "        location = 'Public Transportation'\n",
    "    elif 'TAXI' in location:\n",
    "        location = 'Public Transportation'\n",
    "    elif 'RIDE SERVICE' in location:\n",
    "        location = 'Public Transportation'\n",
    "    elif 'RAILROAD' in location:\n",
    "        location = 'Public Transportation'\n",
    "    elif 'AIRPORT' in location:\n",
    "        location = 'Public Transportation'\n",
    "    elif 'VEHICLE NON' in location:\n",
    "        location = 'Private Vehicle'\n",
    "    elif 'BOAT' in location:\n",
    "        location = 'Private Vehicle'\n",
    "    elif 'ABANDON' in location:\n",
    "        location = 'Vacant Property'\n",
    "    elif 'VACANT' in location:\n",
    "        location = 'Vacant Property'\n",
    "    else:\n",
    "        location = 'Other'\n",
    "    return location   \n",
    "\n",
    "df['Location Defined'] = df['Location Description'].apply(define)"
   ]
  },
  {
   "cell_type": "code",
   "execution_count": 94,
   "metadata": {
    "collapsed": true
   },
   "outputs": [],
   "source": [
    "#make new dataframe with just the columns I want to work with\n",
    "df2 = df[['Month_1', 'Month_2', 'Month_3', 'Month_4', 'Month_5', 'Month_6', 'Month_7', 'Month_8', 'Month_9', 'Month_10', 'Month_11', 'Month_12', 2001, 2002, 2003, 2004, 2005, 2006, 2007, 2008, 2009, 2010, 2011, 2012, 2013, 2014, 2015, 2016, 'Location Defined', 'Description Categories', 'Time of Day', 'Day of Week', 'Month', 'Day of Month', 'Hour', 'Year', 'Nearest Campus', 'Nearest Police Station', 'Domestic', 'Arrest']] "
   ]
  },
  {
   "cell_type": "code",
   "execution_count": 95,
   "metadata": {
    "collapsed": true
   },
   "outputs": [],
   "source": [
    "#make dummies for categorical columns\n",
    "\n",
    "Location = pd.get_dummies(df2['Location Defined'])\n",
    "Description = pd.get_dummies(df2['Description Categories'])\n",
    "TimeofDay = pd.get_dummies(df2['Time of Day'])\n",
    "DayofWeek = pd.get_dummies(df2['Day of Week'])\n",
    "DayofMonth = pd.get_dummies(df2['Day of Month'], prefix= 'DayofMonth')\n",
    "Hour_ = pd.get_dummies(df2['Hour'], prefix= 'Hour')\n",
    "\n",
    "df3 = pd.concat([df2, Hour_, DayofWeek, TimeofDay, Description, Location], axis=1)"
   ]
  },
  {
   "cell_type": "code",
   "execution_count": 104,
   "metadata": {
    "collapsed": true
   },
   "outputs": [],
   "source": [
    "#define x and y\n",
    "\n",
    "y = df3['Arrest']\n",
    "x = df3[['Nearest Police Station', 'Nearest Campus', 'NON-AGGRAVATED', 'Residential Property', 'Domestic', 'PREDATORY', 'AGGRAVATED', 'Public', 2016, 2002, 'Early Morning', 'Saturday', 'Thursday', 'Evening', 'Sunday', 'Afternoon', 'Monday', 2001, 'Friday', 'Tuesday', 'Hour_0', 'Wednesday', 'Month_9', 'Month_7', 2004, 'Month_10', 'Month_6', 'Month_5']]\n"
   ]
  },
  {
   "cell_type": "code",
   "execution_count": 105,
   "metadata": {},
   "outputs": [
    {
     "data": {
      "text/plain": [
       "0.71960297766749381"
      ]
     },
     "execution_count": 105,
     "metadata": {},
     "output_type": "execute_result"
    }
   ],
   "source": [
    "rfct.score(x, y)"
   ]
  },
  {
   "cell_type": "code",
   "execution_count": 106,
   "metadata": {},
   "outputs": [
    {
     "data": {
      "text/plain": [
       "0    394\n",
       "1      9\n",
       "Name: Arrest, dtype: int64"
      ]
     },
     "execution_count": 106,
     "metadata": {},
     "output_type": "execute_result"
    }
   ],
   "source": [
    "df3['Arrest'].value_counts()"
   ]
  },
  {
   "cell_type": "code",
   "execution_count": 107,
   "metadata": {
    "collapsed": true
   },
   "outputs": [],
   "source": [
    "# get reports for 2017 data\n",
    "def classifications(y_test, y_predict):\n",
    "    print 'Mean accuracy score %s ' % accuracy_score(y_test, y_predict), '\\n'\n",
    "    print confusion_matrix(y_test, y_predict), '\\n'\n",
    "    print classification_report(y_test, y_predict)    "
   ]
  },
  {
   "cell_type": "code",
   "execution_count": 108,
   "metadata": {
    "scrolled": true
   },
   "outputs": [
    {
     "name": "stdout",
     "output_type": "stream",
     "text": [
      "Reports for Random Forest 2017:\tMean accuracy score 0.719602977667  \n",
      "\n",
      "[[285 109]\n",
      " [  4   5]] \n",
      "\n",
      "             precision    recall  f1-score   support\n",
      "\n",
      "          0       0.99      0.72      0.83       394\n",
      "          1       0.04      0.56      0.08         9\n",
      "\n",
      "avg / total       0.97      0.72      0.82       403\n",
      "\n",
      "None\n"
     ]
    }
   ],
   "source": [
    "print \"Reports for Random Forest 2017:\\t\", classifications(y, rfct.predict(x))"
   ]
  },
  {
   "cell_type": "code",
   "execution_count": 115,
   "metadata": {},
   "outputs": [
    {
     "data": {
      "text/html": [
       "<div>\n",
       "<table border=\"1\" class=\"dataframe\">\n",
       "  <thead>\n",
       "    <tr style=\"text-align: right;\">\n",
       "      <th></th>\n",
       "      <th>predicted_no_arrest</th>\n",
       "      <th>predicted_arrest</th>\n",
       "    </tr>\n",
       "  </thead>\n",
       "  <tbody>\n",
       "    <tr>\n",
       "      <th>no_arrest_actual</th>\n",
       "      <td>285</td>\n",
       "      <td>109</td>\n",
       "    </tr>\n",
       "    <tr>\n",
       "      <th>arrest_actual</th>\n",
       "      <td>4</td>\n",
       "      <td>5</td>\n",
       "    </tr>\n",
       "  </tbody>\n",
       "</table>\n",
       "</div>"
      ],
      "text/plain": [
       "                  predicted_no_arrest  predicted_arrest\n",
       "no_arrest_actual                  285               109\n",
       "arrest_actual                       4                 5"
      ]
     },
     "execution_count": 115,
     "metadata": {},
     "output_type": "execute_result"
    }
   ],
   "source": [
    "rfc_y_pred = rfct.predict(x)\n",
    "rfc_cm = np.array(confusion_matrix(y, rfc_y_pred))\n",
    "rfc_confusion = pd.DataFrame(rfc_cm, index=['no_arrest_actual', 'arrest_actual'], columns=['predicted_no_arrest', 'predicted_arrest'])\n",
    "rfc_confusion"
   ]
  },
  {
   "cell_type": "code",
   "execution_count": 116,
   "metadata": {
    "collapsed": true
   },
   "outputs": [],
   "source": [
    "rfc_y_score = rfct.predict_proba(x)[:,1]"
   ]
  },
  {
   "cell_type": "code",
   "execution_count": 117,
   "metadata": {},
   "outputs": [
    {
     "name": "stdout",
     "output_type": "stream",
     "text": [
      "0.696418499718\n"
     ]
    }
   ],
   "source": [
    "print roc_auc_score(y, rfc_y_score)"
   ]
  },
  {
   "cell_type": "code",
   "execution_count": 111,
   "metadata": {
    "scrolled": true
   },
   "outputs": [
    {
     "data": {
      "text/plain": [
       "(array([ 0.        ,  0.00253807,  0.00253807,  0.00761421,  0.01269036,\n",
       "         0.0177665 ,  0.02284264,  0.02791878,  0.03807107,  0.04314721,\n",
       "         0.04568528,  0.04822335,  0.05329949,  0.05329949,  0.05837563,\n",
       "         0.06345178,  0.06852792,  0.09898477,  0.10406091,  0.10659898,\n",
       "         0.12690355,  0.13451777,  0.14213198,  0.14467005,  0.15736041,\n",
       "         0.16243655,  0.17005076,  0.1751269 ,  0.18020305,  0.19543147,\n",
       "         0.20050761,  0.20304569,  0.20812183,  0.22081218,  0.22588832,\n",
       "         0.2284264 ,  0.2284264 ,  0.23350254,  0.23857868,  0.24365482,\n",
       "         0.25126904,  0.25634518,  0.26142132,  0.26649746,  0.2715736 ,\n",
       "         0.27664975,  0.28680203,  0.29187817,  0.29949239,  0.31725888,\n",
       "         0.31725888,  0.35025381,  0.35532995,  0.35786802,  0.36294416,\n",
       "         0.36548223,  0.38324873,  0.39593909,  0.40609137,  0.50761421,\n",
       "         0.52030457,  0.52284264,  0.52791878,  0.53045685,  0.53807107,\n",
       "         0.64213198,  0.6751269 ,  0.68274112,  0.69543147,  0.69796954,\n",
       "         0.70304569,  0.70304569,  0.70812183,  0.72081218,  0.73096447,\n",
       "         0.73604061,  0.78172589,  0.78426396,  0.80456853,  0.80964467,\n",
       "         0.82741117,  0.83502538,  0.84010152,  0.88071066,  0.89593909,\n",
       "         0.90609137,  0.9213198 ,  0.92639594,  0.92893401,  0.93401015,\n",
       "         0.93908629,  0.94670051,  0.95939086,  0.96954315,  0.97208122,\n",
       "         0.98477157,  0.98984772,  0.99746193,  1.        ]),\n",
       " array([ 0.        ,  0.        ,  0.11111111,  0.11111111,  0.11111111,\n",
       "         0.11111111,  0.11111111,  0.11111111,  0.11111111,  0.11111111,\n",
       "         0.11111111,  0.22222222,  0.22222222,  0.33333333,  0.33333333,\n",
       "         0.33333333,  0.33333333,  0.33333333,  0.33333333,  0.33333333,\n",
       "         0.33333333,  0.33333333,  0.33333333,  0.33333333,  0.33333333,\n",
       "         0.33333333,  0.33333333,  0.33333333,  0.33333333,  0.33333333,\n",
       "         0.44444444,  0.44444444,  0.44444444,  0.44444444,  0.44444444,\n",
       "         0.44444444,  0.55555556,  0.55555556,  0.55555556,  0.55555556,\n",
       "         0.55555556,  0.55555556,  0.55555556,  0.55555556,  0.55555556,\n",
       "         0.55555556,  0.55555556,  0.55555556,  0.55555556,  0.55555556,\n",
       "         0.66666667,  0.66666667,  0.66666667,  0.66666667,  0.66666667,\n",
       "         0.66666667,  0.66666667,  0.66666667,  0.66666667,  0.77777778,\n",
       "         0.77777778,  0.77777778,  0.77777778,  0.77777778,  0.77777778,\n",
       "         0.77777778,  0.77777778,  0.77777778,  0.77777778,  0.77777778,\n",
       "         0.77777778,  0.88888889,  0.88888889,  0.88888889,  1.        ,\n",
       "         1.        ,  1.        ,  1.        ,  1.        ,  1.        ,\n",
       "         1.        ,  1.        ,  1.        ,  1.        ,  1.        ,\n",
       "         1.        ,  1.        ,  1.        ,  1.        ,  1.        ,\n",
       "         1.        ,  1.        ,  1.        ,  1.        ,  1.        ,\n",
       "         1.        ,  1.        ,  1.        ,  1.        ]),\n",
       " array([ 1.75300921,  0.75300921,  0.74324074,  0.73910644,  0.72733319,\n",
       "         0.71047271,  0.70757376,  0.70294115,  0.69510719,  0.69276071,\n",
       "         0.6901141 ,  0.68896734,  0.6751931 ,  0.67123627,  0.66311633,\n",
       "         0.6420286 ,  0.63811639,  0.636925  ,  0.63559538,  0.63296817,\n",
       "         0.63049178,  0.62315076,  0.61919393,  0.61132112,  0.61120201,\n",
       "         0.58622528,  0.56725328,  0.56146635,  0.55822842,  0.53244073,\n",
       "         0.52956222,  0.5292214 ,  0.52786463,  0.51852783,  0.51555356,\n",
       "         0.51527387,  0.51498299,  0.51453923,  0.51273213,  0.51234978,\n",
       "         0.51227531,  0.5112605 ,  0.50941669,  0.50514716,  0.50324427,\n",
       "         0.50025278,  0.49973594,  0.49704113,  0.49599827,  0.47948358,\n",
       "         0.47422377,  0.43695962,  0.43466459,  0.43460147,  0.43107523,\n",
       "         0.43016305,  0.41317191,  0.4102458 ,  0.40642025,  0.40056682,\n",
       "         0.39987667,  0.39638648,  0.39597093,  0.39381516,  0.39059955,\n",
       "         0.38727158,  0.38336583,  0.37776233,  0.37124647,  0.37054314,\n",
       "         0.36307667,  0.3419786 ,  0.34017921,  0.32375025,  0.32350897,\n",
       "         0.31960323,  0.31689269,  0.31572941,  0.31371741,  0.31310283,\n",
       "         0.31088761,  0.30836397,  0.30664069,  0.30647043,  0.30276763,\n",
       "         0.30256468,  0.29191727,  0.29159216,  0.28821447,  0.28631377,\n",
       "         0.28230681,  0.28090897,  0.26172365,  0.26127942,  0.25907109,\n",
       "         0.25757662,  0.2563219 ,  0.25492407,  0.25122127]))"
      ]
     },
     "execution_count": 111,
     "metadata": {},
     "output_type": "execute_result"
    }
   ],
   "source": [
    "rfc_FPR = dict()\n",
    "rfc_TPR = dict()\n",
    "rfc_ROC_AUC = dict()\n",
    "\n",
    "#for class 1 (arrest), find the AUC:\n",
    "roc_curve(y, rfc_y_score)"
   ]
  },
  {
   "cell_type": "code",
   "execution_count": 112,
   "metadata": {
    "collapsed": true
   },
   "outputs": [],
   "source": [
    "rfc_FPR[1], rfc_TPR[1], _ = roc_curve(y, rfc_y_score)\n",
    "rfc_ROC_AUC[1] = auc(rfc_FPR[1], rfc_TPR[1])"
   ]
  },
  {
   "cell_type": "code",
   "execution_count": 118,
   "metadata": {},
   "outputs": [
    {
     "data": {
      "image/png": "[encoded data removed]",
      "text/plain": [
       "<matplotlib.figure.Figure at 0x10f6a1a50>"
      ]
     },
     "metadata": {},
     "output_type": "display_data"
    }
   ],
   "source": [
    "plt.figure(figsize=[7,5])\n",
    "plt.plot(rfc_FPR[1], rfc_TPR[1], label='ROC curve (area = %0.3f)' % rfc_ROC_AUC[1], linewidth=3)\n",
    "plt.plot([0, 1], [0, 1], 'k--', linewidth=3)\n",
    "plt.xlim([0.0, 1])\n",
    "plt.ylim([0.0, 1])\n",
    "plt.xlabel('False Positive Rate', fontsize=18)\n",
    "plt.ylabel('True Positive Rate', fontsize=18)\n",
    "plt.title('Random Forest Classifier ROC Curve', fontsize=18)\n",
    "plt.legend(loc=\"lower right\")\n",
    "plt.show()"
   ]
  },
  {
   "cell_type": "code",
   "execution_count": null,
   "metadata": {
    "collapsed": true
   },
   "outputs": [],
   "source": []
  },
  {
   "cell_type": "code",
   "execution_count": null,
   "metadata": {
    "collapsed": true
   },
   "outputs": [],
   "source": []
  }
 ],
 "metadata": {
  "kernelspec": {
   "display_name": "Python 2",
   "language": "python",
   "name": "python2"
  },
  "language_info": {
   "codemirror_mode": {
    "name": "ipython",
    "version": 2
   },
   "file_extension": ".py",
   "mimetype": "text/x-python",
   "name": "python",
   "nbconvert_exporter": "python",
   "pygments_lexer": "ipython2",
   "version": "2.7.13"
  }
 },
 "nbformat": 4,
 "nbformat_minor": 2
}
