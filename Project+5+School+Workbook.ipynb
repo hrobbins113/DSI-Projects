{
 "cells": [
  {
   "cell_type": "code",
   "execution_count": 527,
   "metadata": {
    "collapsed": true
   },
   "outputs": [],
   "source": [
    "# Objective: Your task within this classification challenge is \n",
    "# to predict which schools are on probation as of 2011-2012 and which are not."
   ]
  },
  {
   "cell_type": "code",
   "execution_count": 528,
   "metadata": {
    "collapsed": true
   },
   "outputs": [],
   "source": [
    "import pandas as pd \n",
    "import numpy as np \n",
    "import matplotlib.pyplot as plt\n",
    "%matplotlib inline\n",
    "from sklearn.cross_validation import train_test_split\n",
    "from sklearn.ensemble import RandomForestClassifier\n",
    "from sklearn.grid_search import GridSearchCV\n",
    "\n",
    "df = pd.read_csv('school_data_training.csv')"
   ]
  },
  {
   "cell_type": "code",
   "execution_count": 529,
   "metadata": {
    "scrolled": true
   },
   "outputs": [
    {
     "data": {
      "text/html": [
       "<div>\n",
       "<table border=\"1\" class=\"dataframe\">\n",
       "  <thead>\n",
       "    <tr style=\"text-align: right;\">\n",
       "      <th></th>\n",
       "      <th>Name of School</th>\n",
       "      <th>Elementary, Middle, or High School</th>\n",
       "      <th>Street Address</th>\n",
       "      <th>ZIP Code</th>\n",
       "      <th>Link</th>\n",
       "      <th>Healthy Schools Certified?</th>\n",
       "      <th>Safety Icon</th>\n",
       "      <th>Safety Score</th>\n",
       "      <th>Family Involvement Icon</th>\n",
       "      <th>Family Involvement Score</th>\n",
       "      <th>...</th>\n",
       "      <th>College Enrollment Rate %</th>\n",
       "      <th>College Enrollment (number of students)</th>\n",
       "      <th>General Services Route</th>\n",
       "      <th>Freshman on Track Rate %</th>\n",
       "      <th>Community Area Number</th>\n",
       "      <th>Community Area Name</th>\n",
       "      <th>Ward</th>\n",
       "      <th>Police District</th>\n",
       "      <th>probation</th>\n",
       "      <th>Id</th>\n",
       "    </tr>\n",
       "  </thead>\n",
       "  <tbody>\n",
       "    <tr>\n",
       "      <th>0</th>\n",
       "      <td>John Spry Elementary Community School</td>\n",
       "      <td>ES</td>\n",
       "      <td>2400 S Marshall Blvd</td>\n",
       "      <td>60623</td>\n",
       "      <td>http://schoolreports.cps.edu/SchoolProgressRep...</td>\n",
       "      <td>No</td>\n",
       "      <td>Strong</td>\n",
       "      <td>66.0</td>\n",
       "      <td>Average</td>\n",
       "      <td>59</td>\n",
       "      <td>...</td>\n",
       "      <td>NDA</td>\n",
       "      <td>809</td>\n",
       "      <td>39</td>\n",
       "      <td>NDA</td>\n",
       "      <td>30</td>\n",
       "      <td>SOUTH LAWNDALE</td>\n",
       "      <td>12</td>\n",
       "      <td>10</td>\n",
       "      <td>0</td>\n",
       "      <td>610184</td>\n",
       "    </tr>\n",
       "    <tr>\n",
       "      <th>1</th>\n",
       "      <td>Thomas A Edison Regional Gifted Center Element...</td>\n",
       "      <td>ES</td>\n",
       "      <td>4929 N Sawyer Ave</td>\n",
       "      <td>60625</td>\n",
       "      <td>http://schoolreports.cps.edu/SchoolProgressRep...</td>\n",
       "      <td>No</td>\n",
       "      <td>Very Strong</td>\n",
       "      <td>91.0</td>\n",
       "      <td>NDA</td>\n",
       "      <td>NDA</td>\n",
       "      <td>...</td>\n",
       "      <td>NDA</td>\n",
       "      <td>269</td>\n",
       "      <td>31</td>\n",
       "      <td>NDA</td>\n",
       "      <td>14</td>\n",
       "      <td>ALBANY PARK</td>\n",
       "      <td>39</td>\n",
       "      <td>17</td>\n",
       "      <td>0</td>\n",
       "      <td>609794</td>\n",
       "    </tr>\n",
       "    <tr>\n",
       "      <th>2</th>\n",
       "      <td>Milton Brunson Math &amp; Science Specialty Elemen...</td>\n",
       "      <td>ES</td>\n",
       "      <td>932 N Central Ave</td>\n",
       "      <td>60651</td>\n",
       "      <td>http://schoolreports.cps.edu/SchoolProgressRep...</td>\n",
       "      <td>No</td>\n",
       "      <td>Weak</td>\n",
       "      <td>30.0</td>\n",
       "      <td>NDA</td>\n",
       "      <td>NDA</td>\n",
       "      <td>...</td>\n",
       "      <td>NDA</td>\n",
       "      <td>658</td>\n",
       "      <td>36</td>\n",
       "      <td>NDA</td>\n",
       "      <td>25</td>\n",
       "      <td>AUSTIN</td>\n",
       "      <td>29</td>\n",
       "      <td>15</td>\n",
       "      <td>1</td>\n",
       "      <td>609830</td>\n",
       "    </tr>\n",
       "    <tr>\n",
       "      <th>3</th>\n",
       "      <td>Emil G Hirsch Metropolitan High School</td>\n",
       "      <td>HS</td>\n",
       "      <td>7740 S Ingleside Ave</td>\n",
       "      <td>60619</td>\n",
       "      <td>http://schoolreports.cps.edu/SchoolProgressRep...</td>\n",
       "      <td>No</td>\n",
       "      <td>Very Weak</td>\n",
       "      <td>13.0</td>\n",
       "      <td>Average</td>\n",
       "      <td>46</td>\n",
       "      <td>...</td>\n",
       "      <td>45.1</td>\n",
       "      <td>458</td>\n",
       "      <td>46</td>\n",
       "      <td>69.5</td>\n",
       "      <td>69</td>\n",
       "      <td>GREATER GRAND CROSSING</td>\n",
       "      <td>8</td>\n",
       "      <td>6</td>\n",
       "      <td>1</td>\n",
       "      <td>609712</td>\n",
       "    </tr>\n",
       "    <tr>\n",
       "      <th>4</th>\n",
       "      <td>Lawndale Elementary Community Academy</td>\n",
       "      <td>ES</td>\n",
       "      <td>3500 W Douglas Blvd</td>\n",
       "      <td>60623</td>\n",
       "      <td>http://schoolreports.cps.edu/SchoolProgressRep...</td>\n",
       "      <td>No</td>\n",
       "      <td>NDA</td>\n",
       "      <td>NaN</td>\n",
       "      <td>NDA</td>\n",
       "      <td>NDA</td>\n",
       "      <td>...</td>\n",
       "      <td>NDA</td>\n",
       "      <td>508</td>\n",
       "      <td>37</td>\n",
       "      <td>NDA</td>\n",
       "      <td>29</td>\n",
       "      <td>NORTH LAWNDALE</td>\n",
       "      <td>24</td>\n",
       "      <td>10</td>\n",
       "      <td>1</td>\n",
       "      <td>610034</td>\n",
       "    </tr>\n",
       "  </tbody>\n",
       "</table>\n",
       "<p>5 rows × 65 columns</p>\n",
       "</div>"
      ],
      "text/plain": [
       "                                      Name of School  \\\n",
       "0              John Spry Elementary Community School   \n",
       "1  Thomas A Edison Regional Gifted Center Element...   \n",
       "2  Milton Brunson Math & Science Specialty Elemen...   \n",
       "3             Emil G Hirsch Metropolitan High School   \n",
       "4              Lawndale Elementary Community Academy   \n",
       "\n",
       "  Elementary, Middle, or High School         Street Address  ZIP Code  \\\n",
       "0                                 ES  2400 S Marshall Blvd      60623   \n",
       "1                                 ES     4929 N Sawyer Ave      60625   \n",
       "2                                 ES     932 N Central Ave      60651   \n",
       "3                                 HS  7740 S Ingleside Ave      60619   \n",
       "4                                 ES   3500 W Douglas Blvd      60623   \n",
       "\n",
       "                                               Link   \\\n",
       "0  http://schoolreports.cps.edu/SchoolProgressRep...   \n",
       "1  http://schoolreports.cps.edu/SchoolProgressRep...   \n",
       "2  http://schoolreports.cps.edu/SchoolProgressRep...   \n",
       "3  http://schoolreports.cps.edu/SchoolProgressRep...   \n",
       "4  http://schoolreports.cps.edu/SchoolProgressRep...   \n",
       "\n",
       "  Healthy Schools Certified? Safety Icon   Safety Score  \\\n",
       "0                         No       Strong          66.0   \n",
       "1                         No  Very Strong          91.0   \n",
       "2                         No         Weak          30.0   \n",
       "3                         No    Very Weak          13.0   \n",
       "4                         No          NDA           NaN   \n",
       "\n",
       "  Family Involvement Icon Family Involvement Score   ...    \\\n",
       "0                 Average                       59   ...     \n",
       "1                     NDA                      NDA   ...     \n",
       "2                     NDA                      NDA   ...     \n",
       "3                 Average                       46   ...     \n",
       "4                     NDA                      NDA   ...     \n",
       "\n",
       "  College Enrollment Rate %  College Enrollment (number of students)   \\\n",
       "0                       NDA                                       809   \n",
       "1                       NDA                                       269   \n",
       "2                       NDA                                       658   \n",
       "3                      45.1                                       458   \n",
       "4                       NDA                                       508   \n",
       "\n",
       "  General Services Route   Freshman on Track Rate % Community Area Number  \\\n",
       "0                      39                       NDA                    30   \n",
       "1                      31                       NDA                    14   \n",
       "2                      36                       NDA                    25   \n",
       "3                      46                      69.5                    69   \n",
       "4                      37                       NDA                    29   \n",
       "\n",
       "      Community Area Name Ward Police District probation      Id  \n",
       "0          SOUTH LAWNDALE   12              10         0  610184  \n",
       "1             ALBANY PARK   39              17         0  609794  \n",
       "2                  AUSTIN   29              15         1  609830  \n",
       "3  GREATER GRAND CROSSING    8               6         1  609712  \n",
       "4          NORTH LAWNDALE   24              10         1  610034  \n",
       "\n",
       "[5 rows x 65 columns]"
      ]
     },
     "execution_count": 529,
     "metadata": {},
     "output_type": "execute_result"
    }
   ],
   "source": [
    "df.head()"
   ]
  },
  {
   "cell_type": "code",
   "execution_count": 530,
   "metadata": {},
   "outputs": [
    {
     "data": {
      "text/plain": [
       "(414, 65)"
      ]
     },
     "execution_count": 530,
     "metadata": {},
     "output_type": "execute_result"
    }
   ],
   "source": [
    "df.shape"
   ]
  },
  {
   "cell_type": "code",
   "execution_count": 531,
   "metadata": {},
   "outputs": [
    {
     "name": "stdout",
     "output_type": "stream",
     "text": [
      "<class 'pandas.core.frame.DataFrame'>\n",
      "RangeIndex: 414 entries, 0 to 413\n",
      "Data columns (total 65 columns):\n",
      "Name of School                                       414 non-null object\n",
      "Elementary, Middle, or High School                   414 non-null object\n",
      "Street Address                                       414 non-null object\n",
      "ZIP Code                                             414 non-null int64\n",
      "Link                                                 414 non-null object\n",
      "Healthy Schools Certified?                           414 non-null object\n",
      "Safety Icon                                          414 non-null object\n",
      "Safety Score                                         380 non-null float64\n",
      "Family Involvement Icon                              414 non-null object\n",
      "Family Involvement Score                             414 non-null object\n",
      "Environment Icon                                     414 non-null object\n",
      "Environment Score                                    380 non-null float64\n",
      "Instruction Icon                                     414 non-null object\n",
      "Instruction Score                                    380 non-null float64\n",
      "Leaders Icon                                         414 non-null object\n",
      "Leaders Score                                        414 non-null object\n",
      "Teachers Icon                                        414 non-null object\n",
      "Teachers Score                                       414 non-null object\n",
      "Parent Engagement Icon                               414 non-null object\n",
      "Parent Engagement Score                              414 non-null object\n",
      "Parent Environment Icon                              414 non-null object\n",
      "Parent Environment Score                             414 non-null object\n",
      "Average Student Attendance                           414 non-null object\n",
      "Rate of Misconducts (per 100 students)               414 non-null float64\n",
      "Average Teacher Attendance                           414 non-null object\n",
      "Individualized Education Program Compliance Rate     414 non-null object\n",
      "Pk-2 Literacy %                                      414 non-null object\n",
      "Pk-2 Math %                                          414 non-null object\n",
      "Gr3-5 Grade Level Math %                             414 non-null object\n",
      "Gr3-5 Grade Level Read %                             414 non-null object\n",
      "Gr3-5 Keep Pace Read %                               414 non-null object\n",
      "Gr3-5 Keep Pace Math %                               414 non-null object\n",
      "Gr6-8 Grade Level Math %                             414 non-null object\n",
      "Gr6-8 Grade Level Read %                             414 non-null object\n",
      "Gr6-8 Keep Pace Math%                                414 non-null object\n",
      "Gr6-8 Keep Pace Read %                               414 non-null object\n",
      "Gr-8 Explore Math %                                  414 non-null object\n",
      "Gr-8 Explore Read %                                  414 non-null object\n",
      "ISAT Exceeding Math %                                354 non-null float64\n",
      "ISAT Exceeding Reading %                             354 non-null float64\n",
      "ISAT Value Add Math                                  348 non-null float64\n",
      "ISAT Value Add Read                                  348 non-null float64\n",
      "ISAT Value Add Color Math                            414 non-null object\n",
      "ISAT Value Add Color Read                            414 non-null object\n",
      "Students Taking  Algebra %                           414 non-null object\n",
      "Students Passing  Algebra %                          414 non-null object\n",
      "9th Grade EXPLORE (2009)                             414 non-null object\n",
      "9th Grade EXPLORE (2010)                             414 non-null object\n",
      "10th Grade PLAN (2009)                               414 non-null object\n",
      "10th Grade PLAN (2010)                               414 non-null object\n",
      "Net Change EXPLORE and PLAN                          414 non-null object\n",
      "11th Grade Average ACT (2011)                        414 non-null object\n",
      "Net Change PLAN and ACT                              414 non-null object\n",
      "College Eligibility %                                414 non-null object\n",
      "Graduation Rate %                                    414 non-null object\n",
      "College Enrollment Rate %                            414 non-null object\n",
      "College Enrollment (number of students)              414 non-null int64\n",
      "General Services Route                               414 non-null int64\n",
      "Freshman on Track Rate %                             414 non-null object\n",
      "Community Area Number                                414 non-null int64\n",
      "Community Area Name                                  414 non-null object\n",
      "Ward                                                 414 non-null int64\n",
      "Police District                                      414 non-null int64\n",
      "probation                                            414 non-null int64\n",
      "Id                                                   414 non-null int64\n",
      "dtypes: float64(8), int64(8), object(49)\n",
      "memory usage: 210.3+ KB\n"
     ]
    }
   ],
   "source": [
    "df.info()"
   ]
  },
  {
   "cell_type": "code",
   "execution_count": 532,
   "metadata": {},
   "outputs": [
    {
     "data": {
      "text/plain": [
       "Name of School                                        0\n",
       "Elementary, Middle, or High School                    0\n",
       "Street Address                                        0\n",
       "ZIP Code                                              0\n",
       "Link                                                  0\n",
       "Healthy Schools Certified?                            0\n",
       "Safety Icon                                           0\n",
       "Safety Score                                         34\n",
       "Family Involvement Icon                               0\n",
       "Family Involvement Score                              0\n",
       "Environment Icon                                      0\n",
       "Environment Score                                    34\n",
       "Instruction Icon                                      0\n",
       "Instruction Score                                    34\n",
       "Leaders Icon                                          0\n",
       "Leaders Score                                         0\n",
       "Teachers Icon                                         0\n",
       "Teachers Score                                        0\n",
       "Parent Engagement Icon                                0\n",
       "Parent Engagement Score                               0\n",
       "Parent Environment Icon                               0\n",
       "Parent Environment Score                              0\n",
       "Average Student Attendance                            0\n",
       "Rate of Misconducts (per 100 students)                0\n",
       "Average Teacher Attendance                            0\n",
       "Individualized Education Program Compliance Rate      0\n",
       "Pk-2 Literacy %                                       0\n",
       "Pk-2 Math %                                           0\n",
       "Gr3-5 Grade Level Math %                              0\n",
       "Gr3-5 Grade Level Read %                              0\n",
       "                                                     ..\n",
       "Gr6-8 Keep Pace Read %                                0\n",
       "Gr-8 Explore Math %                                   0\n",
       "Gr-8 Explore Read %                                   0\n",
       "ISAT Exceeding Math %                                60\n",
       "ISAT Exceeding Reading %                             60\n",
       "ISAT Value Add Math                                  66\n",
       "ISAT Value Add Read                                  66\n",
       "ISAT Value Add Color Math                             0\n",
       "ISAT Value Add Color Read                             0\n",
       "Students Taking  Algebra %                            0\n",
       "Students Passing  Algebra %                           0\n",
       "9th Grade EXPLORE (2009)                              0\n",
       "9th Grade EXPLORE (2010)                              0\n",
       "10th Grade PLAN (2009)                                0\n",
       "10th Grade PLAN (2010)                                0\n",
       "Net Change EXPLORE and PLAN                           0\n",
       "11th Grade Average ACT (2011)                         0\n",
       "Net Change PLAN and ACT                               0\n",
       "College Eligibility %                                 0\n",
       "Graduation Rate %                                     0\n",
       "College Enrollment Rate %                             0\n",
       "College Enrollment (number of students)               0\n",
       "General Services Route                                0\n",
       "Freshman on Track Rate %                              0\n",
       "Community Area Number                                 0\n",
       "Community Area Name                                   0\n",
       "Ward                                                  0\n",
       "Police District                                       0\n",
       "probation                                             0\n",
       "Id                                                    0\n",
       "dtype: int64"
      ]
     },
     "execution_count": 532,
     "metadata": {},
     "output_type": "execute_result"
    }
   ],
   "source": [
    "df.isnull().sum()"
   ]
  },
  {
   "cell_type": "code",
   "execution_count": 533,
   "metadata": {},
   "outputs": [
    {
     "data": {
      "text/plain": [
       "Index([u'Name of School', u'Elementary, Middle, or High School',\n",
       "       u'Street Address', u'ZIP Code', u'Link ', u'Healthy Schools Certified?',\n",
       "       u'Safety Icon ', u'Safety Score', u'Family Involvement Icon',\n",
       "       u'Family Involvement Score', u'Environment Icon ', u'Environment Score',\n",
       "       u'Instruction Icon ', u'Instruction Score', u'Leaders Icon ',\n",
       "       u'Leaders Score ', u'Teachers Icon ', u'Teachers Score',\n",
       "       u'Parent Engagement Icon ', u'Parent Engagement Score',\n",
       "       u'Parent Environment Icon', u'Parent Environment Score',\n",
       "       u'Average Student Attendance',\n",
       "       u'Rate of Misconducts (per 100 students) ',\n",
       "       u'Average Teacher Attendance',\n",
       "       u'Individualized Education Program Compliance Rate ',\n",
       "       u'Pk-2 Literacy %', u'Pk-2 Math %', u'Gr3-5 Grade Level Math %',\n",
       "       u'Gr3-5 Grade Level Read % ', u'Gr3-5 Keep Pace Read %',\n",
       "       u'Gr3-5 Keep Pace Math %', u'Gr6-8 Grade Level Math %',\n",
       "       u'Gr6-8 Grade Level Read %', u'Gr6-8 Keep Pace Math%',\n",
       "       u'Gr6-8 Keep Pace Read %', u'Gr-8 Explore Math %',\n",
       "       u'Gr-8 Explore Read %', u'ISAT Exceeding Math %',\n",
       "       u'ISAT Exceeding Reading % ', u'ISAT Value Add Math',\n",
       "       u'ISAT Value Add Read', u'ISAT Value Add Color Math',\n",
       "       u'ISAT Value Add Color Read', u'Students Taking  Algebra %',\n",
       "       u'Students Passing  Algebra %', u'9th Grade EXPLORE (2009) ',\n",
       "       u'9th Grade EXPLORE (2010) ', u'10th Grade PLAN (2009) ',\n",
       "       u'10th Grade PLAN (2010) ', u'Net Change EXPLORE and PLAN',\n",
       "       u'11th Grade Average ACT (2011) ', u'Net Change PLAN and ACT',\n",
       "       u'College Eligibility %', u'Graduation Rate %',\n",
       "       u'College Enrollment Rate %',\n",
       "       u'College Enrollment (number of students) ', u'General Services Route ',\n",
       "       u'Freshman on Track Rate %', u'Community Area Number',\n",
       "       u'Community Area Name', u'Ward', u'Police District', u'probation',\n",
       "       u'Id'],\n",
       "      dtype='object')"
      ]
     },
     "execution_count": 533,
     "metadata": {},
     "output_type": "execute_result"
    }
   ],
   "source": [
    "df.columns"
   ]
  },
  {
   "cell_type": "code",
   "execution_count": 534,
   "metadata": {},
   "outputs": [
    {
     "data": {
      "text/plain": [
       "(414, 65)"
      ]
     },
     "execution_count": 534,
     "metadata": {},
     "output_type": "execute_result"
    }
   ],
   "source": [
    "df.shape"
   ]
  },
  {
   "cell_type": "code",
   "execution_count": 535,
   "metadata": {
    "collapsed": true
   },
   "outputs": [],
   "source": [
    "df.dropna(how='any', inplace=True)"
   ]
  },
  {
   "cell_type": "code",
   "execution_count": 536,
   "metadata": {},
   "outputs": [
    {
     "data": {
      "text/plain": [
       "(324, 65)"
      ]
     },
     "execution_count": 536,
     "metadata": {},
     "output_type": "execute_result"
    }
   ],
   "source": [
    "df.shape"
   ]
  },
  {
   "cell_type": "code",
   "execution_count": 537,
   "metadata": {},
   "outputs": [
    {
     "data": {
      "text/html": [
       "<div>\n",
       "<table border=\"1\" class=\"dataframe\">\n",
       "  <thead>\n",
       "    <tr style=\"text-align: right;\">\n",
       "      <th></th>\n",
       "      <th>Name of School</th>\n",
       "      <th>Elementary, Middle, or High School</th>\n",
       "      <th>Street Address</th>\n",
       "      <th>ZIP Code</th>\n",
       "      <th>Link</th>\n",
       "      <th>Healthy Schools Certified?</th>\n",
       "      <th>Safety Icon</th>\n",
       "      <th>Safety Score</th>\n",
       "      <th>Family Involvement Icon</th>\n",
       "      <th>Family Involvement Score</th>\n",
       "      <th>...</th>\n",
       "      <th>College Enrollment Rate %</th>\n",
       "      <th>College Enrollment (number of students)</th>\n",
       "      <th>General Services Route</th>\n",
       "      <th>Freshman on Track Rate %</th>\n",
       "      <th>Community Area Number</th>\n",
       "      <th>Community Area Name</th>\n",
       "      <th>Ward</th>\n",
       "      <th>Police District</th>\n",
       "      <th>probation</th>\n",
       "      <th>Id</th>\n",
       "    </tr>\n",
       "  </thead>\n",
       "  <tbody>\n",
       "    <tr>\n",
       "      <th>0</th>\n",
       "      <td>John Spry Elementary Community School</td>\n",
       "      <td>ES</td>\n",
       "      <td>2400 S Marshall Blvd</td>\n",
       "      <td>60623</td>\n",
       "      <td>http://schoolreports.cps.edu/SchoolProgressRep...</td>\n",
       "      <td>No</td>\n",
       "      <td>Strong</td>\n",
       "      <td>66.0</td>\n",
       "      <td>Average</td>\n",
       "      <td>59</td>\n",
       "      <td>...</td>\n",
       "      <td>NDA</td>\n",
       "      <td>809</td>\n",
       "      <td>39</td>\n",
       "      <td>NDA</td>\n",
       "      <td>30</td>\n",
       "      <td>SOUTH LAWNDALE</td>\n",
       "      <td>12</td>\n",
       "      <td>10</td>\n",
       "      <td>0</td>\n",
       "      <td>610184</td>\n",
       "    </tr>\n",
       "    <tr>\n",
       "      <th>1</th>\n",
       "      <td>Thomas A Edison Regional Gifted Center Element...</td>\n",
       "      <td>ES</td>\n",
       "      <td>4929 N Sawyer Ave</td>\n",
       "      <td>60625</td>\n",
       "      <td>http://schoolreports.cps.edu/SchoolProgressRep...</td>\n",
       "      <td>No</td>\n",
       "      <td>Very Strong</td>\n",
       "      <td>91.0</td>\n",
       "      <td>NDA</td>\n",
       "      <td>NDA</td>\n",
       "      <td>...</td>\n",
       "      <td>NDA</td>\n",
       "      <td>269</td>\n",
       "      <td>31</td>\n",
       "      <td>NDA</td>\n",
       "      <td>14</td>\n",
       "      <td>ALBANY PARK</td>\n",
       "      <td>39</td>\n",
       "      <td>17</td>\n",
       "      <td>0</td>\n",
       "      <td>609794</td>\n",
       "    </tr>\n",
       "    <tr>\n",
       "      <th>2</th>\n",
       "      <td>Milton Brunson Math &amp; Science Specialty Elemen...</td>\n",
       "      <td>ES</td>\n",
       "      <td>932 N Central Ave</td>\n",
       "      <td>60651</td>\n",
       "      <td>http://schoolreports.cps.edu/SchoolProgressRep...</td>\n",
       "      <td>No</td>\n",
       "      <td>Weak</td>\n",
       "      <td>30.0</td>\n",
       "      <td>NDA</td>\n",
       "      <td>NDA</td>\n",
       "      <td>...</td>\n",
       "      <td>NDA</td>\n",
       "      <td>658</td>\n",
       "      <td>36</td>\n",
       "      <td>NDA</td>\n",
       "      <td>25</td>\n",
       "      <td>AUSTIN</td>\n",
       "      <td>29</td>\n",
       "      <td>15</td>\n",
       "      <td>1</td>\n",
       "      <td>609830</td>\n",
       "    </tr>\n",
       "    <tr>\n",
       "      <th>6</th>\n",
       "      <td>William C Reavis Math &amp; Science Specialty Elem...</td>\n",
       "      <td>ES</td>\n",
       "      <td>834 E 50th St</td>\n",
       "      <td>60615</td>\n",
       "      <td>http://schoolreports.cps.edu/SchoolProgressRep...</td>\n",
       "      <td>No</td>\n",
       "      <td>Average</td>\n",
       "      <td>48.0</td>\n",
       "      <td>Very Weak</td>\n",
       "      <td>6</td>\n",
       "      <td>...</td>\n",
       "      <td>NDA</td>\n",
       "      <td>311</td>\n",
       "      <td>42</td>\n",
       "      <td>NDA</td>\n",
       "      <td>39</td>\n",
       "      <td>KENWOOD</td>\n",
       "      <td>4</td>\n",
       "      <td>2</td>\n",
       "      <td>1</td>\n",
       "      <td>610143</td>\n",
       "    </tr>\n",
       "    <tr>\n",
       "      <th>7</th>\n",
       "      <td>Alfred Nobel Elementary School</td>\n",
       "      <td>ES</td>\n",
       "      <td>4127 W Hirsch St</td>\n",
       "      <td>60651</td>\n",
       "      <td>http://schoolreports.cps.edu/SchoolProgressRep...</td>\n",
       "      <td>No</td>\n",
       "      <td>Weak</td>\n",
       "      <td>37.0</td>\n",
       "      <td>Weak</td>\n",
       "      <td>34</td>\n",
       "      <td>...</td>\n",
       "      <td>NDA</td>\n",
       "      <td>801</td>\n",
       "      <td>34</td>\n",
       "      <td>NDA</td>\n",
       "      <td>23</td>\n",
       "      <td>HUMBOLDT PARK</td>\n",
       "      <td>37</td>\n",
       "      <td>25</td>\n",
       "      <td>0</td>\n",
       "      <td>610098</td>\n",
       "    </tr>\n",
       "  </tbody>\n",
       "</table>\n",
       "<p>5 rows × 65 columns</p>\n",
       "</div>"
      ],
      "text/plain": [
       "                                      Name of School  \\\n",
       "0              John Spry Elementary Community School   \n",
       "1  Thomas A Edison Regional Gifted Center Element...   \n",
       "2  Milton Brunson Math & Science Specialty Elemen...   \n",
       "6  William C Reavis Math & Science Specialty Elem...   \n",
       "7                     Alfred Nobel Elementary School   \n",
       "\n",
       "  Elementary, Middle, or High School         Street Address  ZIP Code  \\\n",
       "0                                 ES  2400 S Marshall Blvd      60623   \n",
       "1                                 ES     4929 N Sawyer Ave      60625   \n",
       "2                                 ES     932 N Central Ave      60651   \n",
       "6                                 ES         834 E 50th St      60615   \n",
       "7                                 ES      4127 W Hirsch St      60651   \n",
       "\n",
       "                                               Link   \\\n",
       "0  http://schoolreports.cps.edu/SchoolProgressRep...   \n",
       "1  http://schoolreports.cps.edu/SchoolProgressRep...   \n",
       "2  http://schoolreports.cps.edu/SchoolProgressRep...   \n",
       "6  http://schoolreports.cps.edu/SchoolProgressRep...   \n",
       "7  http://schoolreports.cps.edu/SchoolProgressRep...   \n",
       "\n",
       "  Healthy Schools Certified? Safety Icon   Safety Score  \\\n",
       "0                         No       Strong          66.0   \n",
       "1                         No  Very Strong          91.0   \n",
       "2                         No         Weak          30.0   \n",
       "6                         No      Average          48.0   \n",
       "7                         No         Weak          37.0   \n",
       "\n",
       "  Family Involvement Icon Family Involvement Score   ...    \\\n",
       "0                 Average                       59   ...     \n",
       "1                     NDA                      NDA   ...     \n",
       "2                     NDA                      NDA   ...     \n",
       "6               Very Weak                        6   ...     \n",
       "7                    Weak                       34   ...     \n",
       "\n",
       "  College Enrollment Rate %  College Enrollment (number of students)   \\\n",
       "0                       NDA                                       809   \n",
       "1                       NDA                                       269   \n",
       "2                       NDA                                       658   \n",
       "6                       NDA                                       311   \n",
       "7                       NDA                                       801   \n",
       "\n",
       "  General Services Route   Freshman on Track Rate % Community Area Number  \\\n",
       "0                      39                       NDA                    30   \n",
       "1                      31                       NDA                    14   \n",
       "2                      36                       NDA                    25   \n",
       "6                      42                       NDA                    39   \n",
       "7                      34                       NDA                    23   \n",
       "\n",
       "  Community Area Name Ward Police District probation      Id  \n",
       "0      SOUTH LAWNDALE   12              10         0  610184  \n",
       "1         ALBANY PARK   39              17         0  609794  \n",
       "2              AUSTIN   29              15         1  609830  \n",
       "6             KENWOOD    4               2         1  610143  \n",
       "7       HUMBOLDT PARK   37              25         0  610098  \n",
       "\n",
       "[5 rows x 65 columns]"
      ]
     },
     "execution_count": 537,
     "metadata": {},
     "output_type": "execute_result"
    }
   ],
   "source": [
    "df.head()"
   ]
  },
  {
   "cell_type": "code",
   "execution_count": 538,
   "metadata": {},
   "outputs": [
    {
     "data": {
      "text/plain": [
       "0       59\n",
       "1      NDA\n",
       "2      NDA\n",
       "6        6\n",
       "7       34\n",
       "10     NDA\n",
       "11     NDA\n",
       "15      26\n",
       "16     NDA\n",
       "17     NDA\n",
       "18     NDA\n",
       "19      66\n",
       "20     NDA\n",
       "21     NDA\n",
       "22      61\n",
       "23      64\n",
       "25     NDA\n",
       "26      24\n",
       "29      48\n",
       "30     NDA\n",
       "31      36\n",
       "32     NDA\n",
       "33      41\n",
       "35     NDA\n",
       "36     NDA\n",
       "37     NDA\n",
       "38     NDA\n",
       "39      59\n",
       "41     NDA\n",
       "42      67\n",
       "      ... \n",
       "381    NDA\n",
       "382    NDA\n",
       "384    NDA\n",
       "385     73\n",
       "386     50\n",
       "387    NDA\n",
       "388    NDA\n",
       "389    NDA\n",
       "390     39\n",
       "391    NDA\n",
       "392     61\n",
       "393    NDA\n",
       "394     33\n",
       "395    NDA\n",
       "396    NDA\n",
       "397    NDA\n",
       "398    NDA\n",
       "400    NDA\n",
       "401     32\n",
       "402     58\n",
       "403     64\n",
       "404     67\n",
       "405     24\n",
       "406    NDA\n",
       "408     24\n",
       "409     23\n",
       "410    NDA\n",
       "411     26\n",
       "412    NDA\n",
       "413    NDA\n",
       "Name: Family Involvement Score, dtype: object"
      ]
     },
     "execution_count": 538,
     "metadata": {},
     "output_type": "execute_result"
    }
   ],
   "source": [
    "df['Family Involvement Score']"
   ]
  },
  {
   "cell_type": "code",
   "execution_count": 539,
   "metadata": {},
   "outputs": [
    {
     "data": {
      "text/plain": [
       "150"
      ]
     },
     "execution_count": 539,
     "metadata": {},
     "output_type": "execute_result"
    }
   ],
   "source": [
    "len(df[df['Family Involvement Score'].str.contains('NDA', na = False)]) "
   ]
  },
  {
   "cell_type": "code",
   "execution_count": 540,
   "metadata": {},
   "outputs": [
    {
     "data": {
      "text/plain": [
       "150"
      ]
     },
     "execution_count": 540,
     "metadata": {},
     "output_type": "execute_result"
    }
   ],
   "source": [
    "len(df[df['Family Involvement Icon'].str.contains('NDA', na = False)]) "
   ]
  },
  {
   "cell_type": "code",
   "execution_count": 541,
   "metadata": {
    "collapsed": true
   },
   "outputs": [],
   "source": [
    "del df['Family Involvement Icon']   #too many values missing "
   ]
  },
  {
   "cell_type": "code",
   "execution_count": 542,
   "metadata": {
    "collapsed": true
   },
   "outputs": [],
   "source": [
    "del df['Family Involvement Score'] #too many values missing"
   ]
  },
  {
   "cell_type": "code",
   "execution_count": 543,
   "metadata": {
    "collapsed": true
   },
   "outputs": [],
   "source": [
    "del df['Name of School'] #not really relevant "
   ]
  },
  {
   "cell_type": "code",
   "execution_count": 544,
   "metadata": {},
   "outputs": [
    {
     "data": {
      "text/html": [
       "<div>\n",
       "<table border=\"1\" class=\"dataframe\">\n",
       "  <thead>\n",
       "    <tr style=\"text-align: right;\">\n",
       "      <th></th>\n",
       "      <th>Elementary, Middle, or High School</th>\n",
       "      <th>Street Address</th>\n",
       "      <th>ZIP Code</th>\n",
       "      <th>Link</th>\n",
       "      <th>Healthy Schools Certified?</th>\n",
       "      <th>Safety Icon</th>\n",
       "      <th>Safety Score</th>\n",
       "      <th>Environment Icon</th>\n",
       "      <th>Environment Score</th>\n",
       "      <th>Instruction Icon</th>\n",
       "      <th>...</th>\n",
       "      <th>College Enrollment Rate %</th>\n",
       "      <th>College Enrollment (number of students)</th>\n",
       "      <th>General Services Route</th>\n",
       "      <th>Freshman on Track Rate %</th>\n",
       "      <th>Community Area Number</th>\n",
       "      <th>Community Area Name</th>\n",
       "      <th>Ward</th>\n",
       "      <th>Police District</th>\n",
       "      <th>probation</th>\n",
       "      <th>Id</th>\n",
       "    </tr>\n",
       "  </thead>\n",
       "  <tbody>\n",
       "    <tr>\n",
       "      <th>0</th>\n",
       "      <td>ES</td>\n",
       "      <td>2400 S Marshall Blvd</td>\n",
       "      <td>60623</td>\n",
       "      <td>http://schoolreports.cps.edu/SchoolProgressRep...</td>\n",
       "      <td>No</td>\n",
       "      <td>Strong</td>\n",
       "      <td>66.0</td>\n",
       "      <td>Strong</td>\n",
       "      <td>70.0</td>\n",
       "      <td>Strong</td>\n",
       "      <td>...</td>\n",
       "      <td>NDA</td>\n",
       "      <td>809</td>\n",
       "      <td>39</td>\n",
       "      <td>NDA</td>\n",
       "      <td>30</td>\n",
       "      <td>SOUTH LAWNDALE</td>\n",
       "      <td>12</td>\n",
       "      <td>10</td>\n",
       "      <td>0</td>\n",
       "      <td>610184</td>\n",
       "    </tr>\n",
       "    <tr>\n",
       "      <th>1</th>\n",
       "      <td>ES</td>\n",
       "      <td>4929 N Sawyer Ave</td>\n",
       "      <td>60625</td>\n",
       "      <td>http://schoolreports.cps.edu/SchoolProgressRep...</td>\n",
       "      <td>No</td>\n",
       "      <td>Very Strong</td>\n",
       "      <td>91.0</td>\n",
       "      <td>Strong</td>\n",
       "      <td>64.0</td>\n",
       "      <td>Average</td>\n",
       "      <td>...</td>\n",
       "      <td>NDA</td>\n",
       "      <td>269</td>\n",
       "      <td>31</td>\n",
       "      <td>NDA</td>\n",
       "      <td>14</td>\n",
       "      <td>ALBANY PARK</td>\n",
       "      <td>39</td>\n",
       "      <td>17</td>\n",
       "      <td>0</td>\n",
       "      <td>609794</td>\n",
       "    </tr>\n",
       "    <tr>\n",
       "      <th>2</th>\n",
       "      <td>ES</td>\n",
       "      <td>932 N Central Ave</td>\n",
       "      <td>60651</td>\n",
       "      <td>http://schoolreports.cps.edu/SchoolProgressRep...</td>\n",
       "      <td>No</td>\n",
       "      <td>Weak</td>\n",
       "      <td>30.0</td>\n",
       "      <td>Weak</td>\n",
       "      <td>30.0</td>\n",
       "      <td>Average</td>\n",
       "      <td>...</td>\n",
       "      <td>NDA</td>\n",
       "      <td>658</td>\n",
       "      <td>36</td>\n",
       "      <td>NDA</td>\n",
       "      <td>25</td>\n",
       "      <td>AUSTIN</td>\n",
       "      <td>29</td>\n",
       "      <td>15</td>\n",
       "      <td>1</td>\n",
       "      <td>609830</td>\n",
       "    </tr>\n",
       "    <tr>\n",
       "      <th>6</th>\n",
       "      <td>ES</td>\n",
       "      <td>834 E 50th St</td>\n",
       "      <td>60615</td>\n",
       "      <td>http://schoolreports.cps.edu/SchoolProgressRep...</td>\n",
       "      <td>No</td>\n",
       "      <td>Average</td>\n",
       "      <td>48.0</td>\n",
       "      <td>Weak</td>\n",
       "      <td>37.0</td>\n",
       "      <td>Weak</td>\n",
       "      <td>...</td>\n",
       "      <td>NDA</td>\n",
       "      <td>311</td>\n",
       "      <td>42</td>\n",
       "      <td>NDA</td>\n",
       "      <td>39</td>\n",
       "      <td>KENWOOD</td>\n",
       "      <td>4</td>\n",
       "      <td>2</td>\n",
       "      <td>1</td>\n",
       "      <td>610143</td>\n",
       "    </tr>\n",
       "    <tr>\n",
       "      <th>7</th>\n",
       "      <td>ES</td>\n",
       "      <td>4127 W Hirsch St</td>\n",
       "      <td>60651</td>\n",
       "      <td>http://schoolreports.cps.edu/SchoolProgressRep...</td>\n",
       "      <td>No</td>\n",
       "      <td>Weak</td>\n",
       "      <td>37.0</td>\n",
       "      <td>Weak</td>\n",
       "      <td>37.0</td>\n",
       "      <td>Weak</td>\n",
       "      <td>...</td>\n",
       "      <td>NDA</td>\n",
       "      <td>801</td>\n",
       "      <td>34</td>\n",
       "      <td>NDA</td>\n",
       "      <td>23</td>\n",
       "      <td>HUMBOLDT PARK</td>\n",
       "      <td>37</td>\n",
       "      <td>25</td>\n",
       "      <td>0</td>\n",
       "      <td>610098</td>\n",
       "    </tr>\n",
       "  </tbody>\n",
       "</table>\n",
       "<p>5 rows × 62 columns</p>\n",
       "</div>"
      ],
      "text/plain": [
       "  Elementary, Middle, or High School         Street Address  ZIP Code  \\\n",
       "0                                 ES  2400 S Marshall Blvd      60623   \n",
       "1                                 ES     4929 N Sawyer Ave      60625   \n",
       "2                                 ES     932 N Central Ave      60651   \n",
       "6                                 ES         834 E 50th St      60615   \n",
       "7                                 ES      4127 W Hirsch St      60651   \n",
       "\n",
       "                                               Link   \\\n",
       "0  http://schoolreports.cps.edu/SchoolProgressRep...   \n",
       "1  http://schoolreports.cps.edu/SchoolProgressRep...   \n",
       "2  http://schoolreports.cps.edu/SchoolProgressRep...   \n",
       "6  http://schoolreports.cps.edu/SchoolProgressRep...   \n",
       "7  http://schoolreports.cps.edu/SchoolProgressRep...   \n",
       "\n",
       "  Healthy Schools Certified? Safety Icon   Safety Score Environment Icon   \\\n",
       "0                         No       Strong          66.0            Strong   \n",
       "1                         No  Very Strong          91.0            Strong   \n",
       "2                         No         Weak          30.0              Weak   \n",
       "6                         No      Average          48.0              Weak   \n",
       "7                         No         Weak          37.0              Weak   \n",
       "\n",
       "   Environment Score Instruction Icon    ...    College Enrollment Rate %  \\\n",
       "0               70.0            Strong   ...                          NDA   \n",
       "1               64.0           Average   ...                          NDA   \n",
       "2               30.0           Average   ...                          NDA   \n",
       "6               37.0              Weak   ...                          NDA   \n",
       "7               37.0              Weak   ...                          NDA   \n",
       "\n",
       "  College Enrollment (number of students)  General Services Route   \\\n",
       "0                                      809                      39   \n",
       "1                                      269                      31   \n",
       "2                                      658                      36   \n",
       "6                                      311                      42   \n",
       "7                                      801                      34   \n",
       "\n",
       "  Freshman on Track Rate % Community Area Number Community Area Name Ward  \\\n",
       "0                      NDA                    30      SOUTH LAWNDALE   12   \n",
       "1                      NDA                    14         ALBANY PARK   39   \n",
       "2                      NDA                    25              AUSTIN   29   \n",
       "6                      NDA                    39             KENWOOD    4   \n",
       "7                      NDA                    23       HUMBOLDT PARK   37   \n",
       "\n",
       "  Police District probation      Id  \n",
       "0              10         0  610184  \n",
       "1              17         0  609794  \n",
       "2              15         1  609830  \n",
       "6               2         1  610143  \n",
       "7              25         0  610098  \n",
       "\n",
       "[5 rows x 62 columns]"
      ]
     },
     "execution_count": 544,
     "metadata": {},
     "output_type": "execute_result"
    }
   ],
   "source": [
    "df.head()"
   ]
  },
  {
   "cell_type": "code",
   "execution_count": 545,
   "metadata": {},
   "outputs": [
    {
     "data": {
      "text/plain": [
       "ES    311\n",
       "MS      7\n",
       "HS      6\n",
       "Name: Elementary, Middle, or High School, dtype: int64"
      ]
     },
     "execution_count": 545,
     "metadata": {},
     "output_type": "execute_result"
    }
   ],
   "source": [
    "df['Elementary, Middle, or High School'].value_counts()"
   ]
  },
  {
   "cell_type": "code",
   "execution_count": 546,
   "metadata": {},
   "outputs": [
    {
     "data": {
      "text/plain": [
       "60621    14\n",
       "60609    14\n",
       "60620    14\n",
       "60628    14\n",
       "60617    13\n",
       "60622    13\n",
       "60623    12\n",
       "60619    12\n",
       "60624    12\n",
       "60643    12\n",
       "60629    10\n",
       "60618    10\n",
       "60608    10\n",
       "60637     9\n",
       "60612     9\n",
       "60644     8\n",
       "60647     8\n",
       "60636     8\n",
       "60651     8\n",
       "60625     7\n",
       "60616     7\n",
       "60615     7\n",
       "60634     6\n",
       "60638     6\n",
       "60652     6\n",
       "60640     6\n",
       "60632     6\n",
       "60631     5\n",
       "60614     5\n",
       "60657     5\n",
       "60639     4\n",
       "60613     4\n",
       "60653     4\n",
       "60659     4\n",
       "60630     3\n",
       "60626     3\n",
       "60645     3\n",
       "60646     3\n",
       "60649     3\n",
       "60607     3\n",
       "60610     3\n",
       "60827     2\n",
       "60641     2\n",
       "60655     2\n",
       "60707     1\n",
       "60633     1\n",
       "60656     1\n",
       "60660     1\n",
       "60605     1\n",
       "Name: ZIP Code, dtype: int64"
      ]
     },
     "execution_count": 546,
     "metadata": {},
     "output_type": "execute_result"
    }
   ],
   "source": [
    "df['ZIP Code'].value_counts()     #too many to make this column worthwhile"
   ]
  },
  {
   "cell_type": "code",
   "execution_count": 547,
   "metadata": {
    "collapsed": true
   },
   "outputs": [],
   "source": [
    "del df['Street Address']"
   ]
  },
  {
   "cell_type": "code",
   "execution_count": 548,
   "metadata": {
    "collapsed": true
   },
   "outputs": [],
   "source": [
    "del df['ZIP Code'] #it would be cool to map this, but there are arguably too many zips to work with"
   ]
  },
  {
   "cell_type": "code",
   "execution_count": 549,
   "metadata": {
    "collapsed": true
   },
   "outputs": [],
   "source": [
    "del df['Link ']  #unneccessary column"
   ]
  },
  {
   "cell_type": "code",
   "execution_count": 550,
   "metadata": {},
   "outputs": [
    {
     "data": {
      "text/html": [
       "<div>\n",
       "<table border=\"1\" class=\"dataframe\">\n",
       "  <thead>\n",
       "    <tr style=\"text-align: right;\">\n",
       "      <th></th>\n",
       "      <th>Elementary, Middle, or High School</th>\n",
       "      <th>Healthy Schools Certified?</th>\n",
       "      <th>Safety Icon</th>\n",
       "      <th>Safety Score</th>\n",
       "      <th>Environment Icon</th>\n",
       "      <th>Environment Score</th>\n",
       "      <th>Instruction Icon</th>\n",
       "      <th>Instruction Score</th>\n",
       "      <th>Leaders Icon</th>\n",
       "      <th>Leaders Score</th>\n",
       "      <th>...</th>\n",
       "      <th>College Enrollment Rate %</th>\n",
       "      <th>College Enrollment (number of students)</th>\n",
       "      <th>General Services Route</th>\n",
       "      <th>Freshman on Track Rate %</th>\n",
       "      <th>Community Area Number</th>\n",
       "      <th>Community Area Name</th>\n",
       "      <th>Ward</th>\n",
       "      <th>Police District</th>\n",
       "      <th>probation</th>\n",
       "      <th>Id</th>\n",
       "    </tr>\n",
       "  </thead>\n",
       "  <tbody>\n",
       "    <tr>\n",
       "      <th>0</th>\n",
       "      <td>ES</td>\n",
       "      <td>No</td>\n",
       "      <td>Strong</td>\n",
       "      <td>66.0</td>\n",
       "      <td>Strong</td>\n",
       "      <td>70.0</td>\n",
       "      <td>Strong</td>\n",
       "      <td>67.0</td>\n",
       "      <td>Average</td>\n",
       "      <td>52</td>\n",
       "      <td>...</td>\n",
       "      <td>NDA</td>\n",
       "      <td>809</td>\n",
       "      <td>39</td>\n",
       "      <td>NDA</td>\n",
       "      <td>30</td>\n",
       "      <td>SOUTH LAWNDALE</td>\n",
       "      <td>12</td>\n",
       "      <td>10</td>\n",
       "      <td>0</td>\n",
       "      <td>610184</td>\n",
       "    </tr>\n",
       "    <tr>\n",
       "      <th>1</th>\n",
       "      <td>ES</td>\n",
       "      <td>No</td>\n",
       "      <td>Very Strong</td>\n",
       "      <td>91.0</td>\n",
       "      <td>Strong</td>\n",
       "      <td>64.0</td>\n",
       "      <td>Average</td>\n",
       "      <td>56.0</td>\n",
       "      <td>NDA</td>\n",
       "      <td>NDA</td>\n",
       "      <td>...</td>\n",
       "      <td>NDA</td>\n",
       "      <td>269</td>\n",
       "      <td>31</td>\n",
       "      <td>NDA</td>\n",
       "      <td>14</td>\n",
       "      <td>ALBANY PARK</td>\n",
       "      <td>39</td>\n",
       "      <td>17</td>\n",
       "      <td>0</td>\n",
       "      <td>609794</td>\n",
       "    </tr>\n",
       "    <tr>\n",
       "      <th>2</th>\n",
       "      <td>ES</td>\n",
       "      <td>No</td>\n",
       "      <td>Weak</td>\n",
       "      <td>30.0</td>\n",
       "      <td>Weak</td>\n",
       "      <td>30.0</td>\n",
       "      <td>Average</td>\n",
       "      <td>45.0</td>\n",
       "      <td>NDA</td>\n",
       "      <td>NDA</td>\n",
       "      <td>...</td>\n",
       "      <td>NDA</td>\n",
       "      <td>658</td>\n",
       "      <td>36</td>\n",
       "      <td>NDA</td>\n",
       "      <td>25</td>\n",
       "      <td>AUSTIN</td>\n",
       "      <td>29</td>\n",
       "      <td>15</td>\n",
       "      <td>1</td>\n",
       "      <td>609830</td>\n",
       "    </tr>\n",
       "    <tr>\n",
       "      <th>6</th>\n",
       "      <td>ES</td>\n",
       "      <td>No</td>\n",
       "      <td>Average</td>\n",
       "      <td>48.0</td>\n",
       "      <td>Weak</td>\n",
       "      <td>37.0</td>\n",
       "      <td>Weak</td>\n",
       "      <td>26.0</td>\n",
       "      <td>Very Weak</td>\n",
       "      <td>10</td>\n",
       "      <td>...</td>\n",
       "      <td>NDA</td>\n",
       "      <td>311</td>\n",
       "      <td>42</td>\n",
       "      <td>NDA</td>\n",
       "      <td>39</td>\n",
       "      <td>KENWOOD</td>\n",
       "      <td>4</td>\n",
       "      <td>2</td>\n",
       "      <td>1</td>\n",
       "      <td>610143</td>\n",
       "    </tr>\n",
       "    <tr>\n",
       "      <th>7</th>\n",
       "      <td>ES</td>\n",
       "      <td>No</td>\n",
       "      <td>Weak</td>\n",
       "      <td>37.0</td>\n",
       "      <td>Weak</td>\n",
       "      <td>37.0</td>\n",
       "      <td>Weak</td>\n",
       "      <td>35.0</td>\n",
       "      <td>Average</td>\n",
       "      <td>48</td>\n",
       "      <td>...</td>\n",
       "      <td>NDA</td>\n",
       "      <td>801</td>\n",
       "      <td>34</td>\n",
       "      <td>NDA</td>\n",
       "      <td>23</td>\n",
       "      <td>HUMBOLDT PARK</td>\n",
       "      <td>37</td>\n",
       "      <td>25</td>\n",
       "      <td>0</td>\n",
       "      <td>610098</td>\n",
       "    </tr>\n",
       "  </tbody>\n",
       "</table>\n",
       "<p>5 rows × 59 columns</p>\n",
       "</div>"
      ],
      "text/plain": [
       "  Elementary, Middle, or High School Healthy Schools Certified? Safety Icon   \\\n",
       "0                                 ES                         No       Strong   \n",
       "1                                 ES                         No  Very Strong   \n",
       "2                                 ES                         No         Weak   \n",
       "6                                 ES                         No      Average   \n",
       "7                                 ES                         No         Weak   \n",
       "\n",
       "   Safety Score Environment Icon   Environment Score Instruction Icon   \\\n",
       "0          66.0            Strong               70.0            Strong   \n",
       "1          91.0            Strong               64.0           Average   \n",
       "2          30.0              Weak               30.0           Average   \n",
       "6          48.0              Weak               37.0              Weak   \n",
       "7          37.0              Weak               37.0              Weak   \n",
       "\n",
       "   Instruction Score Leaders Icon  Leaders Score    ...    \\\n",
       "0               67.0       Average             52   ...     \n",
       "1               56.0           NDA            NDA   ...     \n",
       "2               45.0           NDA            NDA   ...     \n",
       "6               26.0     Very Weak             10   ...     \n",
       "7               35.0       Average             48   ...     \n",
       "\n",
       "  College Enrollment Rate % College Enrollment (number of students)   \\\n",
       "0                       NDA                                      809   \n",
       "1                       NDA                                      269   \n",
       "2                       NDA                                      658   \n",
       "6                       NDA                                      311   \n",
       "7                       NDA                                      801   \n",
       "\n",
       "  General Services Route  Freshman on Track Rate % Community Area Number  \\\n",
       "0                      39                      NDA                    30   \n",
       "1                      31                      NDA                    14   \n",
       "2                      36                      NDA                    25   \n",
       "6                      42                      NDA                    39   \n",
       "7                      34                      NDA                    23   \n",
       "\n",
       "  Community Area Name Ward  Police District probation      Id  \n",
       "0      SOUTH LAWNDALE   12               10         0  610184  \n",
       "1         ALBANY PARK   39               17         0  609794  \n",
       "2              AUSTIN   29               15         1  609830  \n",
       "6             KENWOOD    4                2         1  610143  \n",
       "7       HUMBOLDT PARK   37               25         0  610098  \n",
       "\n",
       "[5 rows x 59 columns]"
      ]
     },
     "execution_count": 550,
     "metadata": {},
     "output_type": "execute_result"
    }
   ],
   "source": [
    "df.head()"
   ]
  },
  {
   "cell_type": "code",
   "execution_count": 551,
   "metadata": {},
   "outputs": [
    {
     "data": {
      "text/plain": [
       "dtype('O')"
      ]
     },
     "execution_count": 551,
     "metadata": {},
     "output_type": "execute_result"
    }
   ],
   "source": [
    "df['Safety Icon '].dtypes"
   ]
  },
  {
   "cell_type": "code",
   "execution_count": 552,
   "metadata": {
    "scrolled": true
   },
   "outputs": [
    {
     "data": {
      "text/plain": [
       "Average        114\n",
       "Weak            99\n",
       "Strong          66\n",
       "Very Strong     29\n",
       "Very Weak       16\n",
       "Name: Safety Icon , dtype: int64"
      ]
     },
     "execution_count": 552,
     "metadata": {},
     "output_type": "execute_result"
    }
   ],
   "source": [
    "df['Safety Icon '].value_counts()"
   ]
  },
  {
   "cell_type": "code",
   "execution_count": 553,
   "metadata": {
    "collapsed": true
   },
   "outputs": [],
   "source": [
    "del df['Safety Icon '] #the safety icon reflects the safety score, which is already being included"
   ]
  },
  {
   "cell_type": "code",
   "execution_count": 554,
   "metadata": {},
   "outputs": [
    {
     "data": {
      "text/plain": [
       "dtype('float64')"
      ]
     },
     "execution_count": 554,
     "metadata": {},
     "output_type": "execute_result"
    }
   ],
   "source": [
    "df['Safety Score'].dtypes"
   ]
  },
  {
   "cell_type": "code",
   "execution_count": 555,
   "metadata": {},
   "outputs": [
    {
     "data": {
      "text/html": [
       "<div>\n",
       "<table border=\"1\" class=\"dataframe\">\n",
       "  <thead>\n",
       "    <tr style=\"text-align: right;\">\n",
       "      <th></th>\n",
       "      <th>Elementary, Middle, or High School</th>\n",
       "      <th>Healthy Schools Certified?</th>\n",
       "      <th>Safety Score</th>\n",
       "      <th>Environment Icon</th>\n",
       "      <th>Environment Score</th>\n",
       "      <th>Instruction Icon</th>\n",
       "      <th>Instruction Score</th>\n",
       "      <th>Leaders Icon</th>\n",
       "      <th>Leaders Score</th>\n",
       "      <th>Teachers Icon</th>\n",
       "      <th>...</th>\n",
       "      <th>College Enrollment Rate %</th>\n",
       "      <th>College Enrollment (number of students)</th>\n",
       "      <th>General Services Route</th>\n",
       "      <th>Freshman on Track Rate %</th>\n",
       "      <th>Community Area Number</th>\n",
       "      <th>Community Area Name</th>\n",
       "      <th>Ward</th>\n",
       "      <th>Police District</th>\n",
       "      <th>probation</th>\n",
       "      <th>Id</th>\n",
       "    </tr>\n",
       "  </thead>\n",
       "  <tbody>\n",
       "    <tr>\n",
       "      <th>0</th>\n",
       "      <td>ES</td>\n",
       "      <td>No</td>\n",
       "      <td>66.0</td>\n",
       "      <td>Strong</td>\n",
       "      <td>70.0</td>\n",
       "      <td>Strong</td>\n",
       "      <td>67.0</td>\n",
       "      <td>Average</td>\n",
       "      <td>52</td>\n",
       "      <td>Average</td>\n",
       "      <td>...</td>\n",
       "      <td>NDA</td>\n",
       "      <td>809</td>\n",
       "      <td>39</td>\n",
       "      <td>NDA</td>\n",
       "      <td>30</td>\n",
       "      <td>SOUTH LAWNDALE</td>\n",
       "      <td>12</td>\n",
       "      <td>10</td>\n",
       "      <td>0</td>\n",
       "      <td>610184</td>\n",
       "    </tr>\n",
       "    <tr>\n",
       "      <th>1</th>\n",
       "      <td>ES</td>\n",
       "      <td>No</td>\n",
       "      <td>91.0</td>\n",
       "      <td>Strong</td>\n",
       "      <td>64.0</td>\n",
       "      <td>Average</td>\n",
       "      <td>56.0</td>\n",
       "      <td>NDA</td>\n",
       "      <td>NDA</td>\n",
       "      <td>NDA</td>\n",
       "      <td>...</td>\n",
       "      <td>NDA</td>\n",
       "      <td>269</td>\n",
       "      <td>31</td>\n",
       "      <td>NDA</td>\n",
       "      <td>14</td>\n",
       "      <td>ALBANY PARK</td>\n",
       "      <td>39</td>\n",
       "      <td>17</td>\n",
       "      <td>0</td>\n",
       "      <td>609794</td>\n",
       "    </tr>\n",
       "    <tr>\n",
       "      <th>2</th>\n",
       "      <td>ES</td>\n",
       "      <td>No</td>\n",
       "      <td>30.0</td>\n",
       "      <td>Weak</td>\n",
       "      <td>30.0</td>\n",
       "      <td>Average</td>\n",
       "      <td>45.0</td>\n",
       "      <td>NDA</td>\n",
       "      <td>NDA</td>\n",
       "      <td>NDA</td>\n",
       "      <td>...</td>\n",
       "      <td>NDA</td>\n",
       "      <td>658</td>\n",
       "      <td>36</td>\n",
       "      <td>NDA</td>\n",
       "      <td>25</td>\n",
       "      <td>AUSTIN</td>\n",
       "      <td>29</td>\n",
       "      <td>15</td>\n",
       "      <td>1</td>\n",
       "      <td>609830</td>\n",
       "    </tr>\n",
       "    <tr>\n",
       "      <th>6</th>\n",
       "      <td>ES</td>\n",
       "      <td>No</td>\n",
       "      <td>48.0</td>\n",
       "      <td>Weak</td>\n",
       "      <td>37.0</td>\n",
       "      <td>Weak</td>\n",
       "      <td>26.0</td>\n",
       "      <td>Very Weak</td>\n",
       "      <td>10</td>\n",
       "      <td>Very Weak</td>\n",
       "      <td>...</td>\n",
       "      <td>NDA</td>\n",
       "      <td>311</td>\n",
       "      <td>42</td>\n",
       "      <td>NDA</td>\n",
       "      <td>39</td>\n",
       "      <td>KENWOOD</td>\n",
       "      <td>4</td>\n",
       "      <td>2</td>\n",
       "      <td>1</td>\n",
       "      <td>610143</td>\n",
       "    </tr>\n",
       "    <tr>\n",
       "      <th>7</th>\n",
       "      <td>ES</td>\n",
       "      <td>No</td>\n",
       "      <td>37.0</td>\n",
       "      <td>Weak</td>\n",
       "      <td>37.0</td>\n",
       "      <td>Weak</td>\n",
       "      <td>35.0</td>\n",
       "      <td>Average</td>\n",
       "      <td>48</td>\n",
       "      <td>Weak</td>\n",
       "      <td>...</td>\n",
       "      <td>NDA</td>\n",
       "      <td>801</td>\n",
       "      <td>34</td>\n",
       "      <td>NDA</td>\n",
       "      <td>23</td>\n",
       "      <td>HUMBOLDT PARK</td>\n",
       "      <td>37</td>\n",
       "      <td>25</td>\n",
       "      <td>0</td>\n",
       "      <td>610098</td>\n",
       "    </tr>\n",
       "  </tbody>\n",
       "</table>\n",
       "<p>5 rows × 58 columns</p>\n",
       "</div>"
      ],
      "text/plain": [
       "  Elementary, Middle, or High School Healthy Schools Certified?  Safety Score  \\\n",
       "0                                 ES                         No          66.0   \n",
       "1                                 ES                         No          91.0   \n",
       "2                                 ES                         No          30.0   \n",
       "6                                 ES                         No          48.0   \n",
       "7                                 ES                         No          37.0   \n",
       "\n",
       "  Environment Icon   Environment Score Instruction Icon   Instruction Score  \\\n",
       "0            Strong               70.0            Strong               67.0   \n",
       "1            Strong               64.0           Average               56.0   \n",
       "2              Weak               30.0           Average               45.0   \n",
       "6              Weak               37.0              Weak               26.0   \n",
       "7              Weak               37.0              Weak               35.0   \n",
       "\n",
       "  Leaders Icon  Leaders Score  Teachers Icon    ...    \\\n",
       "0       Average             52        Average   ...     \n",
       "1           NDA            NDA            NDA   ...     \n",
       "2           NDA            NDA            NDA   ...     \n",
       "6     Very Weak             10      Very Weak   ...     \n",
       "7       Average             48           Weak   ...     \n",
       "\n",
       "  College Enrollment Rate % College Enrollment (number of students)   \\\n",
       "0                       NDA                                      809   \n",
       "1                       NDA                                      269   \n",
       "2                       NDA                                      658   \n",
       "6                       NDA                                      311   \n",
       "7                       NDA                                      801   \n",
       "\n",
       "  General Services Route  Freshman on Track Rate % Community Area Number  \\\n",
       "0                      39                      NDA                    30   \n",
       "1                      31                      NDA                    14   \n",
       "2                      36                      NDA                    25   \n",
       "6                      42                      NDA                    39   \n",
       "7                      34                      NDA                    23   \n",
       "\n",
       "  Community Area Name  Ward Police District probation      Id  \n",
       "0      SOUTH LAWNDALE    12              10         0  610184  \n",
       "1         ALBANY PARK    39              17         0  609794  \n",
       "2              AUSTIN    29              15         1  609830  \n",
       "6             KENWOOD     4               2         1  610143  \n",
       "7       HUMBOLDT PARK    37              25         0  610098  \n",
       "\n",
       "[5 rows x 58 columns]"
      ]
     },
     "execution_count": 555,
     "metadata": {},
     "output_type": "execute_result"
    }
   ],
   "source": [
    "df.head()"
   ]
  },
  {
   "cell_type": "code",
   "execution_count": 556,
   "metadata": {},
   "outputs": [
    {
     "data": {
      "text/plain": [
       "49.0    15\n",
       "47.0    14\n",
       "37.0    13\n",
       "42.0    11\n",
       "34.0    11\n",
       "50.0    10\n",
       "48.0    10\n",
       "35.0     9\n",
       "57.0     9\n",
       "53.0     8\n",
       "32.0     8\n",
       "33.0     8\n",
       "39.0     8\n",
       "61.0     7\n",
       "41.0     7\n",
       "51.0     7\n",
       "65.0     7\n",
       "44.0     6\n",
       "60.0     6\n",
       "43.0     6\n",
       "55.0     6\n",
       "58.0     6\n",
       "52.0     5\n",
       "40.0     5\n",
       "46.0     5\n",
       "31.0     5\n",
       "62.0     5\n",
       "67.0     5\n",
       "66.0     5\n",
       "30.0     5\n",
       "        ..\n",
       "22.0     3\n",
       "59.0     3\n",
       "25.0     3\n",
       "99.0     3\n",
       "63.0     3\n",
       "29.0     2\n",
       "23.0     2\n",
       "76.0     2\n",
       "74.0     2\n",
       "77.0     2\n",
       "20.0     2\n",
       "36.0     2\n",
       "12.0     2\n",
       "13.0     1\n",
       "95.0     1\n",
       "26.0     1\n",
       "85.0     1\n",
       "81.0     1\n",
       "80.0     1\n",
       "82.0     1\n",
       "17.0     1\n",
       "78.0     1\n",
       "7.0      1\n",
       "1.0      1\n",
       "90.0     1\n",
       "16.0     1\n",
       "84.0     1\n",
       "14.0     1\n",
       "21.0     1\n",
       "24.0     1\n",
       "Name: Environment Score, dtype: int64"
      ]
     },
     "execution_count": 556,
     "metadata": {},
     "output_type": "execute_result"
    }
   ],
   "source": [
    "df['Environment Score'].value_counts()"
   ]
  },
  {
   "cell_type": "code",
   "execution_count": 557,
   "metadata": {
    "collapsed": true
   },
   "outputs": [],
   "source": [
    "del df['Environment Icon ']  #the icon just reflects the score"
   ]
  },
  {
   "cell_type": "code",
   "execution_count": 558,
   "metadata": {},
   "outputs": [
    {
     "data": {
      "text/plain": [
       "Index([u'Elementary, Middle, or High School', u'Healthy Schools Certified?',\n",
       "       u'Safety Score', u'Environment Score', u'Instruction Icon ',\n",
       "       u'Instruction Score', u'Leaders Icon ', u'Leaders Score ',\n",
       "       u'Teachers Icon ', u'Teachers Score', u'Parent Engagement Icon ',\n",
       "       u'Parent Engagement Score', u'Parent Environment Icon',\n",
       "       u'Parent Environment Score', u'Average Student Attendance',\n",
       "       u'Rate of Misconducts (per 100 students) ',\n",
       "       u'Average Teacher Attendance',\n",
       "       u'Individualized Education Program Compliance Rate ',\n",
       "       u'Pk-2 Literacy %', u'Pk-2 Math %', u'Gr3-5 Grade Level Math %',\n",
       "       u'Gr3-5 Grade Level Read % ', u'Gr3-5 Keep Pace Read %',\n",
       "       u'Gr3-5 Keep Pace Math %', u'Gr6-8 Grade Level Math %',\n",
       "       u'Gr6-8 Grade Level Read %', u'Gr6-8 Keep Pace Math%',\n",
       "       u'Gr6-8 Keep Pace Read %', u'Gr-8 Explore Math %',\n",
       "       u'Gr-8 Explore Read %', u'ISAT Exceeding Math %',\n",
       "       u'ISAT Exceeding Reading % ', u'ISAT Value Add Math',\n",
       "       u'ISAT Value Add Read', u'ISAT Value Add Color Math',\n",
       "       u'ISAT Value Add Color Read', u'Students Taking  Algebra %',\n",
       "       u'Students Passing  Algebra %', u'9th Grade EXPLORE (2009) ',\n",
       "       u'9th Grade EXPLORE (2010) ', u'10th Grade PLAN (2009) ',\n",
       "       u'10th Grade PLAN (2010) ', u'Net Change EXPLORE and PLAN',\n",
       "       u'11th Grade Average ACT (2011) ', u'Net Change PLAN and ACT',\n",
       "       u'College Eligibility %', u'Graduation Rate %',\n",
       "       u'College Enrollment Rate %',\n",
       "       u'College Enrollment (number of students) ', u'General Services Route ',\n",
       "       u'Freshman on Track Rate %', u'Community Area Number',\n",
       "       u'Community Area Name', u'Ward', u'Police District', u'probation',\n",
       "       u'Id'],\n",
       "      dtype='object')"
      ]
     },
     "execution_count": 558,
     "metadata": {},
     "output_type": "execute_result"
    }
   ],
   "source": [
    "df.columns"
   ]
  },
  {
   "cell_type": "code",
   "execution_count": 559,
   "metadata": {},
   "outputs": [
    {
     "data": {
      "text/plain": [
       "40.0    11\n",
       "38.0    11\n",
       "52.0    10\n",
       "58.0    10\n",
       "46.0    10\n",
       "63.0     9\n",
       "66.0     9\n",
       "55.0     9\n",
       "45.0     8\n",
       "51.0     8\n",
       "54.0     8\n",
       "32.0     7\n",
       "50.0     7\n",
       "53.0     7\n",
       "37.0     7\n",
       "41.0     7\n",
       "59.0     7\n",
       "48.0     7\n",
       "56.0     7\n",
       "43.0     7\n",
       "22.0     6\n",
       "44.0     6\n",
       "28.0     6\n",
       "49.0     6\n",
       "39.0     6\n",
       "27.0     6\n",
       "42.0     6\n",
       "62.0     6\n",
       "64.0     5\n",
       "36.0     5\n",
       "        ..\n",
       "29.0     3\n",
       "75.0     3\n",
       "68.0     3\n",
       "73.0     3\n",
       "72.0     3\n",
       "71.0     2\n",
       "12.0     2\n",
       "69.0     2\n",
       "1.0      2\n",
       "78.0     2\n",
       "14.0     2\n",
       "20.0     2\n",
       "31.0     2\n",
       "24.0     2\n",
       "13.0     1\n",
       "26.0     1\n",
       "81.0     1\n",
       "85.0     1\n",
       "91.0     1\n",
       "25.0     1\n",
       "74.0     1\n",
       "95.0     1\n",
       "77.0     1\n",
       "21.0     1\n",
       "16.0     1\n",
       "70.0     1\n",
       "11.0     1\n",
       "17.0     1\n",
       "79.0     1\n",
       "18.0     1\n",
       "Name: Instruction Score, dtype: int64"
      ]
     },
     "execution_count": 559,
     "metadata": {},
     "output_type": "execute_result"
    }
   ],
   "source": [
    "df['Instruction Score'].value_counts()"
   ]
  },
  {
   "cell_type": "code",
   "execution_count": 560,
   "metadata": {
    "collapsed": true
   },
   "outputs": [],
   "source": [
    "del df['Instruction Icon ']"
   ]
  },
  {
   "cell_type": "code",
   "execution_count": 561,
   "metadata": {},
   "outputs": [
    {
     "data": {
      "text/plain": [
       "NDA    151\n",
       "36       7\n",
       "59       7\n",
       "32       6\n",
       "48       6\n",
       "56       6\n",
       "54       5\n",
       "46       5\n",
       "47       5\n",
       "42       5\n",
       "50       5\n",
       "39       4\n",
       "63       4\n",
       "44       4\n",
       "30       4\n",
       "70       4\n",
       "62       4\n",
       "34       4\n",
       "37       4\n",
       "31       3\n",
       "71       3\n",
       "43       3\n",
       "45       3\n",
       "53       3\n",
       "41       3\n",
       "66       3\n",
       "55       3\n",
       "25       2\n",
       "84       2\n",
       "27       2\n",
       "      ... \n",
       "15       2\n",
       "58       2\n",
       "99       2\n",
       "29       2\n",
       "19       2\n",
       "72       2\n",
       "57       2\n",
       "33       2\n",
       "16       1\n",
       "69       1\n",
       "52       1\n",
       "79       1\n",
       "88       1\n",
       "94       1\n",
       "13       1\n",
       "35       1\n",
       "8        1\n",
       "67       1\n",
       "82       1\n",
       "87       1\n",
       "90       1\n",
       "85       1\n",
       "78       1\n",
       "28       1\n",
       "73       1\n",
       "20       1\n",
       "74       1\n",
       "17       1\n",
       "23       1\n",
       "14       1\n",
       "Name: Teachers Score, dtype: int64"
      ]
     },
     "execution_count": 561,
     "metadata": {},
     "output_type": "execute_result"
    }
   ],
   "source": [
    "df['Teachers Score'].value_counts()"
   ]
  },
  {
   "cell_type": "code",
   "execution_count": 562,
   "metadata": {
    "collapsed": true
   },
   "outputs": [],
   "source": [
    "del df['Teachers Icon ']  #too many missing values"
   ]
  },
  {
   "cell_type": "code",
   "execution_count": 563,
   "metadata": {
    "collapsed": true
   },
   "outputs": [],
   "source": [
    "del df['Teachers Score'] #too many missing values"
   ]
  },
  {
   "cell_type": "code",
   "execution_count": 564,
   "metadata": {},
   "outputs": [
    {
     "data": {
      "text/plain": [
       "Index([u'Elementary, Middle, or High School', u'Healthy Schools Certified?',\n",
       "       u'Safety Score', u'Environment Score', u'Instruction Score',\n",
       "       u'Leaders Icon ', u'Leaders Score ', u'Parent Engagement Icon ',\n",
       "       u'Parent Engagement Score', u'Parent Environment Icon',\n",
       "       u'Parent Environment Score', u'Average Student Attendance',\n",
       "       u'Rate of Misconducts (per 100 students) ',\n",
       "       u'Average Teacher Attendance',\n",
       "       u'Individualized Education Program Compliance Rate ',\n",
       "       u'Pk-2 Literacy %', u'Pk-2 Math %', u'Gr3-5 Grade Level Math %',\n",
       "       u'Gr3-5 Grade Level Read % ', u'Gr3-5 Keep Pace Read %',\n",
       "       u'Gr3-5 Keep Pace Math %', u'Gr6-8 Grade Level Math %',\n",
       "       u'Gr6-8 Grade Level Read %', u'Gr6-8 Keep Pace Math%',\n",
       "       u'Gr6-8 Keep Pace Read %', u'Gr-8 Explore Math %',\n",
       "       u'Gr-8 Explore Read %', u'ISAT Exceeding Math %',\n",
       "       u'ISAT Exceeding Reading % ', u'ISAT Value Add Math',\n",
       "       u'ISAT Value Add Read', u'ISAT Value Add Color Math',\n",
       "       u'ISAT Value Add Color Read', u'Students Taking  Algebra %',\n",
       "       u'Students Passing  Algebra %', u'9th Grade EXPLORE (2009) ',\n",
       "       u'9th Grade EXPLORE (2010) ', u'10th Grade PLAN (2009) ',\n",
       "       u'10th Grade PLAN (2010) ', u'Net Change EXPLORE and PLAN',\n",
       "       u'11th Grade Average ACT (2011) ', u'Net Change PLAN and ACT',\n",
       "       u'College Eligibility %', u'Graduation Rate %',\n",
       "       u'College Enrollment Rate %',\n",
       "       u'College Enrollment (number of students) ', u'General Services Route ',\n",
       "       u'Freshman on Track Rate %', u'Community Area Number',\n",
       "       u'Community Area Name', u'Ward', u'Police District', u'probation',\n",
       "       u'Id'],\n",
       "      dtype='object')"
      ]
     },
     "execution_count": 564,
     "metadata": {},
     "output_type": "execute_result"
    }
   ],
   "source": [
    "df.columns"
   ]
  },
  {
   "cell_type": "code",
   "execution_count": 565,
   "metadata": {
    "collapsed": true
   },
   "outputs": [],
   "source": [
    "del df['Leaders Score '] #too many missing values"
   ]
  },
  {
   "cell_type": "code",
   "execution_count": 566,
   "metadata": {
    "collapsed": true
   },
   "outputs": [],
   "source": [
    "del df['Leaders Icon '] #too many missing values"
   ]
  },
  {
   "cell_type": "code",
   "execution_count": 567,
   "metadata": {
    "collapsed": true
   },
   "outputs": [],
   "source": [
    "del df['Parent Engagement Icon '] #just reflects the score"
   ]
  },
  {
   "cell_type": "code",
   "execution_count": 568,
   "metadata": {
    "collapsed": true
   },
   "outputs": [],
   "source": [
    "del df['Parent Engagement Score'] #not a huge percentage (approx 17%), but setting the NDA values to zero would likely skew the results"
   ]
  },
  {
   "cell_type": "code",
   "execution_count": 569,
   "metadata": {
    "collapsed": true
   },
   "outputs": [],
   "source": [
    "del df['Parent Environment Score'] #same logic as above"
   ]
  },
  {
   "cell_type": "code",
   "execution_count": 570,
   "metadata": {
    "collapsed": true
   },
   "outputs": [],
   "source": [
    "del df['Parent Environment Icon'] ##same logic as above"
   ]
  },
  {
   "cell_type": "code",
   "execution_count": 571,
   "metadata": {},
   "outputs": [
    {
     "data": {
      "text/plain": [
       "95.5%    19\n",
       "95.1%    14\n",
       "95.2%    11\n",
       "95.4%    10\n",
       "95.0%    10\n",
       "94.7%     9\n",
       "92.1%     9\n",
       "96.2%     9\n",
       "95.3%     9\n",
       "95.9%     9\n",
       "96.1%     8\n",
       "96.3%     8\n",
       "95.6%     7\n",
       "95.7%     7\n",
       "91.8%     6\n",
       "92.5%     6\n",
       "94.8%     6\n",
       "94.9%     6\n",
       "95.8%     6\n",
       "93.3%     6\n",
       "93.9%     6\n",
       "96.8%     5\n",
       "93.5%     5\n",
       "94.4%     5\n",
       "94.6%     5\n",
       "93.8%     5\n",
       "93.4%     5\n",
       "91.9%     5\n",
       "96.0%     4\n",
       "96.4%     4\n",
       "         ..\n",
       "92.0%     2\n",
       "94.0%     2\n",
       "90.0%     2\n",
       "97.4%     2\n",
       "96.7%     2\n",
       "93.2%     2\n",
       "96.5%     2\n",
       "97.0%     1\n",
       "89.3%     1\n",
       "90.1%     1\n",
       "89.5%     1\n",
       "89.1%     1\n",
       "92.2%     1\n",
       "90.3%     1\n",
       "87.0%     1\n",
       "88.0%     1\n",
       "98.4%     1\n",
       "88.7%     1\n",
       "93.6%     1\n",
       "92.3%     1\n",
       "90.5%     1\n",
       "88.4%     1\n",
       "89.9%     1\n",
       "91.1%     1\n",
       "90.6%     1\n",
       "97.2%     1\n",
       "97.1%     1\n",
       "97.8%     1\n",
       "91.6%     1\n",
       "84.2%     1\n",
       "Name: Average Student Attendance, dtype: int64"
      ]
     },
     "execution_count": 571,
     "metadata": {},
     "output_type": "execute_result"
    }
   ],
   "source": [
    "df['Average Student Attendance'].value_counts()   #keep - will need to drop the % sign and convert to float"
   ]
  },
  {
   "cell_type": "code",
   "execution_count": 572,
   "metadata": {},
   "outputs": [
    {
     "data": {
      "text/plain": [
       "0.3      6\n",
       "2.1      5\n",
       "10.3     4\n",
       "0.0      4\n",
       "3.9      3\n",
       "1.9      3\n",
       "0.7      3\n",
       "6.9      3\n",
       "1.4      3\n",
       "23.4     3\n",
       "5.9      3\n",
       "1.3      3\n",
       "8.1      3\n",
       "3.4      3\n",
       "5.7      3\n",
       "3.2      3\n",
       "3.0      3\n",
       "6.0      3\n",
       "5.0      3\n",
       "2.9      3\n",
       "11.1     3\n",
       "1.2      3\n",
       "20.1     3\n",
       "1.7      3\n",
       "14.8     3\n",
       "5.1      2\n",
       "10.5     2\n",
       "29.0     2\n",
       "7.6      2\n",
       "2.4      2\n",
       "        ..\n",
       "6.2      1\n",
       "9.1      1\n",
       "8.4      1\n",
       "52.1     1\n",
       "10.4     1\n",
       "153.9    1\n",
       "87.3     1\n",
       "185.5    1\n",
       "156.6    1\n",
       "32.2     1\n",
       "51.8     1\n",
       "26.7     1\n",
       "25.8     1\n",
       "17.2     1\n",
       "1.8      1\n",
       "6.8      1\n",
       "101.2    1\n",
       "75.9     1\n",
       "36.1     1\n",
       "15.1     1\n",
       "12.4     1\n",
       "13.8     1\n",
       "35.4     1\n",
       "44.6     1\n",
       "7.3      1\n",
       "27.3     1\n",
       "38.4     1\n",
       "28.1     1\n",
       "7.4      1\n",
       "13.1     1\n",
       "Name: Rate of Misconducts (per 100 students) , dtype: int64"
      ]
     },
     "execution_count": 572,
     "metadata": {},
     "output_type": "execute_result"
    }
   ],
   "source": [
    "df['Rate of Misconducts (per 100 students) '].value_counts()"
   ]
  },
  {
   "cell_type": "code",
   "execution_count": 573,
   "metadata": {},
   "outputs": [
    {
     "data": {
      "text/plain": [
       "96.0%    17\n",
       "95.4%    16\n",
       "95.9%    15\n",
       "95.6%    14\n",
       "96.3%    14\n",
       "96.2%    14\n",
       "95.3%    13\n",
       "96.7%    13\n",
       "96.4%    12\n",
       "95.8%    12\n",
       "95.0%    11\n",
       "95.2%    11\n",
       "94.7%    11\n",
       "96.9%     9\n",
       "94.6%     9\n",
       "95.1%     9\n",
       "95.7%     9\n",
       "96.6%     9\n",
       "96.5%     8\n",
       "97.0%     8\n",
       "96.1%     8\n",
       "94.9%     7\n",
       "96.8%     6\n",
       "95.5%     6\n",
       "94.3%     5\n",
       "97.2%     5\n",
       "94.8%     5\n",
       "97.7%     4\n",
       "97.6%     4\n",
       "97.1%     4\n",
       "93.3%     3\n",
       "97.4%     3\n",
       "94.4%     3\n",
       "97.3%     3\n",
       "93.9%     2\n",
       "94.1%     2\n",
       "97.8%     2\n",
       "92.4%     2\n",
       "0.0%      2\n",
       "94.0%     2\n",
       "93.4%     1\n",
       "98.1%     1\n",
       "93.6%     1\n",
       "91.7%     1\n",
       "97.5%     1\n",
       "93.2%     1\n",
       "94.5%     1\n",
       "97.9%     1\n",
       "93.1%     1\n",
       "94.2%     1\n",
       "93.5%     1\n",
       "93.8%     1\n",
       "Name: Average Teacher Attendance, dtype: int64"
      ]
     },
     "execution_count": 573,
     "metadata": {},
     "output_type": "execute_result"
    }
   ],
   "source": [
    "df['Average Teacher Attendance'].value_counts()   #keep - will have to drop % sign and convert to float"
   ]
  },
  {
   "cell_type": "code",
   "execution_count": 574,
   "metadata": {},
   "outputs": [
    {
     "data": {
      "text/plain": [
       "Index([u'Elementary, Middle, or High School', u'Healthy Schools Certified?',\n",
       "       u'Safety Score', u'Environment Score', u'Instruction Score',\n",
       "       u'Average Student Attendance',\n",
       "       u'Rate of Misconducts (per 100 students) ',\n",
       "       u'Average Teacher Attendance',\n",
       "       u'Individualized Education Program Compliance Rate ',\n",
       "       u'Pk-2 Literacy %', u'Pk-2 Math %', u'Gr3-5 Grade Level Math %',\n",
       "       u'Gr3-5 Grade Level Read % ', u'Gr3-5 Keep Pace Read %',\n",
       "       u'Gr3-5 Keep Pace Math %', u'Gr6-8 Grade Level Math %',\n",
       "       u'Gr6-8 Grade Level Read %', u'Gr6-8 Keep Pace Math%',\n",
       "       u'Gr6-8 Keep Pace Read %', u'Gr-8 Explore Math %',\n",
       "       u'Gr-8 Explore Read %', u'ISAT Exceeding Math %',\n",
       "       u'ISAT Exceeding Reading % ', u'ISAT Value Add Math',\n",
       "       u'ISAT Value Add Read', u'ISAT Value Add Color Math',\n",
       "       u'ISAT Value Add Color Read', u'Students Taking  Algebra %',\n",
       "       u'Students Passing  Algebra %', u'9th Grade EXPLORE (2009) ',\n",
       "       u'9th Grade EXPLORE (2010) ', u'10th Grade PLAN (2009) ',\n",
       "       u'10th Grade PLAN (2010) ', u'Net Change EXPLORE and PLAN',\n",
       "       u'11th Grade Average ACT (2011) ', u'Net Change PLAN and ACT',\n",
       "       u'College Eligibility %', u'Graduation Rate %',\n",
       "       u'College Enrollment Rate %',\n",
       "       u'College Enrollment (number of students) ', u'General Services Route ',\n",
       "       u'Freshman on Track Rate %', u'Community Area Number',\n",
       "       u'Community Area Name', u'Ward', u'Police District', u'probation',\n",
       "       u'Id'],\n",
       "      dtype='object')"
      ]
     },
     "execution_count": 574,
     "metadata": {},
     "output_type": "execute_result"
    }
   ],
   "source": [
    "df.columns"
   ]
  },
  {
   "cell_type": "code",
   "execution_count": 575,
   "metadata": {},
   "outputs": [
    {
     "data": {
      "text/plain": [
       "100.0%    207\n",
       "98.6%       9\n",
       "98.1%       5\n",
       "99.1%       5\n",
       "98.5%       5\n",
       "98.0%       4\n",
       "97.9%       4\n",
       "97.7%       4\n",
       "99.5%       4\n",
       "98.3%       4\n",
       "98.4%       3\n",
       "96.6%       3\n",
       "98.7%       3\n",
       "96.0%       3\n",
       "98.9%       3\n",
       "98.8%       3\n",
       "97.8%       3\n",
       "96.9%       3\n",
       "94.0%       2\n",
       "98.2%       2\n",
       "97.3%       2\n",
       "96.2%       2\n",
       "96.4%       2\n",
       "97.0%       2\n",
       "92.9%       2\n",
       "95.2%       2\n",
       "99.0%       2\n",
       "94.7%       2\n",
       "96.7%       2\n",
       "94.5%       2\n",
       "94.8%       1\n",
       "91.8%       1\n",
       "99.4%       1\n",
       "92.1%       1\n",
       "95.9%       1\n",
       "95.8%       1\n",
       "90.5%       1\n",
       "95.7%       1\n",
       "92.0%       1\n",
       "97.6%       1\n",
       "97.4%       1\n",
       "92.6%       1\n",
       "88.4%       1\n",
       "96.1%       1\n",
       "94.4%       1\n",
       "97.5%       1\n",
       "97.1%       1\n",
       "99.7%       1\n",
       "91.4%       1\n",
       "96.8%       1\n",
       "94.1%       1\n",
       "89.0%       1\n",
       "99.3%       1\n",
       "95.0%       1\n",
       "93.9%       1\n",
       "Name: Individualized Education Program Compliance Rate , dtype: int64"
      ]
     },
     "execution_count": 575,
     "metadata": {},
     "output_type": "execute_result"
    }
   ],
   "source": [
    "df['Individualized Education Program Compliance Rate '].value_counts()"
   ]
  },
  {
   "cell_type": "code",
   "execution_count": 576,
   "metadata": {},
   "outputs": [
    {
     "data": {
      "text/plain": [
       "NDA     52\n",
       "68.5     3\n",
       "67.6     3\n",
       "81.6     3\n",
       "64.5     3\n",
       "49       3\n",
       "72.7     3\n",
       "52.7     2\n",
       "59.4     2\n",
       "63.9     2\n",
       "69.7     2\n",
       "47.8     2\n",
       "66.7     2\n",
       "71.3     2\n",
       "75.2     2\n",
       "62.6     2\n",
       "52       2\n",
       "81.3     2\n",
       "84.6     2\n",
       "84.7     2\n",
       "55.4     2\n",
       "56.8     2\n",
       "55.1     2\n",
       "63       2\n",
       "58.6     2\n",
       "63.6     2\n",
       "61.3     2\n",
       "77.3     2\n",
       "58.8     2\n",
       "74.8     2\n",
       "        ..\n",
       "65       1\n",
       "62       1\n",
       "56.7     1\n",
       "56.3     1\n",
       "80.1     1\n",
       "71.1     1\n",
       "71.8     1\n",
       "68.4     1\n",
       "63.4     1\n",
       "53.7     1\n",
       "53.6     1\n",
       "53.2     1\n",
       "69.6     1\n",
       "47.4     1\n",
       "61.6     1\n",
       "61.7     1\n",
       "61.4     1\n",
       "63.8     1\n",
       "63.5     1\n",
       "41.3     1\n",
       "58.1     1\n",
       "58.7     1\n",
       "58.4     1\n",
       "63.3     1\n",
       "84.4     1\n",
       "84.3     1\n",
       "43.8     1\n",
       "79.6     1\n",
       "41.2     1\n",
       "69       1\n",
       "Name: Pk-2 Literacy %, dtype: int64"
      ]
     },
     "execution_count": 576,
     "metadata": {},
     "output_type": "execute_result"
    }
   ],
   "source": [
    "df['Pk-2 Literacy %'].value_counts()"
   ]
  },
  {
   "cell_type": "code",
   "execution_count": 577,
   "metadata": {
    "collapsed": true
   },
   "outputs": [],
   "source": [
    "del df['Pk-2 Literacy %']    #significant percentage of missing values"
   ]
  },
  {
   "cell_type": "code",
   "execution_count": 578,
   "metadata": {
    "collapsed": true
   },
   "outputs": [],
   "source": [
    "del df['Pk-2 Math %'] #signficant percentage of missing values"
   ]
  },
  {
   "cell_type": "code",
   "execution_count": 579,
   "metadata": {},
   "outputs": [
    {
     "data": {
      "text/plain": [
       "Index([u'Elementary, Middle, or High School', u'Healthy Schools Certified?',\n",
       "       u'Safety Score', u'Environment Score', u'Instruction Score',\n",
       "       u'Average Student Attendance',\n",
       "       u'Rate of Misconducts (per 100 students) ',\n",
       "       u'Average Teacher Attendance',\n",
       "       u'Individualized Education Program Compliance Rate ',\n",
       "       u'Gr3-5 Grade Level Math %', u'Gr3-5 Grade Level Read % ',\n",
       "       u'Gr3-5 Keep Pace Read %', u'Gr3-5 Keep Pace Math %',\n",
       "       u'Gr6-8 Grade Level Math %', u'Gr6-8 Grade Level Read %',\n",
       "       u'Gr6-8 Keep Pace Math%', u'Gr6-8 Keep Pace Read %',\n",
       "       u'Gr-8 Explore Math %', u'Gr-8 Explore Read %',\n",
       "       u'ISAT Exceeding Math %', u'ISAT Exceeding Reading % ',\n",
       "       u'ISAT Value Add Math', u'ISAT Value Add Read',\n",
       "       u'ISAT Value Add Color Math', u'ISAT Value Add Color Read',\n",
       "       u'Students Taking  Algebra %', u'Students Passing  Algebra %',\n",
       "       u'9th Grade EXPLORE (2009) ', u'9th Grade EXPLORE (2010) ',\n",
       "       u'10th Grade PLAN (2009) ', u'10th Grade PLAN (2010) ',\n",
       "       u'Net Change EXPLORE and PLAN', u'11th Grade Average ACT (2011) ',\n",
       "       u'Net Change PLAN and ACT', u'College Eligibility %',\n",
       "       u'Graduation Rate %', u'College Enrollment Rate %',\n",
       "       u'College Enrollment (number of students) ', u'General Services Route ',\n",
       "       u'Freshman on Track Rate %', u'Community Area Number',\n",
       "       u'Community Area Name', u'Ward', u'Police District', u'probation',\n",
       "       u'Id'],\n",
       "      dtype='object')"
      ]
     },
     "execution_count": 579,
     "metadata": {},
     "output_type": "execute_result"
    }
   ],
   "source": [
    "df.columns"
   ]
  },
  {
   "cell_type": "code",
   "execution_count": 580,
   "metadata": {
    "scrolled": true
   },
   "outputs": [
    {
     "data": {
      "text/plain": [
       "NDA     15\n",
       "34       4\n",
       "35.3     4\n",
       "39.1     3\n",
       "21.8     3\n",
       "17.9     3\n",
       "31       3\n",
       "27.4     3\n",
       "21.6     3\n",
       "26.7     3\n",
       "25.3     3\n",
       "23.6     3\n",
       "36.6     3\n",
       "13.8     3\n",
       "34.4     2\n",
       "34.5     2\n",
       "35.8     2\n",
       "31.1     2\n",
       "28.7     2\n",
       "22.4     2\n",
       "36.9     2\n",
       "24.7     2\n",
       "53.1     2\n",
       "38.3     2\n",
       "28.2     2\n",
       "71.6     2\n",
       "36.8     2\n",
       "36.5     2\n",
       "69.3     2\n",
       "36.3     2\n",
       "        ..\n",
       "23.7     1\n",
       "59.2     1\n",
       "81.4     1\n",
       "21.9     1\n",
       "72.6     1\n",
       "72.1     1\n",
       "61.7     1\n",
       "61.4     1\n",
       "31.5     1\n",
       "18.8     1\n",
       "63.8     1\n",
       "63.9     1\n",
       "16       1\n",
       "58.1     1\n",
       "10       1\n",
       "58.5     1\n",
       "43.2     1\n",
       "28.5     1\n",
       "28.4     1\n",
       "92       1\n",
       "43.4     1\n",
       "81.2     1\n",
       "28.9     1\n",
       "28.8     1\n",
       "23.8     1\n",
       "41.3     1\n",
       "41.4     1\n",
       "59.8     1\n",
       "9.1      1\n",
       "32.6     1\n",
       "Name: Gr3-5 Grade Level Math %, dtype: int64"
      ]
     },
     "execution_count": 580,
     "metadata": {},
     "output_type": "execute_result"
    }
   ],
   "source": [
    "df['Gr3-5 Grade Level Math %'].value_counts()   #4.6% missing... #keep this column but drop the rows with NDA "
   ]
  },
  {
   "cell_type": "code",
   "execution_count": 581,
   "metadata": {
    "collapsed": true
   },
   "outputs": [],
   "source": [
    "# df['Gr3-5 Grade Level Math %'].apply(str)\n",
    "df['Gr3-5 Grade Level Math %'] = df['Gr3-5 Grade Level Math %'].astype(str)"
   ]
  },
  {
   "cell_type": "code",
   "execution_count": 582,
   "metadata": {},
   "outputs": [
    {
     "data": {
      "text/plain": [
       "15"
      ]
     },
     "execution_count": 582,
     "metadata": {},
     "output_type": "execute_result"
    }
   ],
   "source": [
    "len(df[df['Gr3-5 Grade Level Math %'].str.contains('NDA', na = False)]) "
   ]
  },
  {
   "cell_type": "code",
   "execution_count": 583,
   "metadata": {},
   "outputs": [
    {
     "data": {
      "text/plain": [
       "Elementary, Middle, or High School                    object\n",
       "Healthy Schools Certified?                            object\n",
       "Safety Score                                         float64\n",
       "Environment Score                                    float64\n",
       "Instruction Score                                    float64\n",
       "Average Student Attendance                            object\n",
       "Rate of Misconducts (per 100 students)               float64\n",
       "Average Teacher Attendance                            object\n",
       "Individualized Education Program Compliance Rate      object\n",
       "Gr3-5 Grade Level Math %                              object\n",
       "Gr3-5 Grade Level Read %                              object\n",
       "Gr3-5 Keep Pace Read %                                object\n",
       "Gr3-5 Keep Pace Math %                                object\n",
       "Gr6-8 Grade Level Math %                              object\n",
       "Gr6-8 Grade Level Read %                              object\n",
       "Gr6-8 Keep Pace Math%                                 object\n",
       "Gr6-8 Keep Pace Read %                                object\n",
       "Gr-8 Explore Math %                                   object\n",
       "Gr-8 Explore Read %                                   object\n",
       "ISAT Exceeding Math %                                float64\n",
       "ISAT Exceeding Reading %                             float64\n",
       "ISAT Value Add Math                                  float64\n",
       "ISAT Value Add Read                                  float64\n",
       "ISAT Value Add Color Math                             object\n",
       "ISAT Value Add Color Read                             object\n",
       "Students Taking  Algebra %                            object\n",
       "Students Passing  Algebra %                           object\n",
       "9th Grade EXPLORE (2009)                              object\n",
       "9th Grade EXPLORE (2010)                              object\n",
       "10th Grade PLAN (2009)                                object\n",
       "10th Grade PLAN (2010)                                object\n",
       "Net Change EXPLORE and PLAN                           object\n",
       "11th Grade Average ACT (2011)                         object\n",
       "Net Change PLAN and ACT                               object\n",
       "College Eligibility %                                 object\n",
       "Graduation Rate %                                     object\n",
       "College Enrollment Rate %                             object\n",
       "College Enrollment (number of students)                int64\n",
       "General Services Route                                 int64\n",
       "Freshman on Track Rate %                              object\n",
       "Community Area Number                                  int64\n",
       "Community Area Name                                   object\n",
       "Ward                                                   int64\n",
       "Police District                                        int64\n",
       "probation                                              int64\n",
       "Id                                                     int64\n",
       "dtype: object"
      ]
     },
     "execution_count": 583,
     "metadata": {},
     "output_type": "execute_result"
    }
   ],
   "source": [
    "df.dtypes"
   ]
  },
  {
   "cell_type": "code",
   "execution_count": 584,
   "metadata": {},
   "outputs": [
    {
     "data": {
      "text/plain": [
       "count     324\n",
       "unique    243\n",
       "top       NDA\n",
       "freq       15\n",
       "Name: Gr3-5 Grade Level Math %, dtype: object"
      ]
     },
     "execution_count": 584,
     "metadata": {},
     "output_type": "execute_result"
    }
   ],
   "source": [
    "df['Gr3-5 Grade Level Math %'].describe()"
   ]
  },
  {
   "cell_type": "code",
   "execution_count": 585,
   "metadata": {},
   "outputs": [
    {
     "data": {
      "text/plain": [
       "NDA     15\n",
       "28.2     4\n",
       "17.1     4\n",
       "24       4\n",
       "16.2     4\n",
       "19.8     3\n",
       "32.3     3\n",
       "26.8     3\n",
       "27.4     3\n",
       "24.3     3\n",
       "22.4     3\n",
       "34.9     3\n",
       "18.8     3\n",
       "26.3     3\n",
       "37.3     3\n",
       "13.3     2\n",
       "30.5     2\n",
       "34.1     2\n",
       "33.3     2\n",
       "37       2\n",
       "68.9     2\n",
       "11.8     2\n",
       "38.7     2\n",
       "39.7     2\n",
       "19.2     2\n",
       "48.5     2\n",
       "14.6     2\n",
       "16.1     2\n",
       "18.4     2\n",
       "14.2     2\n",
       "        ..\n",
       "23.2     1\n",
       "23.3     1\n",
       "32.9     1\n",
       "78.3     1\n",
       "39.2     1\n",
       "21.5     1\n",
       "39.4     1\n",
       "58.4     1\n",
       "58.5     1\n",
       "28.6     1\n",
       "28.5     1\n",
       "43.6     1\n",
       "28.1     1\n",
       "43.8     1\n",
       "43.9     1\n",
       "84.9     1\n",
       "23.7     1\n",
       "41.5     1\n",
       "21.7     1\n",
       "32.2     1\n",
       "71.2     1\n",
       "72.8     1\n",
       "43.4     1\n",
       "9.9      1\n",
       "9.8      1\n",
       "21.8     1\n",
       "21.9     1\n",
       "75.7     1\n",
       "21.1     1\n",
       "35.8     1\n",
       "Name: Gr3-5 Grade Level Read % , dtype: int64"
      ]
     },
     "execution_count": 585,
     "metadata": {},
     "output_type": "execute_result"
    }
   ],
   "source": [
    "df['Gr3-5 Grade Level Read % '].value_counts() #keep this column but drop the rows with NDA "
   ]
  },
  {
   "cell_type": "code",
   "execution_count": 586,
   "metadata": {},
   "outputs": [
    {
     "data": {
      "text/plain": [
       "NDA     15\n",
       "44.4     5\n",
       "50.7     5\n",
       "56.3     4\n",
       "50       4\n",
       "51.3     4\n",
       "41.2     4\n",
       "52.8     4\n",
       "51.8     4\n",
       "51.6     4\n",
       "66.9     4\n",
       "53.2     4\n",
       "52       4\n",
       "61.1     3\n",
       "53.6     3\n",
       "45.9     3\n",
       "40.6     3\n",
       "51.2     3\n",
       "37.5     3\n",
       "55       3\n",
       "43.7     3\n",
       "63.2     3\n",
       "49.8     3\n",
       "52.6     3\n",
       "48.2     3\n",
       "55.8     3\n",
       "56.6     2\n",
       "51.9     2\n",
       "41.1     2\n",
       "54       2\n",
       "        ..\n",
       "60.6     1\n",
       "60.4     1\n",
       "60.9     1\n",
       "60.8     1\n",
       "57.7     1\n",
       "62.3     1\n",
       "62.2     1\n",
       "62.5     1\n",
       "56.2     1\n",
       "39.6     1\n",
       "35.1     1\n",
       "69       1\n",
       "58.6     1\n",
       "63.1     1\n",
       "43.2     1\n",
       "43.3     1\n",
       "43.6     1\n",
       "43.5     1\n",
       "28.8     1\n",
       "41.4     1\n",
       "71.6     1\n",
       "42.7     1\n",
       "32       1\n",
       "72.3     1\n",
       "72.6     1\n",
       "72.4     1\n",
       "66.5     1\n",
       "39.2     1\n",
       "39.5     1\n",
       "33.6     1\n",
       "Name: Gr3-5 Keep Pace Read %, dtype: int64"
      ]
     },
     "execution_count": 586,
     "metadata": {},
     "output_type": "execute_result"
    }
   ],
   "source": [
    "df['Gr3-5 Keep Pace Read %'].value_counts() #keep this column but drop the rows with NDA "
   ]
  },
  {
   "cell_type": "code",
   "execution_count": 587,
   "metadata": {},
   "outputs": [
    {
     "data": {
      "text/plain": [
       "NDA     15\n",
       "58.5     5\n",
       "49.5     5\n",
       "59.8     4\n",
       "40       4\n",
       "48.3     4\n",
       "55.3     4\n",
       "58.2     3\n",
       "62.5     3\n",
       "51.5     3\n",
       "67.6     3\n",
       "63.3     3\n",
       "47.5     3\n",
       "47.4     3\n",
       "57.6     3\n",
       "55.1     3\n",
       "52.2     3\n",
       "44.3     3\n",
       "70       3\n",
       "66.9     2\n",
       "71.1     2\n",
       "71.6     2\n",
       "50.3     2\n",
       "41.9     2\n",
       "50.4     2\n",
       "43.5     2\n",
       "43.1     2\n",
       "78.6     2\n",
       "52.3     2\n",
       "58.7     2\n",
       "        ..\n",
       "59.7     1\n",
       "46.9     1\n",
       "46.8     1\n",
       "38       1\n",
       "59.2     1\n",
       "54.5     1\n",
       "77       1\n",
       "62.1     1\n",
       "53.1     1\n",
       "40.6     1\n",
       "40.1     1\n",
       "62.2     1\n",
       "62.3     1\n",
       "68.8     1\n",
       "32.4     1\n",
       "33.1     1\n",
       "80.2     1\n",
       "77.4     1\n",
       "48.9     1\n",
       "57.9     1\n",
       "47.6     1\n",
       "46.4     1\n",
       "70.2     1\n",
       "60.5     1\n",
       "32.1     1\n",
       "46.7     1\n",
       "60.8     1\n",
       "57.4     1\n",
       "57.7     1\n",
       "80.6     1\n",
       "Name: Gr3-5 Keep Pace Math %, dtype: int64"
      ]
     },
     "execution_count": 587,
     "metadata": {},
     "output_type": "execute_result"
    }
   ],
   "source": [
    "df['Gr3-5 Keep Pace Math %'].value_counts()  #keep this column but drop the rows with NDA "
   ]
  },
  {
   "cell_type": "code",
   "execution_count": 588,
   "metadata": {
    "collapsed": true
   },
   "outputs": [],
   "source": [
    "# def nullify(NDAs):\n",
    "#     NDAs = NDAs.replace('NDA', '')\n",
    "#     return NDAs\n",
    "\n",
    "# df['Gr3-5 Grade Level Math %'] = df['Gr3-5 Grade Level Math %'].apply(nullify)\n",
    "# df['Gr3-5 Grade Level Read % '] = df['Gr3-5 Grade Level Read % '].apply(nullify)\n",
    "# df['Gr3-5 Keep Pace Math %'] = df['Gr3-5 Keep Pace Math %'].apply(nullify)\n",
    "# df['Gr3-5 Keep Pace Read %'] = df['Gr3-5 Keep Pace Read %'].apply(nullify)"
   ]
  },
  {
   "cell_type": "code",
   "execution_count": 589,
   "metadata": {},
   "outputs": [
    {
     "data": {
      "text/plain": [
       "NDA     15\n",
       "44.4     5\n",
       "50.7     5\n",
       "56.3     4\n",
       "50       4\n",
       "51.3     4\n",
       "41.2     4\n",
       "52.8     4\n",
       "51.8     4\n",
       "51.6     4\n",
       "66.9     4\n",
       "53.2     4\n",
       "52       4\n",
       "61.1     3\n",
       "53.6     3\n",
       "45.9     3\n",
       "40.6     3\n",
       "51.2     3\n",
       "37.5     3\n",
       "55       3\n",
       "43.7     3\n",
       "63.2     3\n",
       "49.8     3\n",
       "52.6     3\n",
       "48.2     3\n",
       "55.8     3\n",
       "56.6     2\n",
       "51.9     2\n",
       "41.1     2\n",
       "54       2\n",
       "        ..\n",
       "60.6     1\n",
       "60.4     1\n",
       "60.9     1\n",
       "60.8     1\n",
       "57.7     1\n",
       "62.3     1\n",
       "62.2     1\n",
       "62.5     1\n",
       "56.2     1\n",
       "39.6     1\n",
       "35.1     1\n",
       "69       1\n",
       "58.6     1\n",
       "63.1     1\n",
       "43.2     1\n",
       "43.3     1\n",
       "43.6     1\n",
       "43.5     1\n",
       "28.8     1\n",
       "41.4     1\n",
       "71.6     1\n",
       "42.7     1\n",
       "32       1\n",
       "72.3     1\n",
       "72.6     1\n",
       "72.4     1\n",
       "66.5     1\n",
       "39.2     1\n",
       "39.5     1\n",
       "33.6     1\n",
       "Name: Gr3-5 Keep Pace Read %, dtype: int64"
      ]
     },
     "execution_count": 589,
     "metadata": {},
     "output_type": "execute_result"
    }
   ],
   "source": [
    "df['Gr3-5 Keep Pace Read %'].value_counts()"
   ]
  },
  {
   "cell_type": "code",
   "execution_count": 590,
   "metadata": {
    "collapsed": true
   },
   "outputs": [],
   "source": [
    "# df[df.contains(\"NDA\") == False]\n",
    "\n",
    "# df = df[(df.T != \"NDA\").any()]"
   ]
  },
  {
   "cell_type": "code",
   "execution_count": 591,
   "metadata": {},
   "outputs": [
    {
     "data": {
      "text/plain": [
       "NDA     7\n",
       "43.6    4\n",
       "33.3    4\n",
       "31.9    3\n",
       "22.1    3\n",
       "37.6    3\n",
       "47.1    3\n",
       "39.2    3\n",
       "72      3\n",
       "26.9    3\n",
       "46.7    3\n",
       "37.7    3\n",
       "32.5    3\n",
       "45.5    3\n",
       "55.2    3\n",
       "48.8    3\n",
       "44.2    3\n",
       "53.8    2\n",
       "34.4    2\n",
       "81.9    2\n",
       "27.4    2\n",
       "39.8    2\n",
       "30.1    2\n",
       "69.4    2\n",
       "30.4    2\n",
       "50      2\n",
       "35.8    2\n",
       "22.6    2\n",
       "36.3    2\n",
       "42.7    2\n",
       "       ..\n",
       "25.3    1\n",
       "42.6    1\n",
       "42.5    1\n",
       "42.3    1\n",
       "56.7    1\n",
       "33.9    1\n",
       "56.5    1\n",
       "62      1\n",
       "58.7    1\n",
       "51.2    1\n",
       "28.7    1\n",
       "43.1    1\n",
       "43.7    1\n",
       "43.4    1\n",
       "43.5    1\n",
       "41.3    1\n",
       "41.4    1\n",
       "41.6    1\n",
       "93.5    1\n",
       "41.9    1\n",
       "51.4    1\n",
       "71.3    1\n",
       "59.7    1\n",
       "23.9    1\n",
       "47.9    1\n",
       "39.4    1\n",
       "68      1\n",
       "66      1\n",
       "29.5    1\n",
       "23.2    1\n",
       "Name: Gr6-8 Grade Level Math %, dtype: int64"
      ]
     },
     "execution_count": 591,
     "metadata": {},
     "output_type": "execute_result"
    }
   ],
   "source": [
    "df['Gr6-8 Grade Level Math %'].value_counts()   #keep, remove NDA rows"
   ]
  },
  {
   "cell_type": "code",
   "execution_count": 592,
   "metadata": {},
   "outputs": [
    {
     "data": {
      "text/plain": [
       "5.6     6\n",
       "5.7     5\n",
       "11.0    5\n",
       "7.5     5\n",
       "4.3     5\n",
       "5.8     5\n",
       "5.9     4\n",
       "4.6     4\n",
       "21.3    4\n",
       "6.0     4\n",
       "3.8     4\n",
       "9.6     4\n",
       "7.8     4\n",
       "6.7     3\n",
       "11.3    3\n",
       "27.5    3\n",
       "13.7    3\n",
       "6.2     3\n",
       "12.8    3\n",
       "7.1     3\n",
       "15.7    3\n",
       "8.2     3\n",
       "9.2     3\n",
       "9.8     3\n",
       "9.7     3\n",
       "7.7     3\n",
       "8.0     3\n",
       "6.8     3\n",
       "5.5     3\n",
       "5.0     3\n",
       "       ..\n",
       "20.4    1\n",
       "8.3     1\n",
       "44.7    1\n",
       "12.7    1\n",
       "26.7    1\n",
       "10.4    1\n",
       "17.1    1\n",
       "38.2    1\n",
       "12.4    1\n",
       "56.8    1\n",
       "27.3    1\n",
       "20.7    1\n",
       "16.1    1\n",
       "22.2    1\n",
       "15.6    1\n",
       "10.1    1\n",
       "19.7    1\n",
       "50.6    1\n",
       "4.9     1\n",
       "35.7    1\n",
       "24.7    1\n",
       "23.2    1\n",
       "53.3    1\n",
       "16.2    1\n",
       "29.6    1\n",
       "22.3    1\n",
       "30.3    1\n",
       "3.4     1\n",
       "25.3    1\n",
       "39.2    1\n",
       "Name: ISAT Exceeding Reading % , dtype: int64"
      ]
     },
     "execution_count": 592,
     "metadata": {},
     "output_type": "execute_result"
    }
   ],
   "source": [
    "df['ISAT Exceeding Reading % '].value_counts() #keep, remove NDA rows"
   ]
  },
  {
   "cell_type": "code",
   "execution_count": 593,
   "metadata": {},
   "outputs": [
    {
     "data": {
      "text/plain": [
       "Yellow    204\n",
       "Green      63\n",
       "Red        57\n",
       "Name: ISAT Value Add Color Read, dtype: int64"
      ]
     },
     "execution_count": 593,
     "metadata": {},
     "output_type": "execute_result"
    }
   ],
   "source": [
    "df['ISAT Value Add Color Read'].value_counts()"
   ]
  },
  {
   "cell_type": "code",
   "execution_count": 594,
   "metadata": {
    "collapsed": true
   },
   "outputs": [],
   "source": [
    "del df['Students Taking  Algebra %'] #doesn't measure much"
   ]
  },
  {
   "cell_type": "code",
   "execution_count": 595,
   "metadata": {
    "collapsed": true
   },
   "outputs": [],
   "source": [
    "del df['Students Passing  Algebra %']   #too many missing values"
   ]
  },
  {
   "cell_type": "code",
   "execution_count": 596,
   "metadata": {
    "collapsed": true
   },
   "outputs": [],
   "source": [
    "del df['9th Grade EXPLORE (2009) ']  #too many missing values"
   ]
  },
  {
   "cell_type": "code",
   "execution_count": 597,
   "metadata": {
    "collapsed": true
   },
   "outputs": [],
   "source": [
    "del df['9th Grade EXPLORE (2010) ']  #too many missing values"
   ]
  },
  {
   "cell_type": "code",
   "execution_count": 598,
   "metadata": {
    "collapsed": true
   },
   "outputs": [],
   "source": [
    "del df['10th Grade PLAN (2009) '] #too many missing values"
   ]
  },
  {
   "cell_type": "code",
   "execution_count": 599,
   "metadata": {},
   "outputs": [
    {
     "data": {
      "text/plain": [
       "Index([u'Elementary, Middle, or High School', u'Healthy Schools Certified?',\n",
       "       u'Safety Score', u'Environment Score', u'Instruction Score',\n",
       "       u'Average Student Attendance',\n",
       "       u'Rate of Misconducts (per 100 students) ',\n",
       "       u'Average Teacher Attendance',\n",
       "       u'Individualized Education Program Compliance Rate ',\n",
       "       u'Gr3-5 Grade Level Math %', u'Gr3-5 Grade Level Read % ',\n",
       "       u'Gr3-5 Keep Pace Read %', u'Gr3-5 Keep Pace Math %',\n",
       "       u'Gr6-8 Grade Level Math %', u'Gr6-8 Grade Level Read %',\n",
       "       u'Gr6-8 Keep Pace Math%', u'Gr6-8 Keep Pace Read %',\n",
       "       u'Gr-8 Explore Math %', u'Gr-8 Explore Read %',\n",
       "       u'ISAT Exceeding Math %', u'ISAT Exceeding Reading % ',\n",
       "       u'ISAT Value Add Math', u'ISAT Value Add Read',\n",
       "       u'ISAT Value Add Color Math', u'ISAT Value Add Color Read',\n",
       "       u'10th Grade PLAN (2010) ', u'Net Change EXPLORE and PLAN',\n",
       "       u'11th Grade Average ACT (2011) ', u'Net Change PLAN and ACT',\n",
       "       u'College Eligibility %', u'Graduation Rate %',\n",
       "       u'College Enrollment Rate %',\n",
       "       u'College Enrollment (number of students) ', u'General Services Route ',\n",
       "       u'Freshman on Track Rate %', u'Community Area Number',\n",
       "       u'Community Area Name', u'Ward', u'Police District', u'probation',\n",
       "       u'Id'],\n",
       "      dtype='object')"
      ]
     },
     "execution_count": 599,
     "metadata": {},
     "output_type": "execute_result"
    }
   ],
   "source": [
    "df.columns"
   ]
  },
  {
   "cell_type": "code",
   "execution_count": 600,
   "metadata": {
    "collapsed": true
   },
   "outputs": [],
   "source": [
    "del df['Net Change EXPLORE and PLAN']"
   ]
  },
  {
   "cell_type": "code",
   "execution_count": 601,
   "metadata": {
    "collapsed": true
   },
   "outputs": [],
   "source": [
    "del df['11th Grade Average ACT (2011) ']"
   ]
  },
  {
   "cell_type": "code",
   "execution_count": 602,
   "metadata": {
    "collapsed": true
   },
   "outputs": [],
   "source": [
    "del df['Net Change PLAN and ACT']"
   ]
  },
  {
   "cell_type": "code",
   "execution_count": 603,
   "metadata": {
    "collapsed": true
   },
   "outputs": [],
   "source": [
    "del df['College Eligibility %']"
   ]
  },
  {
   "cell_type": "code",
   "execution_count": 604,
   "metadata": {
    "collapsed": true
   },
   "outputs": [],
   "source": [
    "del df['College Enrollment Rate %']"
   ]
  },
  {
   "cell_type": "code",
   "execution_count": 605,
   "metadata": {},
   "outputs": [
    {
     "data": {
      "text/plain": [
       "count     324.000000\n",
       "mean      566.972222\n",
       "std       330.186863\n",
       "min        44.000000\n",
       "25%       347.250000\n",
       "50%       478.500000\n",
       "75%       687.250000\n",
       "max      2922.000000\n",
       "Name: College Enrollment (number of students) , dtype: float64"
      ]
     },
     "execution_count": 605,
     "metadata": {},
     "output_type": "execute_result"
    }
   ],
   "source": [
    "df['College Enrollment (number of students) '].describe()"
   ]
  },
  {
   "cell_type": "code",
   "execution_count": 606,
   "metadata": {},
   "outputs": [
    {
     "data": {
      "text/plain": [
       "45    25\n",
       "36    22\n",
       "49    20\n",
       "44    19\n",
       "48    18\n",
       "31    18\n",
       "33    17\n",
       "46    17\n",
       "43    17\n",
       "32    16\n",
       "42    16\n",
       "39    15\n",
       "30    15\n",
       "35    15\n",
       "47    15\n",
       "34    14\n",
       "40    13\n",
       "29    11\n",
       "37    11\n",
       "38    10\n",
       "Name: General Services Route , dtype: int64"
      ]
     },
     "execution_count": 606,
     "metadata": {},
     "output_type": "execute_result"
    }
   ],
   "source": [
    "df['General Services Route '].value_counts()  #not sure what i want to do with this one yet"
   ]
  },
  {
   "cell_type": "code",
   "execution_count": 607,
   "metadata": {
    "collapsed": true
   },
   "outputs": [],
   "source": [
    "del df['Freshman on Track Rate %']"
   ]
  },
  {
   "cell_type": "code",
   "execution_count": 608,
   "metadata": {},
   "outputs": [
    {
     "data": {
      "text/plain": [
       "73"
      ]
     },
     "execution_count": 608,
     "metadata": {},
     "output_type": "execute_result"
    }
   ],
   "source": [
    "df['Community Area Number'].nunique()  #unsure if this would be a predictor..."
   ]
  },
  {
   "cell_type": "code",
   "execution_count": 609,
   "metadata": {
    "collapsed": true
   },
   "outputs": [],
   "source": [
    "del df['Community Area Name']"
   ]
  },
  {
   "cell_type": "code",
   "execution_count": 610,
   "metadata": {},
   "outputs": [
    {
     "data": {
      "text/plain": [
       "6     12\n",
       "20    12\n",
       "34    11\n",
       "16    11\n",
       "24    11\n",
       "25    10\n",
       "3     10\n",
       "18    10\n",
       "21    10\n",
       "28    10\n",
       "29    10\n",
       "19     9\n",
       "32     9\n",
       "1      9\n",
       "15     8\n",
       "2      8\n",
       "10     8\n",
       "41     7\n",
       "4      7\n",
       "5      7\n",
       "8      7\n",
       "17     7\n",
       "26     7\n",
       "9      7\n",
       "11     6\n",
       "13     6\n",
       "27     6\n",
       "37     6\n",
       "47     5\n",
       "14     5\n",
       "35     5\n",
       "50     5\n",
       "33     5\n",
       "43     5\n",
       "39     5\n",
       "23     5\n",
       "36     4\n",
       "46     4\n",
       "7      4\n",
       "45     4\n",
       "40     4\n",
       "22     4\n",
       "44     4\n",
       "12     3\n",
       "38     3\n",
       "30     3\n",
       "49     3\n",
       "48     2\n",
       "31     1\n",
       "Name: Ward, dtype: int64"
      ]
     },
     "execution_count": 610,
     "metadata": {},
     "output_type": "execute_result"
    }
   ],
   "source": [
    "df['Ward'].value_counts()"
   ]
  },
  {
   "cell_type": "code",
   "execution_count": 611,
   "metadata": {
    "collapsed": true
   },
   "outputs": [],
   "source": [
    "del df['Police District']"
   ]
  },
  {
   "cell_type": "code",
   "execution_count": 612,
   "metadata": {
    "collapsed": true
   },
   "outputs": [],
   "source": [
    "del df['Id']"
   ]
  },
  {
   "cell_type": "code",
   "execution_count": 613,
   "metadata": {},
   "outputs": [
    {
     "data": {
      "text/plain": [
       "0    189\n",
       "1    135\n",
       "Name: probation, dtype: int64"
      ]
     },
     "execution_count": 613,
     "metadata": {},
     "output_type": "execute_result"
    }
   ],
   "source": [
    "df['probation'].value_counts()"
   ]
  },
  {
   "cell_type": "code",
   "execution_count": 614,
   "metadata": {},
   "outputs": [
    {
     "data": {
      "text/html": [
       "<div>\n",
       "<table border=\"1\" class=\"dataframe\">\n",
       "  <thead>\n",
       "    <tr style=\"text-align: right;\">\n",
       "      <th></th>\n",
       "      <th>Elementary, Middle, or High School</th>\n",
       "      <th>Healthy Schools Certified?</th>\n",
       "      <th>Safety Score</th>\n",
       "      <th>Environment Score</th>\n",
       "      <th>Instruction Score</th>\n",
       "      <th>Average Student Attendance</th>\n",
       "      <th>Rate of Misconducts (per 100 students)</th>\n",
       "      <th>Average Teacher Attendance</th>\n",
       "      <th>Individualized Education Program Compliance Rate</th>\n",
       "      <th>Gr3-5 Grade Level Math %</th>\n",
       "      <th>...</th>\n",
       "      <th>ISAT Value Add Read</th>\n",
       "      <th>ISAT Value Add Color Math</th>\n",
       "      <th>ISAT Value Add Color Read</th>\n",
       "      <th>10th Grade PLAN (2010)</th>\n",
       "      <th>Graduation Rate %</th>\n",
       "      <th>College Enrollment (number of students)</th>\n",
       "      <th>General Services Route</th>\n",
       "      <th>Community Area Number</th>\n",
       "      <th>Ward</th>\n",
       "      <th>probation</th>\n",
       "    </tr>\n",
       "  </thead>\n",
       "  <tbody>\n",
       "    <tr>\n",
       "      <th>0</th>\n",
       "      <td>ES</td>\n",
       "      <td>No</td>\n",
       "      <td>66.0</td>\n",
       "      <td>70.0</td>\n",
       "      <td>67.0</td>\n",
       "      <td>96.2%</td>\n",
       "      <td>5.9</td>\n",
       "      <td>97.4%</td>\n",
       "      <td>99.0%</td>\n",
       "      <td>NDA</td>\n",
       "      <td>...</td>\n",
       "      <td>1.1</td>\n",
       "      <td>Green</td>\n",
       "      <td>Green</td>\n",
       "      <td>NDA</td>\n",
       "      <td>NDA</td>\n",
       "      <td>809</td>\n",
       "      <td>39</td>\n",
       "      <td>30</td>\n",
       "      <td>12</td>\n",
       "      <td>0</td>\n",
       "    </tr>\n",
       "    <tr>\n",
       "      <th>1</th>\n",
       "      <td>ES</td>\n",
       "      <td>No</td>\n",
       "      <td>91.0</td>\n",
       "      <td>64.0</td>\n",
       "      <td>56.0</td>\n",
       "      <td>96.6%</td>\n",
       "      <td>1.9</td>\n",
       "      <td>96.3%</td>\n",
       "      <td>100.0%</td>\n",
       "      <td>92</td>\n",
       "      <td>...</td>\n",
       "      <td>1.6</td>\n",
       "      <td>Green</td>\n",
       "      <td>Green</td>\n",
       "      <td>NDA</td>\n",
       "      <td>NDA</td>\n",
       "      <td>269</td>\n",
       "      <td>31</td>\n",
       "      <td>14</td>\n",
       "      <td>39</td>\n",
       "      <td>0</td>\n",
       "    </tr>\n",
       "    <tr>\n",
       "      <th>2</th>\n",
       "      <td>ES</td>\n",
       "      <td>No</td>\n",
       "      <td>30.0</td>\n",
       "      <td>30.0</td>\n",
       "      <td>45.0</td>\n",
       "      <td>91.3%</td>\n",
       "      <td>16.6</td>\n",
       "      <td>95.0%</td>\n",
       "      <td>100.0%</td>\n",
       "      <td>21.1</td>\n",
       "      <td>...</td>\n",
       "      <td>-0.6</td>\n",
       "      <td>Yellow</td>\n",
       "      <td>Yellow</td>\n",
       "      <td>NDA</td>\n",
       "      <td>NDA</td>\n",
       "      <td>658</td>\n",
       "      <td>36</td>\n",
       "      <td>25</td>\n",
       "      <td>29</td>\n",
       "      <td>1</td>\n",
       "    </tr>\n",
       "    <tr>\n",
       "      <th>6</th>\n",
       "      <td>ES</td>\n",
       "      <td>No</td>\n",
       "      <td>48.0</td>\n",
       "      <td>37.0</td>\n",
       "      <td>26.0</td>\n",
       "      <td>93.5%</td>\n",
       "      <td>37.2</td>\n",
       "      <td>94.8%</td>\n",
       "      <td>98.2%</td>\n",
       "      <td>31</td>\n",
       "      <td>...</td>\n",
       "      <td>0.0</td>\n",
       "      <td>Red</td>\n",
       "      <td>Yellow</td>\n",
       "      <td>NDA</td>\n",
       "      <td>NDA</td>\n",
       "      <td>311</td>\n",
       "      <td>42</td>\n",
       "      <td>39</td>\n",
       "      <td>4</td>\n",
       "      <td>1</td>\n",
       "    </tr>\n",
       "    <tr>\n",
       "      <th>7</th>\n",
       "      <td>ES</td>\n",
       "      <td>No</td>\n",
       "      <td>37.0</td>\n",
       "      <td>37.0</td>\n",
       "      <td>35.0</td>\n",
       "      <td>94.6%</td>\n",
       "      <td>24.8</td>\n",
       "      <td>95.2%</td>\n",
       "      <td>100.0%</td>\n",
       "      <td>26.7</td>\n",
       "      <td>...</td>\n",
       "      <td>0.7</td>\n",
       "      <td>Yellow</td>\n",
       "      <td>Yellow</td>\n",
       "      <td>NDA</td>\n",
       "      <td>NDA</td>\n",
       "      <td>801</td>\n",
       "      <td>34</td>\n",
       "      <td>23</td>\n",
       "      <td>37</td>\n",
       "      <td>0</td>\n",
       "    </tr>\n",
       "  </tbody>\n",
       "</table>\n",
       "<p>5 rows × 32 columns</p>\n",
       "</div>"
      ],
      "text/plain": [
       "  Elementary, Middle, or High School Healthy Schools Certified?  Safety Score  \\\n",
       "0                                 ES                         No          66.0   \n",
       "1                                 ES                         No          91.0   \n",
       "2                                 ES                         No          30.0   \n",
       "6                                 ES                         No          48.0   \n",
       "7                                 ES                         No          37.0   \n",
       "\n",
       "   Environment Score  Instruction Score Average Student Attendance  \\\n",
       "0               70.0               67.0                      96.2%   \n",
       "1               64.0               56.0                      96.6%   \n",
       "2               30.0               45.0                      91.3%   \n",
       "6               37.0               26.0                      93.5%   \n",
       "7               37.0               35.0                      94.6%   \n",
       "\n",
       "   Rate of Misconducts (per 100 students)  Average Teacher Attendance  \\\n",
       "0                                      5.9                      97.4%   \n",
       "1                                      1.9                      96.3%   \n",
       "2                                     16.6                      95.0%   \n",
       "6                                     37.2                      94.8%   \n",
       "7                                     24.8                      95.2%   \n",
       "\n",
       "  Individualized Education Program Compliance Rate  Gr3-5 Grade Level Math %  \\\n",
       "0                                             99.0%                      NDA   \n",
       "1                                            100.0%                       92   \n",
       "2                                            100.0%                     21.1   \n",
       "6                                             98.2%                       31   \n",
       "7                                            100.0%                     26.7   \n",
       "\n",
       "     ...     ISAT Value Add Read ISAT Value Add Color Math  \\\n",
       "0    ...                     1.1                     Green   \n",
       "1    ...                     1.6                     Green   \n",
       "2    ...                    -0.6                    Yellow   \n",
       "6    ...                     0.0                       Red   \n",
       "7    ...                     0.7                    Yellow   \n",
       "\n",
       "  ISAT Value Add Color Read 10th Grade PLAN (2010)  Graduation Rate %  \\\n",
       "0                     Green                     NDA               NDA   \n",
       "1                     Green                     NDA               NDA   \n",
       "2                    Yellow                     NDA               NDA   \n",
       "6                    Yellow                     NDA               NDA   \n",
       "7                    Yellow                     NDA               NDA   \n",
       "\n",
       "  College Enrollment (number of students)  General Services Route   \\\n",
       "0                                      809                      39   \n",
       "1                                      269                      31   \n",
       "2                                      658                      36   \n",
       "6                                      311                      42   \n",
       "7                                      801                      34   \n",
       "\n",
       "  Community Area Number Ward  probation  \n",
       "0                    30   12          0  \n",
       "1                    14   39          0  \n",
       "2                    25   29          1  \n",
       "6                    39    4          1  \n",
       "7                    23   37          0  \n",
       "\n",
       "[5 rows x 32 columns]"
      ]
     },
     "execution_count": 614,
     "metadata": {},
     "output_type": "execute_result"
    }
   ],
   "source": [
    "df.head()"
   ]
  },
  {
   "cell_type": "code",
   "execution_count": 615,
   "metadata": {
    "collapsed": true
   },
   "outputs": [],
   "source": [
    "del df['10th Grade PLAN (2010) ']"
   ]
  },
  {
   "cell_type": "code",
   "execution_count": 616,
   "metadata": {
    "collapsed": true
   },
   "outputs": [],
   "source": [
    "del df['Graduation Rate %']"
   ]
  },
  {
   "cell_type": "code",
   "execution_count": 617,
   "metadata": {
    "collapsed": true
   },
   "outputs": [],
   "source": [
    "del df['College Enrollment (number of students) ']"
   ]
  },
  {
   "cell_type": "code",
   "execution_count": 618,
   "metadata": {
    "collapsed": true
   },
   "outputs": [],
   "source": [
    "del df['General Services Route ']"
   ]
  },
  {
   "cell_type": "code",
   "execution_count": 619,
   "metadata": {
    "collapsed": true
   },
   "outputs": [],
   "source": [
    "del df['Ward']"
   ]
  },
  {
   "cell_type": "code",
   "execution_count": 620,
   "metadata": {
    "collapsed": true
   },
   "outputs": [],
   "source": [
    "del df['Community Area Number']"
   ]
  },
  {
   "cell_type": "code",
   "execution_count": 621,
   "metadata": {},
   "outputs": [
    {
     "data": {
      "text/html": [
       "<div>\n",
       "<table border=\"1\" class=\"dataframe\">\n",
       "  <thead>\n",
       "    <tr style=\"text-align: right;\">\n",
       "      <th></th>\n",
       "      <th>Elementary, Middle, or High School</th>\n",
       "      <th>Healthy Schools Certified?</th>\n",
       "      <th>Safety Score</th>\n",
       "      <th>Environment Score</th>\n",
       "      <th>Instruction Score</th>\n",
       "      <th>Average Student Attendance</th>\n",
       "      <th>Rate of Misconducts (per 100 students)</th>\n",
       "      <th>Average Teacher Attendance</th>\n",
       "      <th>Individualized Education Program Compliance Rate</th>\n",
       "      <th>Gr3-5 Grade Level Math %</th>\n",
       "      <th>...</th>\n",
       "      <th>Gr6-8 Keep Pace Read %</th>\n",
       "      <th>Gr-8 Explore Math %</th>\n",
       "      <th>Gr-8 Explore Read %</th>\n",
       "      <th>ISAT Exceeding Math %</th>\n",
       "      <th>ISAT Exceeding Reading %</th>\n",
       "      <th>ISAT Value Add Math</th>\n",
       "      <th>ISAT Value Add Read</th>\n",
       "      <th>ISAT Value Add Color Math</th>\n",
       "      <th>ISAT Value Add Color Read</th>\n",
       "      <th>probation</th>\n",
       "    </tr>\n",
       "  </thead>\n",
       "  <tbody>\n",
       "    <tr>\n",
       "      <th>0</th>\n",
       "      <td>ES</td>\n",
       "      <td>No</td>\n",
       "      <td>66.0</td>\n",
       "      <td>70.0</td>\n",
       "      <td>67.0</td>\n",
       "      <td>96.2%</td>\n",
       "      <td>5.9</td>\n",
       "      <td>97.4%</td>\n",
       "      <td>99.0%</td>\n",
       "      <td>NDA</td>\n",
       "      <td>...</td>\n",
       "      <td>NDA</td>\n",
       "      <td>18.7</td>\n",
       "      <td>13.3</td>\n",
       "      <td>17.9</td>\n",
       "      <td>7.3</td>\n",
       "      <td>1.7</td>\n",
       "      <td>1.1</td>\n",
       "      <td>Green</td>\n",
       "      <td>Green</td>\n",
       "      <td>0</td>\n",
       "    </tr>\n",
       "    <tr>\n",
       "      <th>1</th>\n",
       "      <td>ES</td>\n",
       "      <td>No</td>\n",
       "      <td>91.0</td>\n",
       "      <td>64.0</td>\n",
       "      <td>56.0</td>\n",
       "      <td>96.6%</td>\n",
       "      <td>1.9</td>\n",
       "      <td>96.3%</td>\n",
       "      <td>100.0%</td>\n",
       "      <td>92</td>\n",
       "      <td>...</td>\n",
       "      <td>60.4</td>\n",
       "      <td>80</td>\n",
       "      <td>96.7</td>\n",
       "      <td>79.0</td>\n",
       "      <td>88.4</td>\n",
       "      <td>1.8</td>\n",
       "      <td>1.6</td>\n",
       "      <td>Green</td>\n",
       "      <td>Green</td>\n",
       "      <td>0</td>\n",
       "    </tr>\n",
       "    <tr>\n",
       "      <th>2</th>\n",
       "      <td>ES</td>\n",
       "      <td>No</td>\n",
       "      <td>30.0</td>\n",
       "      <td>30.0</td>\n",
       "      <td>45.0</td>\n",
       "      <td>91.3%</td>\n",
       "      <td>16.6</td>\n",
       "      <td>95.0%</td>\n",
       "      <td>100.0%</td>\n",
       "      <td>21.1</td>\n",
       "      <td>...</td>\n",
       "      <td>45.2</td>\n",
       "      <td>3.4</td>\n",
       "      <td>8.6</td>\n",
       "      <td>8.8</td>\n",
       "      <td>5.4</td>\n",
       "      <td>-0.3</td>\n",
       "      <td>-0.6</td>\n",
       "      <td>Yellow</td>\n",
       "      <td>Yellow</td>\n",
       "      <td>1</td>\n",
       "    </tr>\n",
       "    <tr>\n",
       "      <th>6</th>\n",
       "      <td>ES</td>\n",
       "      <td>No</td>\n",
       "      <td>48.0</td>\n",
       "      <td>37.0</td>\n",
       "      <td>26.0</td>\n",
       "      <td>93.5%</td>\n",
       "      <td>37.2</td>\n",
       "      <td>94.8%</td>\n",
       "      <td>98.2%</td>\n",
       "      <td>31</td>\n",
       "      <td>...</td>\n",
       "      <td>48.4</td>\n",
       "      <td>3.2</td>\n",
       "      <td>16.1</td>\n",
       "      <td>5.8</td>\n",
       "      <td>10.1</td>\n",
       "      <td>-0.7</td>\n",
       "      <td>0.0</td>\n",
       "      <td>Red</td>\n",
       "      <td>Yellow</td>\n",
       "      <td>1</td>\n",
       "    </tr>\n",
       "    <tr>\n",
       "      <th>7</th>\n",
       "      <td>ES</td>\n",
       "      <td>No</td>\n",
       "      <td>37.0</td>\n",
       "      <td>37.0</td>\n",
       "      <td>35.0</td>\n",
       "      <td>94.6%</td>\n",
       "      <td>24.8</td>\n",
       "      <td>95.2%</td>\n",
       "      <td>100.0%</td>\n",
       "      <td>26.7</td>\n",
       "      <td>...</td>\n",
       "      <td>51</td>\n",
       "      <td>15.2</td>\n",
       "      <td>16.7</td>\n",
       "      <td>9.7</td>\n",
       "      <td>7.1</td>\n",
       "      <td>-0.3</td>\n",
       "      <td>0.7</td>\n",
       "      <td>Yellow</td>\n",
       "      <td>Yellow</td>\n",
       "      <td>0</td>\n",
       "    </tr>\n",
       "  </tbody>\n",
       "</table>\n",
       "<p>5 rows × 26 columns</p>\n",
       "</div>"
      ],
      "text/plain": [
       "  Elementary, Middle, or High School Healthy Schools Certified?  Safety Score  \\\n",
       "0                                 ES                         No          66.0   \n",
       "1                                 ES                         No          91.0   \n",
       "2                                 ES                         No          30.0   \n",
       "6                                 ES                         No          48.0   \n",
       "7                                 ES                         No          37.0   \n",
       "\n",
       "   Environment Score  Instruction Score Average Student Attendance  \\\n",
       "0               70.0               67.0                      96.2%   \n",
       "1               64.0               56.0                      96.6%   \n",
       "2               30.0               45.0                      91.3%   \n",
       "6               37.0               26.0                      93.5%   \n",
       "7               37.0               35.0                      94.6%   \n",
       "\n",
       "   Rate of Misconducts (per 100 students)  Average Teacher Attendance  \\\n",
       "0                                      5.9                      97.4%   \n",
       "1                                      1.9                      96.3%   \n",
       "2                                     16.6                      95.0%   \n",
       "6                                     37.2                      94.8%   \n",
       "7                                     24.8                      95.2%   \n",
       "\n",
       "  Individualized Education Program Compliance Rate  Gr3-5 Grade Level Math %  \\\n",
       "0                                             99.0%                      NDA   \n",
       "1                                            100.0%                       92   \n",
       "2                                            100.0%                     21.1   \n",
       "6                                             98.2%                       31   \n",
       "7                                            100.0%                     26.7   \n",
       "\n",
       "     ...     Gr6-8 Keep Pace Read % Gr-8 Explore Math % Gr-8 Explore Read %  \\\n",
       "0    ...                        NDA                18.7                13.3   \n",
       "1    ...                       60.4                  80                96.7   \n",
       "2    ...                       45.2                 3.4                 8.6   \n",
       "6    ...                       48.4                 3.2                16.1   \n",
       "7    ...                         51                15.2                16.7   \n",
       "\n",
       "  ISAT Exceeding Math % ISAT Exceeding Reading %  ISAT Value Add Math  \\\n",
       "0                  17.9                       7.3                 1.7   \n",
       "1                  79.0                      88.4                 1.8   \n",
       "2                   8.8                       5.4                -0.3   \n",
       "6                   5.8                      10.1                -0.7   \n",
       "7                   9.7                       7.1                -0.3   \n",
       "\n",
       "  ISAT Value Add Read ISAT Value Add Color Math ISAT Value Add Color Read  \\\n",
       "0                 1.1                     Green                     Green   \n",
       "1                 1.6                     Green                     Green   \n",
       "2                -0.6                    Yellow                    Yellow   \n",
       "6                 0.0                       Red                    Yellow   \n",
       "7                 0.7                    Yellow                    Yellow   \n",
       "\n",
       "   probation  \n",
       "0          0  \n",
       "1          0  \n",
       "2          1  \n",
       "6          1  \n",
       "7          0  \n",
       "\n",
       "[5 rows x 26 columns]"
      ]
     },
     "execution_count": 621,
     "metadata": {},
     "output_type": "execute_result"
    }
   ],
   "source": [
    "df.head()"
   ]
  },
  {
   "cell_type": "code",
   "execution_count": 622,
   "metadata": {},
   "outputs": [
    {
     "data": {
      "text/plain": [
       "Index([u'Elementary, Middle, or High School', u'Healthy Schools Certified?',\n",
       "       u'Safety Score', u'Environment Score', u'Instruction Score',\n",
       "       u'Average Student Attendance',\n",
       "       u'Rate of Misconducts (per 100 students) ',\n",
       "       u'Average Teacher Attendance',\n",
       "       u'Individualized Education Program Compliance Rate ',\n",
       "       u'Gr3-5 Grade Level Math %', u'Gr3-5 Grade Level Read % ',\n",
       "       u'Gr3-5 Keep Pace Read %', u'Gr3-5 Keep Pace Math %',\n",
       "       u'Gr6-8 Grade Level Math %', u'Gr6-8 Grade Level Read %',\n",
       "       u'Gr6-8 Keep Pace Math%', u'Gr6-8 Keep Pace Read %',\n",
       "       u'Gr-8 Explore Math %', u'Gr-8 Explore Read %',\n",
       "       u'ISAT Exceeding Math %', u'ISAT Exceeding Reading % ',\n",
       "       u'ISAT Value Add Math', u'ISAT Value Add Read',\n",
       "       u'ISAT Value Add Color Math', u'ISAT Value Add Color Read',\n",
       "       u'probation'],\n",
       "      dtype='object')"
      ]
     },
     "execution_count": 622,
     "metadata": {},
     "output_type": "execute_result"
    }
   ],
   "source": [
    "df.columns"
   ]
  },
  {
   "cell_type": "code",
   "execution_count": 623,
   "metadata": {
    "collapsed": true
   },
   "outputs": [],
   "source": [
    "del df['Gr3-5 Grade Level Math %']"
   ]
  },
  {
   "cell_type": "code",
   "execution_count": 624,
   "metadata": {
    "collapsed": true
   },
   "outputs": [],
   "source": [
    "del df['Gr3-5 Grade Level Read % ']"
   ]
  },
  {
   "cell_type": "code",
   "execution_count": 625,
   "metadata": {
    "collapsed": true
   },
   "outputs": [],
   "source": [
    "del df['Gr3-5 Keep Pace Read %']"
   ]
  },
  {
   "cell_type": "code",
   "execution_count": 626,
   "metadata": {
    "collapsed": true
   },
   "outputs": [],
   "source": [
    "del df['Gr3-5 Keep Pace Math %']"
   ]
  },
  {
   "cell_type": "code",
   "execution_count": 627,
   "metadata": {
    "collapsed": true
   },
   "outputs": [],
   "source": [
    "del df['Gr6-8 Grade Level Math %']"
   ]
  },
  {
   "cell_type": "code",
   "execution_count": 628,
   "metadata": {
    "collapsed": true
   },
   "outputs": [],
   "source": [
    "del df['Gr6-8 Grade Level Read %']"
   ]
  },
  {
   "cell_type": "code",
   "execution_count": 629,
   "metadata": {},
   "outputs": [
    {
     "data": {
      "text/plain": [
       "Index([u'Elementary, Middle, or High School', u'Healthy Schools Certified?',\n",
       "       u'Safety Score', u'Environment Score', u'Instruction Score',\n",
       "       u'Average Student Attendance',\n",
       "       u'Rate of Misconducts (per 100 students) ',\n",
       "       u'Average Teacher Attendance',\n",
       "       u'Individualized Education Program Compliance Rate ',\n",
       "       u'Gr6-8 Keep Pace Math%', u'Gr6-8 Keep Pace Read %',\n",
       "       u'Gr-8 Explore Math %', u'Gr-8 Explore Read %',\n",
       "       u'ISAT Exceeding Math %', u'ISAT Exceeding Reading % ',\n",
       "       u'ISAT Value Add Math', u'ISAT Value Add Read',\n",
       "       u'ISAT Value Add Color Math', u'ISAT Value Add Color Read',\n",
       "       u'probation'],\n",
       "      dtype='object')"
      ]
     },
     "execution_count": 629,
     "metadata": {},
     "output_type": "execute_result"
    }
   ],
   "source": [
    "df.columns"
   ]
  },
  {
   "cell_type": "code",
   "execution_count": 630,
   "metadata": {
    "collapsed": true
   },
   "outputs": [],
   "source": [
    "del df['Gr6-8 Keep Pace Math%']"
   ]
  },
  {
   "cell_type": "code",
   "execution_count": 631,
   "metadata": {
    "collapsed": true
   },
   "outputs": [],
   "source": [
    "del df['Gr6-8 Keep Pace Read %']"
   ]
  },
  {
   "cell_type": "code",
   "execution_count": 632,
   "metadata": {
    "collapsed": true
   },
   "outputs": [],
   "source": [
    "del df['Gr-8 Explore Math %']"
   ]
  },
  {
   "cell_type": "code",
   "execution_count": 633,
   "metadata": {
    "collapsed": true
   },
   "outputs": [],
   "source": [
    "del df['Gr-8 Explore Read %']"
   ]
  },
  {
   "cell_type": "code",
   "execution_count": 634,
   "metadata": {
    "collapsed": true
   },
   "outputs": [],
   "source": [
    "del df['ISAT Exceeding Math %']"
   ]
  },
  {
   "cell_type": "code",
   "execution_count": 635,
   "metadata": {
    "collapsed": true
   },
   "outputs": [],
   "source": [
    "del df['ISAT Exceeding Reading % ']"
   ]
  },
  {
   "cell_type": "code",
   "execution_count": 636,
   "metadata": {
    "collapsed": true
   },
   "outputs": [],
   "source": [
    "del df['ISAT Value Add Math']"
   ]
  },
  {
   "cell_type": "code",
   "execution_count": 637,
   "metadata": {
    "collapsed": true
   },
   "outputs": [],
   "source": [
    "del df['ISAT Value Add Read']"
   ]
  },
  {
   "cell_type": "code",
   "execution_count": 638,
   "metadata": {},
   "outputs": [
    {
     "data": {
      "text/plain": [
       "Index([u'Elementary, Middle, or High School', u'Healthy Schools Certified?',\n",
       "       u'Safety Score', u'Environment Score', u'Instruction Score',\n",
       "       u'Average Student Attendance',\n",
       "       u'Rate of Misconducts (per 100 students) ',\n",
       "       u'Average Teacher Attendance',\n",
       "       u'Individualized Education Program Compliance Rate ',\n",
       "       u'ISAT Value Add Color Math', u'ISAT Value Add Color Read',\n",
       "       u'probation'],\n",
       "      dtype='object')"
      ]
     },
     "execution_count": 638,
     "metadata": {},
     "output_type": "execute_result"
    }
   ],
   "source": [
    "df.columns"
   ]
  },
  {
   "cell_type": "code",
   "execution_count": 639,
   "metadata": {
    "collapsed": true
   },
   "outputs": [],
   "source": [
    "#make category into 0s and 1's\n",
    "\n",
    "def health(cert):\n",
    "    if cert == 'No':\n",
    "        return 0\n",
    "    else:\n",
    "        return 1\n",
    "    \n",
    "\n",
    "df['Healthy Schools Certified?'] = df['Healthy Schools Certified?'].apply(health)"
   ]
  },
  {
   "cell_type": "code",
   "execution_count": 640,
   "metadata": {},
   "outputs": [
    {
     "data": {
      "text/plain": [
       "0    66.0\n",
       "1    91.0\n",
       "2    30.0\n",
       "6    48.0\n",
       "7    37.0\n",
       "Name: Safety Score, dtype: float64"
      ]
     },
     "execution_count": 640,
     "metadata": {},
     "output_type": "execute_result"
    }
   ],
   "source": [
    "df['Safety Score'].head()"
   ]
  },
  {
   "cell_type": "code",
   "execution_count": 641,
   "metadata": {},
   "outputs": [
    {
     "data": {
      "text/plain": [
       "49.0    15\n",
       "47.0    14\n",
       "37.0    13\n",
       "42.0    11\n",
       "34.0    11\n",
       "50.0    10\n",
       "48.0    10\n",
       "35.0     9\n",
       "57.0     9\n",
       "53.0     8\n",
       "32.0     8\n",
       "33.0     8\n",
       "39.0     8\n",
       "61.0     7\n",
       "41.0     7\n",
       "51.0     7\n",
       "65.0     7\n",
       "44.0     6\n",
       "60.0     6\n",
       "43.0     6\n",
       "55.0     6\n",
       "58.0     6\n",
       "52.0     5\n",
       "40.0     5\n",
       "46.0     5\n",
       "31.0     5\n",
       "62.0     5\n",
       "67.0     5\n",
       "66.0     5\n",
       "30.0     5\n",
       "        ..\n",
       "22.0     3\n",
       "59.0     3\n",
       "25.0     3\n",
       "99.0     3\n",
       "63.0     3\n",
       "29.0     2\n",
       "23.0     2\n",
       "76.0     2\n",
       "74.0     2\n",
       "77.0     2\n",
       "20.0     2\n",
       "36.0     2\n",
       "12.0     2\n",
       "13.0     1\n",
       "95.0     1\n",
       "26.0     1\n",
       "85.0     1\n",
       "81.0     1\n",
       "80.0     1\n",
       "82.0     1\n",
       "17.0     1\n",
       "78.0     1\n",
       "7.0      1\n",
       "1.0      1\n",
       "90.0     1\n",
       "16.0     1\n",
       "84.0     1\n",
       "14.0     1\n",
       "21.0     1\n",
       "24.0     1\n",
       "Name: Environment Score, dtype: int64"
      ]
     },
     "execution_count": 641,
     "metadata": {},
     "output_type": "execute_result"
    }
   ],
   "source": [
    "df['Environment Score'].value_counts()"
   ]
  },
  {
   "cell_type": "code",
   "execution_count": 642,
   "metadata": {
    "collapsed": true
   },
   "outputs": [],
   "source": [
    "df['Environment Score'] = df['Environment Score'].astype(int)"
   ]
  },
  {
   "cell_type": "code",
   "execution_count": 643,
   "metadata": {
    "collapsed": true
   },
   "outputs": [],
   "source": [
    "df['Instruction Score'] = df['Instruction Score'].astype(int)"
   ]
  },
  {
   "cell_type": "code",
   "execution_count": 644,
   "metadata": {
    "scrolled": true
   },
   "outputs": [
    {
     "data": {
      "text/plain": [
       "0    96.2%\n",
       "1    96.6%\n",
       "2    91.3%\n",
       "6    93.5%\n",
       "7    94.6%\n",
       "Name: Average Student Attendance, dtype: object"
      ]
     },
     "execution_count": 644,
     "metadata": {},
     "output_type": "execute_result"
    }
   ],
   "source": [
    "df['Average Student Attendance'].head()"
   ]
  },
  {
   "cell_type": "code",
   "execution_count": 645,
   "metadata": {},
   "outputs": [
    {
     "data": {
      "text/html": [
       "<div>\n",
       "<table border=\"1\" class=\"dataframe\">\n",
       "  <thead>\n",
       "    <tr style=\"text-align: right;\">\n",
       "      <th></th>\n",
       "      <th>Elementary, Middle, or High School</th>\n",
       "      <th>Healthy Schools Certified?</th>\n",
       "      <th>Safety Score</th>\n",
       "      <th>Environment Score</th>\n",
       "      <th>Instruction Score</th>\n",
       "      <th>Average Student Attendance</th>\n",
       "      <th>Rate of Misconducts (per 100 students)</th>\n",
       "      <th>Average Teacher Attendance</th>\n",
       "      <th>Individualized Education Program Compliance Rate</th>\n",
       "      <th>ISAT Value Add Color Math</th>\n",
       "      <th>ISAT Value Add Color Read</th>\n",
       "      <th>probation</th>\n",
       "    </tr>\n",
       "  </thead>\n",
       "  <tbody>\n",
       "    <tr>\n",
       "      <th>0</th>\n",
       "      <td>ES</td>\n",
       "      <td>0</td>\n",
       "      <td>66.0</td>\n",
       "      <td>70</td>\n",
       "      <td>67</td>\n",
       "      <td>96.2%</td>\n",
       "      <td>5.9</td>\n",
       "      <td>97.4%</td>\n",
       "      <td>99.0%</td>\n",
       "      <td>Green</td>\n",
       "      <td>Green</td>\n",
       "      <td>0</td>\n",
       "    </tr>\n",
       "    <tr>\n",
       "      <th>1</th>\n",
       "      <td>ES</td>\n",
       "      <td>0</td>\n",
       "      <td>91.0</td>\n",
       "      <td>64</td>\n",
       "      <td>56</td>\n",
       "      <td>96.6%</td>\n",
       "      <td>1.9</td>\n",
       "      <td>96.3%</td>\n",
       "      <td>100.0%</td>\n",
       "      <td>Green</td>\n",
       "      <td>Green</td>\n",
       "      <td>0</td>\n",
       "    </tr>\n",
       "    <tr>\n",
       "      <th>2</th>\n",
       "      <td>ES</td>\n",
       "      <td>0</td>\n",
       "      <td>30.0</td>\n",
       "      <td>30</td>\n",
       "      <td>45</td>\n",
       "      <td>91.3%</td>\n",
       "      <td>16.6</td>\n",
       "      <td>95.0%</td>\n",
       "      <td>100.0%</td>\n",
       "      <td>Yellow</td>\n",
       "      <td>Yellow</td>\n",
       "      <td>1</td>\n",
       "    </tr>\n",
       "    <tr>\n",
       "      <th>6</th>\n",
       "      <td>ES</td>\n",
       "      <td>0</td>\n",
       "      <td>48.0</td>\n",
       "      <td>37</td>\n",
       "      <td>26</td>\n",
       "      <td>93.5%</td>\n",
       "      <td>37.2</td>\n",
       "      <td>94.8%</td>\n",
       "      <td>98.2%</td>\n",
       "      <td>Red</td>\n",
       "      <td>Yellow</td>\n",
       "      <td>1</td>\n",
       "    </tr>\n",
       "    <tr>\n",
       "      <th>7</th>\n",
       "      <td>ES</td>\n",
       "      <td>0</td>\n",
       "      <td>37.0</td>\n",
       "      <td>37</td>\n",
       "      <td>35</td>\n",
       "      <td>94.6%</td>\n",
       "      <td>24.8</td>\n",
       "      <td>95.2%</td>\n",
       "      <td>100.0%</td>\n",
       "      <td>Yellow</td>\n",
       "      <td>Yellow</td>\n",
       "      <td>0</td>\n",
       "    </tr>\n",
       "  </tbody>\n",
       "</table>\n",
       "</div>"
      ],
      "text/plain": [
       "  Elementary, Middle, or High School  Healthy Schools Certified?  \\\n",
       "0                                 ES                           0   \n",
       "1                                 ES                           0   \n",
       "2                                 ES                           0   \n",
       "6                                 ES                           0   \n",
       "7                                 ES                           0   \n",
       "\n",
       "   Safety Score  Environment Score  Instruction Score  \\\n",
       "0          66.0                 70                 67   \n",
       "1          91.0                 64                 56   \n",
       "2          30.0                 30                 45   \n",
       "6          48.0                 37                 26   \n",
       "7          37.0                 37                 35   \n",
       "\n",
       "  Average Student Attendance  Rate of Misconducts (per 100 students)   \\\n",
       "0                      96.2%                                      5.9   \n",
       "1                      96.6%                                      1.9   \n",
       "2                      91.3%                                     16.6   \n",
       "6                      93.5%                                     37.2   \n",
       "7                      94.6%                                     24.8   \n",
       "\n",
       "  Average Teacher Attendance  \\\n",
       "0                      97.4%   \n",
       "1                      96.3%   \n",
       "2                      95.0%   \n",
       "6                      94.8%   \n",
       "7                      95.2%   \n",
       "\n",
       "  Individualized Education Program Compliance Rate  ISAT Value Add Color Math  \\\n",
       "0                                             99.0%                     Green   \n",
       "1                                            100.0%                     Green   \n",
       "2                                            100.0%                    Yellow   \n",
       "6                                             98.2%                       Red   \n",
       "7                                            100.0%                    Yellow   \n",
       "\n",
       "  ISAT Value Add Color Read  probation  \n",
       "0                     Green          0  \n",
       "1                     Green          0  \n",
       "2                    Yellow          1  \n",
       "6                    Yellow          1  \n",
       "7                    Yellow          0  "
      ]
     },
     "execution_count": 645,
     "metadata": {},
     "output_type": "execute_result"
    }
   ],
   "source": [
    "df.head()"
   ]
  },
  {
   "cell_type": "code",
   "execution_count": 646,
   "metadata": {
    "collapsed": true
   },
   "outputs": [],
   "source": [
    "def nope(sign):\n",
    "    sign = sign.replace('%','')\n",
    "    return float(sign)\n",
    "\n",
    "df['Average Student Attendance'] = df['Average Student Attendance'].apply(lambda x: nope(x))\n",
    "df['Average Teacher Attendance'] = df['Average Teacher Attendance'].apply(lambda x: nope(x))\n",
    "df['Individualized Education Program Compliance Rate '] = df['Individualized Education Program Compliance Rate '].apply(lambda x:nope(x))"
   ]
  },
  {
   "cell_type": "code",
   "execution_count": 647,
   "metadata": {},
   "outputs": [
    {
     "data": {
      "text/html": [
       "<div>\n",
       "<table border=\"1\" class=\"dataframe\">\n",
       "  <thead>\n",
       "    <tr style=\"text-align: right;\">\n",
       "      <th></th>\n",
       "      <th>Elementary, Middle, or High School</th>\n",
       "      <th>Healthy Schools Certified?</th>\n",
       "      <th>Safety Score</th>\n",
       "      <th>Environment Score</th>\n",
       "      <th>Instruction Score</th>\n",
       "      <th>Average Student Attendance</th>\n",
       "      <th>Rate of Misconducts (per 100 students)</th>\n",
       "      <th>Average Teacher Attendance</th>\n",
       "      <th>Individualized Education Program Compliance Rate</th>\n",
       "      <th>ISAT Value Add Color Math</th>\n",
       "      <th>ISAT Value Add Color Read</th>\n",
       "      <th>probation</th>\n",
       "    </tr>\n",
       "  </thead>\n",
       "  <tbody>\n",
       "    <tr>\n",
       "      <th>0</th>\n",
       "      <td>ES</td>\n",
       "      <td>0</td>\n",
       "      <td>66.0</td>\n",
       "      <td>70</td>\n",
       "      <td>67</td>\n",
       "      <td>96.2</td>\n",
       "      <td>5.9</td>\n",
       "      <td>97.4</td>\n",
       "      <td>99.0</td>\n",
       "      <td>Green</td>\n",
       "      <td>Green</td>\n",
       "      <td>0</td>\n",
       "    </tr>\n",
       "    <tr>\n",
       "      <th>1</th>\n",
       "      <td>ES</td>\n",
       "      <td>0</td>\n",
       "      <td>91.0</td>\n",
       "      <td>64</td>\n",
       "      <td>56</td>\n",
       "      <td>96.6</td>\n",
       "      <td>1.9</td>\n",
       "      <td>96.3</td>\n",
       "      <td>100.0</td>\n",
       "      <td>Green</td>\n",
       "      <td>Green</td>\n",
       "      <td>0</td>\n",
       "    </tr>\n",
       "    <tr>\n",
       "      <th>2</th>\n",
       "      <td>ES</td>\n",
       "      <td>0</td>\n",
       "      <td>30.0</td>\n",
       "      <td>30</td>\n",
       "      <td>45</td>\n",
       "      <td>91.3</td>\n",
       "      <td>16.6</td>\n",
       "      <td>95.0</td>\n",
       "      <td>100.0</td>\n",
       "      <td>Yellow</td>\n",
       "      <td>Yellow</td>\n",
       "      <td>1</td>\n",
       "    </tr>\n",
       "    <tr>\n",
       "      <th>6</th>\n",
       "      <td>ES</td>\n",
       "      <td>0</td>\n",
       "      <td>48.0</td>\n",
       "      <td>37</td>\n",
       "      <td>26</td>\n",
       "      <td>93.5</td>\n",
       "      <td>37.2</td>\n",
       "      <td>94.8</td>\n",
       "      <td>98.2</td>\n",
       "      <td>Red</td>\n",
       "      <td>Yellow</td>\n",
       "      <td>1</td>\n",
       "    </tr>\n",
       "    <tr>\n",
       "      <th>7</th>\n",
       "      <td>ES</td>\n",
       "      <td>0</td>\n",
       "      <td>37.0</td>\n",
       "      <td>37</td>\n",
       "      <td>35</td>\n",
       "      <td>94.6</td>\n",
       "      <td>24.8</td>\n",
       "      <td>95.2</td>\n",
       "      <td>100.0</td>\n",
       "      <td>Yellow</td>\n",
       "      <td>Yellow</td>\n",
       "      <td>0</td>\n",
       "    </tr>\n",
       "  </tbody>\n",
       "</table>\n",
       "</div>"
      ],
      "text/plain": [
       "  Elementary, Middle, or High School  Healthy Schools Certified?  \\\n",
       "0                                 ES                           0   \n",
       "1                                 ES                           0   \n",
       "2                                 ES                           0   \n",
       "6                                 ES                           0   \n",
       "7                                 ES                           0   \n",
       "\n",
       "   Safety Score  Environment Score  Instruction Score  \\\n",
       "0          66.0                 70                 67   \n",
       "1          91.0                 64                 56   \n",
       "2          30.0                 30                 45   \n",
       "6          48.0                 37                 26   \n",
       "7          37.0                 37                 35   \n",
       "\n",
       "   Average Student Attendance  Rate of Misconducts (per 100 students)   \\\n",
       "0                        96.2                                      5.9   \n",
       "1                        96.6                                      1.9   \n",
       "2                        91.3                                     16.6   \n",
       "6                        93.5                                     37.2   \n",
       "7                        94.6                                     24.8   \n",
       "\n",
       "   Average Teacher Attendance  \\\n",
       "0                        97.4   \n",
       "1                        96.3   \n",
       "2                        95.0   \n",
       "6                        94.8   \n",
       "7                        95.2   \n",
       "\n",
       "   Individualized Education Program Compliance Rate   \\\n",
       "0                                               99.0   \n",
       "1                                              100.0   \n",
       "2                                              100.0   \n",
       "6                                               98.2   \n",
       "7                                              100.0   \n",
       "\n",
       "  ISAT Value Add Color Math ISAT Value Add Color Read  probation  \n",
       "0                     Green                     Green          0  \n",
       "1                     Green                     Green          0  \n",
       "2                    Yellow                    Yellow          1  \n",
       "6                       Red                    Yellow          1  \n",
       "7                    Yellow                    Yellow          0  "
      ]
     },
     "execution_count": 647,
     "metadata": {},
     "output_type": "execute_result"
    }
   ],
   "source": [
    "df.head()"
   ]
  },
  {
   "cell_type": "code",
   "execution_count": 648,
   "metadata": {},
   "outputs": [
    {
     "data": {
      "text/plain": [
       "Index([u'Elementary, Middle, or High School', u'Healthy Schools Certified?',\n",
       "       u'Safety Score', u'Environment Score', u'Instruction Score',\n",
       "       u'Average Student Attendance',\n",
       "       u'Rate of Misconducts (per 100 students) ',\n",
       "       u'Average Teacher Attendance',\n",
       "       u'Individualized Education Program Compliance Rate ',\n",
       "       u'ISAT Value Add Color Math', u'ISAT Value Add Color Read',\n",
       "       u'probation'],\n",
       "      dtype='object')"
      ]
     },
     "execution_count": 648,
     "metadata": {},
     "output_type": "execute_result"
    }
   ],
   "source": [
    "df.columns"
   ]
  },
  {
   "cell_type": "code",
   "execution_count": 649,
   "metadata": {},
   "outputs": [
    {
     "data": {
      "text/plain": [
       "Yellow    204\n",
       "Green      63\n",
       "Red        57\n",
       "Name: ISAT Value Add Color Read, dtype: int64"
      ]
     },
     "execution_count": 649,
     "metadata": {},
     "output_type": "execute_result"
    }
   ],
   "source": [
    "df['ISAT Value Add Color Read'].value_counts()"
   ]
  },
  {
   "cell_type": "code",
   "execution_count": 650,
   "metadata": {
    "collapsed": true
   },
   "outputs": [],
   "source": [
    "def recolor(color):   \n",
    "    try: \n",
    "        if 'Red' in color:\n",
    "            color = 'Orange'\n",
    "        elif 'Green' in color:\n",
    "            color = 'Blue'\n",
    "        else:\n",
    "            color = 'Purple'\n",
    "        return color\n",
    "    except:\n",
    "        pass\n",
    "\n",
    "df['ISAT Value Add Color Read'] = df['ISAT Value Add Color Read'].apply(recolor)\n"
   ]
  },
  {
   "cell_type": "code",
   "execution_count": 651,
   "metadata": {},
   "outputs": [
    {
     "data": {
      "text/plain": [
       "Purple    204\n",
       "Blue       63\n",
       "Orange     57\n",
       "Name: ISAT Value Add Color Read, dtype: int64"
      ]
     },
     "execution_count": 651,
     "metadata": {},
     "output_type": "execute_result"
    }
   ],
   "source": [
    "df['ISAT Value Add Color Read'].value_counts()"
   ]
  },
  {
   "cell_type": "code",
   "execution_count": 652,
   "metadata": {},
   "outputs": [
    {
     "data": {
      "text/html": [
       "<div>\n",
       "<table border=\"1\" class=\"dataframe\">\n",
       "  <thead>\n",
       "    <tr style=\"text-align: right;\">\n",
       "      <th></th>\n",
       "      <th>Elementary, Middle, or High School</th>\n",
       "      <th>Healthy Schools Certified?</th>\n",
       "      <th>Safety Score</th>\n",
       "      <th>Environment Score</th>\n",
       "      <th>Instruction Score</th>\n",
       "      <th>Average Student Attendance</th>\n",
       "      <th>Rate of Misconducts (per 100 students)</th>\n",
       "      <th>Average Teacher Attendance</th>\n",
       "      <th>Individualized Education Program Compliance Rate</th>\n",
       "      <th>ISAT Value Add Color Math</th>\n",
       "      <th>ISAT Value Add Color Read</th>\n",
       "      <th>probation</th>\n",
       "    </tr>\n",
       "  </thead>\n",
       "  <tbody>\n",
       "    <tr>\n",
       "      <th>0</th>\n",
       "      <td>ES</td>\n",
       "      <td>0</td>\n",
       "      <td>66.0</td>\n",
       "      <td>70</td>\n",
       "      <td>67</td>\n",
       "      <td>96.2</td>\n",
       "      <td>5.9</td>\n",
       "      <td>97.4</td>\n",
       "      <td>99.0</td>\n",
       "      <td>Green</td>\n",
       "      <td>Blue</td>\n",
       "      <td>0</td>\n",
       "    </tr>\n",
       "    <tr>\n",
       "      <th>1</th>\n",
       "      <td>ES</td>\n",
       "      <td>0</td>\n",
       "      <td>91.0</td>\n",
       "      <td>64</td>\n",
       "      <td>56</td>\n",
       "      <td>96.6</td>\n",
       "      <td>1.9</td>\n",
       "      <td>96.3</td>\n",
       "      <td>100.0</td>\n",
       "      <td>Green</td>\n",
       "      <td>Blue</td>\n",
       "      <td>0</td>\n",
       "    </tr>\n",
       "    <tr>\n",
       "      <th>2</th>\n",
       "      <td>ES</td>\n",
       "      <td>0</td>\n",
       "      <td>30.0</td>\n",
       "      <td>30</td>\n",
       "      <td>45</td>\n",
       "      <td>91.3</td>\n",
       "      <td>16.6</td>\n",
       "      <td>95.0</td>\n",
       "      <td>100.0</td>\n",
       "      <td>Yellow</td>\n",
       "      <td>Purple</td>\n",
       "      <td>1</td>\n",
       "    </tr>\n",
       "    <tr>\n",
       "      <th>6</th>\n",
       "      <td>ES</td>\n",
       "      <td>0</td>\n",
       "      <td>48.0</td>\n",
       "      <td>37</td>\n",
       "      <td>26</td>\n",
       "      <td>93.5</td>\n",
       "      <td>37.2</td>\n",
       "      <td>94.8</td>\n",
       "      <td>98.2</td>\n",
       "      <td>Red</td>\n",
       "      <td>Purple</td>\n",
       "      <td>1</td>\n",
       "    </tr>\n",
       "    <tr>\n",
       "      <th>7</th>\n",
       "      <td>ES</td>\n",
       "      <td>0</td>\n",
       "      <td>37.0</td>\n",
       "      <td>37</td>\n",
       "      <td>35</td>\n",
       "      <td>94.6</td>\n",
       "      <td>24.8</td>\n",
       "      <td>95.2</td>\n",
       "      <td>100.0</td>\n",
       "      <td>Yellow</td>\n",
       "      <td>Purple</td>\n",
       "      <td>0</td>\n",
       "    </tr>\n",
       "  </tbody>\n",
       "</table>\n",
       "</div>"
      ],
      "text/plain": [
       "  Elementary, Middle, or High School  Healthy Schools Certified?  \\\n",
       "0                                 ES                           0   \n",
       "1                                 ES                           0   \n",
       "2                                 ES                           0   \n",
       "6                                 ES                           0   \n",
       "7                                 ES                           0   \n",
       "\n",
       "   Safety Score  Environment Score  Instruction Score  \\\n",
       "0          66.0                 70                 67   \n",
       "1          91.0                 64                 56   \n",
       "2          30.0                 30                 45   \n",
       "6          48.0                 37                 26   \n",
       "7          37.0                 37                 35   \n",
       "\n",
       "   Average Student Attendance  Rate of Misconducts (per 100 students)   \\\n",
       "0                        96.2                                      5.9   \n",
       "1                        96.6                                      1.9   \n",
       "2                        91.3                                     16.6   \n",
       "6                        93.5                                     37.2   \n",
       "7                        94.6                                     24.8   \n",
       "\n",
       "   Average Teacher Attendance  \\\n",
       "0                        97.4   \n",
       "1                        96.3   \n",
       "2                        95.0   \n",
       "6                        94.8   \n",
       "7                        95.2   \n",
       "\n",
       "   Individualized Education Program Compliance Rate   \\\n",
       "0                                               99.0   \n",
       "1                                              100.0   \n",
       "2                                              100.0   \n",
       "6                                               98.2   \n",
       "7                                              100.0   \n",
       "\n",
       "  ISAT Value Add Color Math ISAT Value Add Color Read  probation  \n",
       "0                     Green                      Blue          0  \n",
       "1                     Green                      Blue          0  \n",
       "2                    Yellow                    Purple          1  \n",
       "6                       Red                    Purple          1  \n",
       "7                    Yellow                    Purple          0  "
      ]
     },
     "execution_count": 652,
     "metadata": {},
     "output_type": "execute_result"
    }
   ],
   "source": [
    "df.head()"
   ]
  },
  {
   "cell_type": "code",
   "execution_count": 653,
   "metadata": {
    "collapsed": true
   },
   "outputs": [],
   "source": [
    "df_dummies1 = pd.get_dummies(df['Elementary, Middle, or High School'])"
   ]
  },
  {
   "cell_type": "code",
   "execution_count": 654,
   "metadata": {
    "collapsed": true
   },
   "outputs": [],
   "source": [
    "df_dummies2 = pd.get_dummies(df['ISAT Value Add Color Math'])"
   ]
  },
  {
   "cell_type": "code",
   "execution_count": 655,
   "metadata": {
    "collapsed": true
   },
   "outputs": [],
   "source": [
    "df_dummies3 = pd.get_dummies(df['ISAT Value Add Color Read'])"
   ]
  },
  {
   "cell_type": "code",
   "execution_count": 656,
   "metadata": {
    "collapsed": true
   },
   "outputs": [],
   "source": [
    "dfwd = pd.concat([df, df_dummies1, df_dummies2, df_dummies3], axis=1)"
   ]
  },
  {
   "cell_type": "code",
   "execution_count": 657,
   "metadata": {},
   "outputs": [
    {
     "data": {
      "text/html": [
       "<div>\n",
       "<table border=\"1\" class=\"dataframe\">\n",
       "  <thead>\n",
       "    <tr style=\"text-align: right;\">\n",
       "      <th></th>\n",
       "      <th>Elementary, Middle, or High School</th>\n",
       "      <th>Healthy Schools Certified?</th>\n",
       "      <th>Safety Score</th>\n",
       "      <th>Environment Score</th>\n",
       "      <th>Instruction Score</th>\n",
       "      <th>Average Student Attendance</th>\n",
       "      <th>Rate of Misconducts (per 100 students)</th>\n",
       "      <th>Average Teacher Attendance</th>\n",
       "      <th>Individualized Education Program Compliance Rate</th>\n",
       "      <th>ISAT Value Add Color Math</th>\n",
       "      <th>...</th>\n",
       "      <th>probation</th>\n",
       "      <th>ES</th>\n",
       "      <th>HS</th>\n",
       "      <th>MS</th>\n",
       "      <th>Green</th>\n",
       "      <th>Red</th>\n",
       "      <th>Yellow</th>\n",
       "      <th>Blue</th>\n",
       "      <th>Orange</th>\n",
       "      <th>Purple</th>\n",
       "    </tr>\n",
       "  </thead>\n",
       "  <tbody>\n",
       "    <tr>\n",
       "      <th>0</th>\n",
       "      <td>ES</td>\n",
       "      <td>0</td>\n",
       "      <td>66.0</td>\n",
       "      <td>70</td>\n",
       "      <td>67</td>\n",
       "      <td>96.2</td>\n",
       "      <td>5.9</td>\n",
       "      <td>97.4</td>\n",
       "      <td>99.0</td>\n",
       "      <td>Green</td>\n",
       "      <td>...</td>\n",
       "      <td>0</td>\n",
       "      <td>1</td>\n",
       "      <td>0</td>\n",
       "      <td>0</td>\n",
       "      <td>1</td>\n",
       "      <td>0</td>\n",
       "      <td>0</td>\n",
       "      <td>1</td>\n",
       "      <td>0</td>\n",
       "      <td>0</td>\n",
       "    </tr>\n",
       "    <tr>\n",
       "      <th>1</th>\n",
       "      <td>ES</td>\n",
       "      <td>0</td>\n",
       "      <td>91.0</td>\n",
       "      <td>64</td>\n",
       "      <td>56</td>\n",
       "      <td>96.6</td>\n",
       "      <td>1.9</td>\n",
       "      <td>96.3</td>\n",
       "      <td>100.0</td>\n",
       "      <td>Green</td>\n",
       "      <td>...</td>\n",
       "      <td>0</td>\n",
       "      <td>1</td>\n",
       "      <td>0</td>\n",
       "      <td>0</td>\n",
       "      <td>1</td>\n",
       "      <td>0</td>\n",
       "      <td>0</td>\n",
       "      <td>1</td>\n",
       "      <td>0</td>\n",
       "      <td>0</td>\n",
       "    </tr>\n",
       "    <tr>\n",
       "      <th>2</th>\n",
       "      <td>ES</td>\n",
       "      <td>0</td>\n",
       "      <td>30.0</td>\n",
       "      <td>30</td>\n",
       "      <td>45</td>\n",
       "      <td>91.3</td>\n",
       "      <td>16.6</td>\n",
       "      <td>95.0</td>\n",
       "      <td>100.0</td>\n",
       "      <td>Yellow</td>\n",
       "      <td>...</td>\n",
       "      <td>1</td>\n",
       "      <td>1</td>\n",
       "      <td>0</td>\n",
       "      <td>0</td>\n",
       "      <td>0</td>\n",
       "      <td>0</td>\n",
       "      <td>1</td>\n",
       "      <td>0</td>\n",
       "      <td>0</td>\n",
       "      <td>1</td>\n",
       "    </tr>\n",
       "    <tr>\n",
       "      <th>6</th>\n",
       "      <td>ES</td>\n",
       "      <td>0</td>\n",
       "      <td>48.0</td>\n",
       "      <td>37</td>\n",
       "      <td>26</td>\n",
       "      <td>93.5</td>\n",
       "      <td>37.2</td>\n",
       "      <td>94.8</td>\n",
       "      <td>98.2</td>\n",
       "      <td>Red</td>\n",
       "      <td>...</td>\n",
       "      <td>1</td>\n",
       "      <td>1</td>\n",
       "      <td>0</td>\n",
       "      <td>0</td>\n",
       "      <td>0</td>\n",
       "      <td>1</td>\n",
       "      <td>0</td>\n",
       "      <td>0</td>\n",
       "      <td>0</td>\n",
       "      <td>1</td>\n",
       "    </tr>\n",
       "    <tr>\n",
       "      <th>7</th>\n",
       "      <td>ES</td>\n",
       "      <td>0</td>\n",
       "      <td>37.0</td>\n",
       "      <td>37</td>\n",
       "      <td>35</td>\n",
       "      <td>94.6</td>\n",
       "      <td>24.8</td>\n",
       "      <td>95.2</td>\n",
       "      <td>100.0</td>\n",
       "      <td>Yellow</td>\n",
       "      <td>...</td>\n",
       "      <td>0</td>\n",
       "      <td>1</td>\n",
       "      <td>0</td>\n",
       "      <td>0</td>\n",
       "      <td>0</td>\n",
       "      <td>0</td>\n",
       "      <td>1</td>\n",
       "      <td>0</td>\n",
       "      <td>0</td>\n",
       "      <td>1</td>\n",
       "    </tr>\n",
       "  </tbody>\n",
       "</table>\n",
       "<p>5 rows × 21 columns</p>\n",
       "</div>"
      ],
      "text/plain": [
       "  Elementary, Middle, or High School  Healthy Schools Certified?  \\\n",
       "0                                 ES                           0   \n",
       "1                                 ES                           0   \n",
       "2                                 ES                           0   \n",
       "6                                 ES                           0   \n",
       "7                                 ES                           0   \n",
       "\n",
       "   Safety Score  Environment Score  Instruction Score  \\\n",
       "0          66.0                 70                 67   \n",
       "1          91.0                 64                 56   \n",
       "2          30.0                 30                 45   \n",
       "6          48.0                 37                 26   \n",
       "7          37.0                 37                 35   \n",
       "\n",
       "   Average Student Attendance  Rate of Misconducts (per 100 students)   \\\n",
       "0                        96.2                                      5.9   \n",
       "1                        96.6                                      1.9   \n",
       "2                        91.3                                     16.6   \n",
       "6                        93.5                                     37.2   \n",
       "7                        94.6                                     24.8   \n",
       "\n",
       "   Average Teacher Attendance  \\\n",
       "0                        97.4   \n",
       "1                        96.3   \n",
       "2                        95.0   \n",
       "6                        94.8   \n",
       "7                        95.2   \n",
       "\n",
       "   Individualized Education Program Compliance Rate   \\\n",
       "0                                               99.0   \n",
       "1                                              100.0   \n",
       "2                                              100.0   \n",
       "6                                               98.2   \n",
       "7                                              100.0   \n",
       "\n",
       "  ISAT Value Add Color Math   ...   probation  ES  HS  MS  Green  Red  Yellow  \\\n",
       "0                     Green   ...           0   1   0   0      1    0       0   \n",
       "1                     Green   ...           0   1   0   0      1    0       0   \n",
       "2                    Yellow   ...           1   1   0   0      0    0       1   \n",
       "6                       Red   ...           1   1   0   0      0    1       0   \n",
       "7                    Yellow   ...           0   1   0   0      0    0       1   \n",
       "\n",
       "   Blue  Orange  Purple  \n",
       "0     1       0       0  \n",
       "1     1       0       0  \n",
       "2     0       0       1  \n",
       "6     0       0       1  \n",
       "7     0       0       1  \n",
       "\n",
       "[5 rows x 21 columns]"
      ]
     },
     "execution_count": 657,
     "metadata": {},
     "output_type": "execute_result"
    }
   ],
   "source": [
    "dfwd.head()"
   ]
  },
  {
   "cell_type": "code",
   "execution_count": 658,
   "metadata": {
    "scrolled": false
   },
   "outputs": [
    {
     "data": {
      "text/plain": [
       "Index([u'Elementary, Middle, or High School', u'Healthy Schools Certified?',\n",
       "       u'Safety Score', u'Environment Score', u'Instruction Score',\n",
       "       u'Average Student Attendance',\n",
       "       u'Rate of Misconducts (per 100 students) ',\n",
       "       u'Average Teacher Attendance',\n",
       "       u'Individualized Education Program Compliance Rate ',\n",
       "       u'ISAT Value Add Color Math', u'ISAT Value Add Color Read',\n",
       "       u'probation', u'ES', u'HS', u'MS', u'Green', u'Red', u'Yellow', u'Blue',\n",
       "       u'Orange', u'Purple'],\n",
       "      dtype='object')"
      ]
     },
     "execution_count": 658,
     "metadata": {},
     "output_type": "execute_result"
    }
   ],
   "source": [
    "dfwd.columns"
   ]
  },
  {
   "cell_type": "code",
   "execution_count": 659,
   "metadata": {
    "collapsed": true
   },
   "outputs": [],
   "source": [
    "x = dfwd[['Healthy Schools Certified?', 'Safety Score', 'Environment Score', 'Instruction Score', 'Average Student Attendance', 'Rate of Misconducts (per 100 students) ', 'Average Teacher Attendance', 'Individualized Education Program Compliance Rate ', 'ES', 'HS', 'MS', 'Green', 'Red', 'Yellow', 'Blue', 'Orange', 'Purple']]  \n",
    "y = dfwd['probation']\n",
    "\n",
    "rfc = RandomForestClassifier()"
   ]
  },
  {
   "cell_type": "code",
   "execution_count": 660,
   "metadata": {
    "collapsed": true
   },
   "outputs": [],
   "source": [
    "x_train, x_test, y_train, y_test = train_test_split(x, y, test_size=0.4)"
   ]
  },
  {
   "cell_type": "code",
   "execution_count": 661,
   "metadata": {},
   "outputs": [
    {
     "data": {
      "text/plain": [
       "RandomForestClassifier(bootstrap=True, class_weight=None, criterion='gini',\n",
       "            max_depth=None, max_features='auto', max_leaf_nodes=None,\n",
       "            min_impurity_split=1e-07, min_samples_leaf=1,\n",
       "            min_samples_split=2, min_weight_fraction_leaf=0.0,\n",
       "            n_estimators=10, n_jobs=1, oob_score=False, random_state=None,\n",
       "            verbose=0, warm_start=False)"
      ]
     },
     "execution_count": 661,
     "metadata": {},
     "output_type": "execute_result"
    }
   ],
   "source": [
    "rfc.fit(x_train, y_train)"
   ]
  },
  {
   "cell_type": "code",
   "execution_count": 662,
   "metadata": {},
   "outputs": [
    {
     "data": {
      "text/plain": [
       "0.98453608247422686"
      ]
     },
     "execution_count": 662,
     "metadata": {},
     "output_type": "execute_result"
    }
   ],
   "source": [
    "rfc.score(x_train, y_train)"
   ]
  },
  {
   "cell_type": "code",
   "execution_count": 663,
   "metadata": {},
   "outputs": [
    {
     "data": {
      "text/plain": [
       "0.83846153846153848"
      ]
     },
     "execution_count": 663,
     "metadata": {},
     "output_type": "execute_result"
    }
   ],
   "source": [
    "rfc.score(x_test, y_test)"
   ]
  },
  {
   "cell_type": "code",
   "execution_count": 665,
   "metadata": {},
   "outputs": [
    {
     "data": {
      "text/plain": [
       "0.77692307692307694"
      ]
     },
     "execution_count": 665,
     "metadata": {},
     "output_type": "execute_result"
    }
   ],
   "source": [
    "parameters = [{'n_estimators': [10, 25, 50, 100, 500], 'max_depth': [2, 3, 5, 7, 9],\n",
    "                     'max_features': [0.25, 0.5, 0.75, 1.0]}]\n",
    "\n",
    "gridsearch = GridSearchCV(rfc, param_grid=parameters, cv=7, n_jobs=-1)\n",
    "\n",
    "gridsearch.fit(x_train,y_train)\n",
    "\n",
    "gridsearch.best_estimator_\n",
    "\n",
    "gridsearch.best_estimator_.fit(x_train, y_train) \n",
    "\n",
    "gridsearch.best_estimator_.score(x_train, y_train)\n",
    "\n",
    "gridsearch.best_estimator_.score(x_test, y_test)"
   ]
  },
  {
   "cell_type": "code",
   "execution_count": null,
   "metadata": {
    "collapsed": true
   },
   "outputs": [],
   "source": []
  }
 ],
 "metadata": {
  "kernelspec": {
   "display_name": "Python 2",
   "language": "python",
   "name": "python2"
  },
  "language_info": {
   "codemirror_mode": {
    "name": "ipython",
    "version": 2
   },
   "file_extension": ".py",
   "mimetype": "text/x-python",
   "name": "python",
   "nbconvert_exporter": "python",
   "pygments_lexer": "ipython2",
   "version": "2.7.13"
  }
 },
 "nbformat": 4,
 "nbformat_minor": 2
}
